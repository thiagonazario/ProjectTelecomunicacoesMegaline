{
 "cells": [
  {
   "cell_type": "markdown",
   "metadata": {},
   "source": [
    "Olá, Thiago!\n",
    "\n",
    "Meu nome é Luiz. Fico feliz em revisar seu projeto. Ao longo do texto farei algumas observações sobre melhorias no código e também farei comentários sobre suas percepções sobre o assunto. Estarei aberto a feedbacks e discussões sobre o tema.\n",
    "\n",
    "**Peço que mantenha e não altere os comentários que eu fizer por aqui para que possamos nos localizar posteriormente, ok?**\n",
    "\n",
    "Mais uma coisa, vamos utilizar um código de cores para você entender o meu feedback no seu notebook. Funciona assim:\n",
    "\n",
    "<div class=\"alert alert-block alert-success\">\n",
    "<b> Comentário do revisor: </b> <a class=\"tocSkip\"></a>\n",
    "\n",
    "Sucesso. Tudo foi feito corretamente.\n",
    "</div>\n",
    "\n",
    "<div class=\"alert alert-block alert-warning\">\n",
    "<b>Comentário do revisor: </b> <a class=\"tocSkip\"></a>\n",
    "\n",
    "Alerta não crítico, mas que pode ser corrigido para melhoria geral no seu código/análise.\n",
    "</div>\n",
    "\n",
    "<div class=\"alert alert-block alert-danger\">\n",
    "\n",
    "<b>Comentário do revisor v1 </b> <a class=\"tocSkip\"></a>\n",
    "    \n",
    "Erro que precisa ser arrumado, caso contrário seu projeto **não** será aceito.\n",
    "</div>\n",
    "\n",
    "Você pode me responder usando isso:\n",
    "<div class=\"alert alert-block alert-info\">\n",
    "<b>Resposta do Aluno.</b> <a class=\"tocSkip\"></a>\n",
    "</div>\n"
   ]
  },
  {
   "cell_type": "markdown",
   "metadata": {
    "id": "9Mlpe95zbRC_"
   },
   "source": [
    "# Qual é o melhor plano?\n",
    "\n",
    "Você trabalha como analista para a empresa de telecomunicações Megaline. A empresa oferece aos seus cliente planos pré-pagos, Surf e Ultimate. O departamento comercial quer saber quais dos planos dão mais receita para ajustar o orçamento de publicidade.\n",
    "\n",
    "Você vai realizar uma primeira análise dos planos baseados em uma pequena seleção de clientes. Você terá dados de 500 clientes da Megaline: que clientes são, de onde eles são, qual plano usam, o número de chamadas que eles fizeram e mensagens que eles enviaram em 2018. O seu trabalho é analisar o comportamento dos clientes e determinar quais planos pré-pagos dão mais receita."
   ]
  },
  {
   "cell_type": "markdown",
   "metadata": {
    "id": "ZyU2FP2NbRDD"
   },
   "source": [
    "## Iniciando Lab"
   ]
  },
  {
   "cell_type": "code",
   "execution_count": 1,
   "metadata": {
    "id": "n4B66AbPbRDD"
   },
   "outputs": [],
   "source": [
    "# Carregando todas as bibliotecas\n",
    "import pandas as pd\n",
    "import numpy as np\n",
    "import matplotlib.pyplot as plt\n",
    "import seaborn as sns\n",
    "from scipy import stats as st\n",
    "\n",
    "# paleta de cores\n",
    "cores_personalizadas = [\"#005666\", \"#181f4c\", \"#60bcc6\", \"#8e0000\", \"#ffffff\"]\n",
    "sns.set_palette(cores_personalizadas)\n",
    "sns.set_palette(sns.color_palette(cores_personalizadas))"
   ]
  },
  {
   "cell_type": "code",
   "execution_count": 2,
   "metadata": {
    "colab": {
     "base_uri": "https://localhost:8080/"
    },
    "id": "AEkGNlJBeVwV",
    "outputId": "f2017979-a747-4493-aaa6-b22db4ead3d5"
   },
   "outputs": [
    {
     "data": {
      "text/plain": [
       "\"\\n# montando drive do google colab\\nfrom google.colab import drive\\ndrive.mount('/content/drive')\\n\""
      ]
     },
     "execution_count": 2,
     "metadata": {},
     "output_type": "execute_result"
    }
   ],
   "source": [
    "# montando meu drive no colab\n",
    "'''\n",
    "# montando drive do google colab\n",
    "from google.colab import drive\n",
    "drive.mount('/content/drive')\n",
    "'''"
   ]
  },
  {
   "cell_type": "code",
   "execution_count": 3,
   "metadata": {},
   "outputs": [
    {
     "data": {
      "text/plain": [
       "\"\\ndf_calls = pd.read_csv('/datasets/megaline_calls.csv')\\ndf_internet = pd.read_csv('/datasets/megaline_internet.csv')\\ndf_messages = pd.read_csv('/datasets/megaline_messages.csv')\\ndf_plans = pd.read_csv('/datasets/megaline_plans.csv')\\ndf_users = pd.read_csv('/datasets/megaline_users.csv')\\n\""
      ]
     },
     "execution_count": 3,
     "metadata": {},
     "output_type": "execute_result"
    }
   ],
   "source": [
    "# para uso da triple ten\n",
    "'''\n",
    "df_calls = pd.read_csv('/datasets/megaline_calls.csv')\n",
    "df_internet = pd.read_csv('/datasets/megaline_internet.csv')\n",
    "df_messages = pd.read_csv('/datasets/megaline_messages.csv')\n",
    "df_plans = pd.read_csv('/datasets/megaline_plans.csv')\n",
    "df_users = pd.read_csv('/datasets/megaline_users.csv')\n",
    "'''"
   ]
  },
  {
   "cell_type": "markdown",
   "metadata": {
    "id": "ZrM0YSytbRDE"
   },
   "source": [
    "\n",
    "## Carregando dados"
   ]
  },
  {
   "cell_type": "code",
   "execution_count": 4,
   "metadata": {
    "id": "1nwgE-BFbRDE"
   },
   "outputs": [],
   "source": [
    "# Carregando os arquivos de dados em diferentes DataFrames\n",
    "try:\n",
    "    df_users = pd.read_csv('C:/my_workspace/triple_ten/project4/data/megaline_users.csv')\n",
    "    df_plans = pd.read_csv('C:/my_workspace/triple_ten/project4/data/megaline_plans.csv')\n",
    "    df_messages = pd.read_csv('C:/my_workspace/triple_ten/project4/data/megaline_messages.csv')\n",
    "    df_internet = pd.read_csv('C:/my_workspace/triple_ten/project4/data/megaline_internet.csv')\n",
    "    df_calls = pd.read_csv('C:/my_workspace/triple_ten/project4/data/megaline_calls.csv')\n",
    "except:\n",
    "    df_users = pd.read_csv('/content/drive/MyDrive/1drive_colab/megaline_users.csv')\n",
    "    df_plans = pd.read_csv('/content/drive/MyDrive/1drive_colab/megaline_plans.csv')\n",
    "    df_messages = pd.read_csv('/content/drive/MyDrive/1drive_colab/megaline_messages.csv')\n",
    "    df_internet = pd.read_csv('/content/drive/MyDrive/1drive_colab/megaline_internet.csv')\n",
    "    df_calls = pd.read_csv('/content/drive/MyDrive/1drive_colab/megaline_calls.csv')"
   ]
  },
  {
   "cell_type": "markdown",
   "metadata": {},
   "source": [
    "<div class=\"alert alert-block alert-success\">\n",
    "<b> Comentário do revisor: </b> <a class=\"tocSkip\"></a>\n",
    "\n",
    "Correto! O estudante carregou corretamente os conjuntos de dados.\n",
    "</div>"
   ]
  },
  {
   "cell_type": "markdown",
   "metadata": {
    "id": "uFpdNuirBZvv"
   },
   "source": [
    "## Informações gerais"
   ]
  },
  {
   "cell_type": "markdown",
   "metadata": {
    "id": "7dqlAPSBbRDH"
   },
   "source": [
    "## Usuários"
   ]
  },
  {
   "cell_type": "markdown",
   "metadata": {
    "id": "CNriSjz7EBEz"
   },
   "source": [
    "### Explorando df_users."
   ]
  },
  {
   "cell_type": "code",
   "execution_count": 5,
   "metadata": {
    "colab": {
     "base_uri": "https://localhost:8080/"
    },
    "id": "qhc0V3kBEOqX",
    "outputId": "516ddd5d-6ca5-43d8-e948-a4f3148d25ff"
   },
   "outputs": [
    {
     "data": {
      "text/plain": [
       "Index(['user_id', 'first_name', 'last_name', 'age', 'city', 'reg_date', 'plan',\n",
       "       'churn_date'],\n",
       "      dtype='object')"
      ]
     },
     "execution_count": 5,
     "metadata": {},
     "output_type": "execute_result"
    }
   ],
   "source": [
    "# verificando nomes das colunas\n",
    "df_users.columns"
   ]
  },
  {
   "cell_type": "code",
   "execution_count": 6,
   "metadata": {
    "colab": {
     "base_uri": "https://localhost:8080/"
    },
    "id": "Z9F-1CB_YMAl",
    "outputId": "17e3d555-e773-44b8-f133-ab48878fe26a"
   },
   "outputs": [
    {
     "data": {
      "text/plain": [
       "(500, 8)"
      ]
     },
     "execution_count": 6,
     "metadata": {},
     "output_type": "execute_result"
    }
   ],
   "source": [
    "# tamanho\n",
    "df_users.shape"
   ]
  },
  {
   "cell_type": "code",
   "execution_count": 7,
   "metadata": {
    "colab": {
     "base_uri": "https://localhost:8080/",
     "height": 300
    },
    "id": "kXy4b02ZYUZu",
    "outputId": "dc9aeef8-7065-4949-99ac-e5ea1e990009"
   },
   "outputs": [
    {
     "data": {
      "text/html": [
       "<div>\n",
       "<style scoped>\n",
       "    .dataframe tbody tr th:only-of-type {\n",
       "        vertical-align: middle;\n",
       "    }\n",
       "\n",
       "    .dataframe tbody tr th {\n",
       "        vertical-align: top;\n",
       "    }\n",
       "\n",
       "    .dataframe thead th {\n",
       "        text-align: right;\n",
       "    }\n",
       "</style>\n",
       "<table border=\"1\" class=\"dataframe\">\n",
       "  <thead>\n",
       "    <tr style=\"text-align: right;\">\n",
       "      <th></th>\n",
       "      <th>user_id</th>\n",
       "      <th>age</th>\n",
       "    </tr>\n",
       "  </thead>\n",
       "  <tbody>\n",
       "    <tr>\n",
       "      <th>count</th>\n",
       "      <td>500.000000</td>\n",
       "      <td>500.000000</td>\n",
       "    </tr>\n",
       "    <tr>\n",
       "      <th>mean</th>\n",
       "      <td>1249.500000</td>\n",
       "      <td>45.486000</td>\n",
       "    </tr>\n",
       "    <tr>\n",
       "      <th>std</th>\n",
       "      <td>144.481833</td>\n",
       "      <td>16.972269</td>\n",
       "    </tr>\n",
       "    <tr>\n",
       "      <th>min</th>\n",
       "      <td>1000.000000</td>\n",
       "      <td>18.000000</td>\n",
       "    </tr>\n",
       "    <tr>\n",
       "      <th>25%</th>\n",
       "      <td>1124.750000</td>\n",
       "      <td>30.000000</td>\n",
       "    </tr>\n",
       "    <tr>\n",
       "      <th>50%</th>\n",
       "      <td>1249.500000</td>\n",
       "      <td>46.000000</td>\n",
       "    </tr>\n",
       "    <tr>\n",
       "      <th>75%</th>\n",
       "      <td>1374.250000</td>\n",
       "      <td>61.000000</td>\n",
       "    </tr>\n",
       "    <tr>\n",
       "      <th>max</th>\n",
       "      <td>1499.000000</td>\n",
       "      <td>75.000000</td>\n",
       "    </tr>\n",
       "  </tbody>\n",
       "</table>\n",
       "</div>"
      ],
      "text/plain": [
       "           user_id         age\n",
       "count   500.000000  500.000000\n",
       "mean   1249.500000   45.486000\n",
       "std     144.481833   16.972269\n",
       "min    1000.000000   18.000000\n",
       "25%    1124.750000   30.000000\n",
       "50%    1249.500000   46.000000\n",
       "75%    1374.250000   61.000000\n",
       "max    1499.000000   75.000000"
      ]
     },
     "execution_count": 7,
     "metadata": {},
     "output_type": "execute_result"
    }
   ],
   "source": [
    "# descrição\n",
    "df_users.describe()"
   ]
  },
  {
   "cell_type": "code",
   "execution_count": 8,
   "metadata": {
    "colab": {
     "base_uri": "https://localhost:8080/"
    },
    "id": "437uPdXaY1cm",
    "outputId": "e58ddb60-249a-43fa-86a6-4b5e4f2d8539"
   },
   "outputs": [
    {
     "name": "stdout",
     "output_type": "stream",
     "text": [
      "<class 'pandas.core.frame.DataFrame'>\n",
      "RangeIndex: 500 entries, 0 to 499\n",
      "Data columns (total 8 columns):\n",
      " #   Column      Non-Null Count  Dtype \n",
      "---  ------      --------------  ----- \n",
      " 0   user_id     500 non-null    int64 \n",
      " 1   first_name  500 non-null    object\n",
      " 2   last_name   500 non-null    object\n",
      " 3   age         500 non-null    int64 \n",
      " 4   city        500 non-null    object\n",
      " 5   reg_date    500 non-null    object\n",
      " 6   plan        500 non-null    object\n",
      " 7   churn_date  34 non-null     object\n",
      "dtypes: int64(2), object(6)\n",
      "memory usage: 31.4+ KB\n"
     ]
    }
   ],
   "source": [
    "# informações gerais\n",
    "df_users.info()"
   ]
  },
  {
   "cell_type": "code",
   "execution_count": 9,
   "metadata": {
    "colab": {
     "base_uri": "https://localhost:8080/",
     "height": 206
    },
    "id": "gVb-V2rRY-0_",
    "outputId": "8827b70f-c4b3-45d0-a785-196a5e04af55"
   },
   "outputs": [
    {
     "data": {
      "text/html": [
       "<div>\n",
       "<style scoped>\n",
       "    .dataframe tbody tr th:only-of-type {\n",
       "        vertical-align: middle;\n",
       "    }\n",
       "\n",
       "    .dataframe tbody tr th {\n",
       "        vertical-align: top;\n",
       "    }\n",
       "\n",
       "    .dataframe thead th {\n",
       "        text-align: right;\n",
       "    }\n",
       "</style>\n",
       "<table border=\"1\" class=\"dataframe\">\n",
       "  <thead>\n",
       "    <tr style=\"text-align: right;\">\n",
       "      <th></th>\n",
       "      <th>user_id</th>\n",
       "      <th>first_name</th>\n",
       "      <th>last_name</th>\n",
       "      <th>age</th>\n",
       "      <th>city</th>\n",
       "      <th>reg_date</th>\n",
       "      <th>plan</th>\n",
       "      <th>churn_date</th>\n",
       "    </tr>\n",
       "  </thead>\n",
       "  <tbody>\n",
       "    <tr>\n",
       "      <th>0</th>\n",
       "      <td>1000</td>\n",
       "      <td>Anamaria</td>\n",
       "      <td>Bauer</td>\n",
       "      <td>45</td>\n",
       "      <td>Atlanta-Sandy Springs-Roswell, GA MSA</td>\n",
       "      <td>2018-12-24</td>\n",
       "      <td>ultimate</td>\n",
       "      <td>NaN</td>\n",
       "    </tr>\n",
       "    <tr>\n",
       "      <th>1</th>\n",
       "      <td>1001</td>\n",
       "      <td>Mickey</td>\n",
       "      <td>Wilkerson</td>\n",
       "      <td>28</td>\n",
       "      <td>Seattle-Tacoma-Bellevue, WA MSA</td>\n",
       "      <td>2018-08-13</td>\n",
       "      <td>surf</td>\n",
       "      <td>NaN</td>\n",
       "    </tr>\n",
       "    <tr>\n",
       "      <th>2</th>\n",
       "      <td>1002</td>\n",
       "      <td>Carlee</td>\n",
       "      <td>Hoffman</td>\n",
       "      <td>36</td>\n",
       "      <td>Las Vegas-Henderson-Paradise, NV MSA</td>\n",
       "      <td>2018-10-21</td>\n",
       "      <td>surf</td>\n",
       "      <td>NaN</td>\n",
       "    </tr>\n",
       "    <tr>\n",
       "      <th>3</th>\n",
       "      <td>1003</td>\n",
       "      <td>Reynaldo</td>\n",
       "      <td>Jenkins</td>\n",
       "      <td>52</td>\n",
       "      <td>Tulsa, OK MSA</td>\n",
       "      <td>2018-01-28</td>\n",
       "      <td>surf</td>\n",
       "      <td>NaN</td>\n",
       "    </tr>\n",
       "    <tr>\n",
       "      <th>4</th>\n",
       "      <td>1004</td>\n",
       "      <td>Leonila</td>\n",
       "      <td>Thompson</td>\n",
       "      <td>40</td>\n",
       "      <td>Seattle-Tacoma-Bellevue, WA MSA</td>\n",
       "      <td>2018-05-23</td>\n",
       "      <td>surf</td>\n",
       "      <td>NaN</td>\n",
       "    </tr>\n",
       "  </tbody>\n",
       "</table>\n",
       "</div>"
      ],
      "text/plain": [
       "   user_id first_name  last_name  age                                   city  \\\n",
       "0     1000   Anamaria      Bauer   45  Atlanta-Sandy Springs-Roswell, GA MSA   \n",
       "1     1001     Mickey  Wilkerson   28        Seattle-Tacoma-Bellevue, WA MSA   \n",
       "2     1002     Carlee    Hoffman   36   Las Vegas-Henderson-Paradise, NV MSA   \n",
       "3     1003   Reynaldo    Jenkins   52                          Tulsa, OK MSA   \n",
       "4     1004    Leonila   Thompson   40        Seattle-Tacoma-Bellevue, WA MSA   \n",
       "\n",
       "     reg_date      plan churn_date  \n",
       "0  2018-12-24  ultimate        NaN  \n",
       "1  2018-08-13      surf        NaN  \n",
       "2  2018-10-21      surf        NaN  \n",
       "3  2018-01-28      surf        NaN  \n",
       "4  2018-05-23      surf        NaN  "
      ]
     },
     "execution_count": 9,
     "metadata": {},
     "output_type": "execute_result"
    }
   ],
   "source": [
    "# cabeçalho\n",
    "df_users.head()"
   ]
  },
  {
   "cell_type": "code",
   "execution_count": 10,
   "metadata": {},
   "outputs": [
    {
     "data": {
      "text/html": [
       "<div>\n",
       "<style scoped>\n",
       "    .dataframe tbody tr th:only-of-type {\n",
       "        vertical-align: middle;\n",
       "    }\n",
       "\n",
       "    .dataframe tbody tr th {\n",
       "        vertical-align: top;\n",
       "    }\n",
       "\n",
       "    .dataframe thead th {\n",
       "        text-align: right;\n",
       "    }\n",
       "</style>\n",
       "<table border=\"1\" class=\"dataframe\">\n",
       "  <thead>\n",
       "    <tr style=\"text-align: right;\">\n",
       "      <th></th>\n",
       "      <th>user_id</th>\n",
       "      <th>first_name</th>\n",
       "      <th>last_name</th>\n",
       "      <th>age</th>\n",
       "      <th>city</th>\n",
       "      <th>reg_date</th>\n",
       "      <th>plan</th>\n",
       "      <th>churn_date</th>\n",
       "    </tr>\n",
       "  </thead>\n",
       "  <tbody>\n",
       "    <tr>\n",
       "      <th>140</th>\n",
       "      <td>1140</td>\n",
       "      <td>Randolph</td>\n",
       "      <td>Graves</td>\n",
       "      <td>53</td>\n",
       "      <td>New York-Newark-Jersey City, NY-NJ-PA MSA</td>\n",
       "      <td>2018-03-26</td>\n",
       "      <td>surf</td>\n",
       "      <td>NaN</td>\n",
       "    </tr>\n",
       "    <tr>\n",
       "      <th>210</th>\n",
       "      <td>1210</td>\n",
       "      <td>Shanae</td>\n",
       "      <td>Carrillo</td>\n",
       "      <td>30</td>\n",
       "      <td>Oklahoma City, OK MSA</td>\n",
       "      <td>2018-06-01</td>\n",
       "      <td>surf</td>\n",
       "      <td>NaN</td>\n",
       "    </tr>\n",
       "    <tr>\n",
       "      <th>157</th>\n",
       "      <td>1157</td>\n",
       "      <td>Luciano</td>\n",
       "      <td>Sheppard</td>\n",
       "      <td>63</td>\n",
       "      <td>Los Angeles-Long Beach-Anaheim, CA MSA</td>\n",
       "      <td>2018-07-02</td>\n",
       "      <td>surf</td>\n",
       "      <td>NaN</td>\n",
       "    </tr>\n",
       "    <tr>\n",
       "      <th>366</th>\n",
       "      <td>1366</td>\n",
       "      <td>Rod</td>\n",
       "      <td>Huff</td>\n",
       "      <td>62</td>\n",
       "      <td>Cincinnati, OH-KY-IN MSA</td>\n",
       "      <td>2018-07-30</td>\n",
       "      <td>surf</td>\n",
       "      <td>NaN</td>\n",
       "    </tr>\n",
       "    <tr>\n",
       "      <th>308</th>\n",
       "      <td>1308</td>\n",
       "      <td>Samara</td>\n",
       "      <td>Monroe</td>\n",
       "      <td>46</td>\n",
       "      <td>Virginia Beach-Norfolk-Newport News, VA-NC MSA</td>\n",
       "      <td>2018-11-22</td>\n",
       "      <td>surf</td>\n",
       "      <td>NaN</td>\n",
       "    </tr>\n",
       "    <tr>\n",
       "      <th>11</th>\n",
       "      <td>1011</td>\n",
       "      <td>Halina</td>\n",
       "      <td>Henry</td>\n",
       "      <td>73</td>\n",
       "      <td>Cleveland-Elyria, OH MSA</td>\n",
       "      <td>2018-01-18</td>\n",
       "      <td>ultimate</td>\n",
       "      <td>NaN</td>\n",
       "    </tr>\n",
       "    <tr>\n",
       "      <th>410</th>\n",
       "      <td>1410</td>\n",
       "      <td>Wendell</td>\n",
       "      <td>Lloyd</td>\n",
       "      <td>46</td>\n",
       "      <td>Los Angeles-Long Beach-Anaheim, CA MSA</td>\n",
       "      <td>2018-10-06</td>\n",
       "      <td>surf</td>\n",
       "      <td>NaN</td>\n",
       "    </tr>\n",
       "    <tr>\n",
       "      <th>335</th>\n",
       "      <td>1335</td>\n",
       "      <td>Gail</td>\n",
       "      <td>Coleman</td>\n",
       "      <td>61</td>\n",
       "      <td>Dallas-Fort Worth-Arlington, TX MSA</td>\n",
       "      <td>2018-06-02</td>\n",
       "      <td>surf</td>\n",
       "      <td>NaN</td>\n",
       "    </tr>\n",
       "    <tr>\n",
       "      <th>443</th>\n",
       "      <td>1443</td>\n",
       "      <td>Genaro</td>\n",
       "      <td>Quinn</td>\n",
       "      <td>58</td>\n",
       "      <td>Atlanta-Sandy Springs-Roswell, GA MSA</td>\n",
       "      <td>2018-03-11</td>\n",
       "      <td>surf</td>\n",
       "      <td>NaN</td>\n",
       "    </tr>\n",
       "    <tr>\n",
       "      <th>279</th>\n",
       "      <td>1279</td>\n",
       "      <td>Neal</td>\n",
       "      <td>Duke</td>\n",
       "      <td>27</td>\n",
       "      <td>Baton Rouge, LA MSA</td>\n",
       "      <td>2018-02-05</td>\n",
       "      <td>ultimate</td>\n",
       "      <td>NaN</td>\n",
       "    </tr>\n",
       "    <tr>\n",
       "      <th>497</th>\n",
       "      <td>1497</td>\n",
       "      <td>Donte</td>\n",
       "      <td>Barrera</td>\n",
       "      <td>49</td>\n",
       "      <td>Los Angeles-Long Beach-Anaheim, CA MSA</td>\n",
       "      <td>2018-12-10</td>\n",
       "      <td>ultimate</td>\n",
       "      <td>NaN</td>\n",
       "    </tr>\n",
       "    <tr>\n",
       "      <th>374</th>\n",
       "      <td>1374</td>\n",
       "      <td>Ching</td>\n",
       "      <td>Watts</td>\n",
       "      <td>55</td>\n",
       "      <td>Louisville/Jefferson County, KY-IN MSA</td>\n",
       "      <td>2018-02-14</td>\n",
       "      <td>surf</td>\n",
       "      <td>NaN</td>\n",
       "    </tr>\n",
       "    <tr>\n",
       "      <th>104</th>\n",
       "      <td>1104</td>\n",
       "      <td>Thurman</td>\n",
       "      <td>Stephens</td>\n",
       "      <td>20</td>\n",
       "      <td>Chicago-Naperville-Elgin, IL-IN-WI MSA</td>\n",
       "      <td>2018-12-23</td>\n",
       "      <td>ultimate</td>\n",
       "      <td>NaN</td>\n",
       "    </tr>\n",
       "    <tr>\n",
       "      <th>156</th>\n",
       "      <td>1156</td>\n",
       "      <td>Anette</td>\n",
       "      <td>Chambers</td>\n",
       "      <td>71</td>\n",
       "      <td>Albuquerque, NM MSA</td>\n",
       "      <td>2018-03-25</td>\n",
       "      <td>surf</td>\n",
       "      <td>NaN</td>\n",
       "    </tr>\n",
       "    <tr>\n",
       "      <th>358</th>\n",
       "      <td>1358</td>\n",
       "      <td>Vaughn</td>\n",
       "      <td>Maldonado</td>\n",
       "      <td>20</td>\n",
       "      <td>New York-Newark-Jersey City, NY-NJ-PA MSA</td>\n",
       "      <td>2018-04-26</td>\n",
       "      <td>surf</td>\n",
       "      <td>2018-10-22</td>\n",
       "    </tr>\n",
       "  </tbody>\n",
       "</table>\n",
       "</div>"
      ],
      "text/plain": [
       "     user_id first_name  last_name  age  \\\n",
       "140     1140   Randolph     Graves   53   \n",
       "210     1210     Shanae   Carrillo   30   \n",
       "157     1157    Luciano   Sheppard   63   \n",
       "366     1366        Rod       Huff   62   \n",
       "308     1308     Samara     Monroe   46   \n",
       "11      1011     Halina      Henry   73   \n",
       "410     1410    Wendell      Lloyd   46   \n",
       "335     1335       Gail    Coleman   61   \n",
       "443     1443     Genaro      Quinn   58   \n",
       "279     1279       Neal       Duke   27   \n",
       "497     1497      Donte    Barrera   49   \n",
       "374     1374      Ching      Watts   55   \n",
       "104     1104    Thurman   Stephens   20   \n",
       "156     1156     Anette   Chambers   71   \n",
       "358     1358     Vaughn  Maldonado   20   \n",
       "\n",
       "                                               city    reg_date      plan  \\\n",
       "140       New York-Newark-Jersey City, NY-NJ-PA MSA  2018-03-26      surf   \n",
       "210                           Oklahoma City, OK MSA  2018-06-01      surf   \n",
       "157          Los Angeles-Long Beach-Anaheim, CA MSA  2018-07-02      surf   \n",
       "366                        Cincinnati, OH-KY-IN MSA  2018-07-30      surf   \n",
       "308  Virginia Beach-Norfolk-Newport News, VA-NC MSA  2018-11-22      surf   \n",
       "11                         Cleveland-Elyria, OH MSA  2018-01-18  ultimate   \n",
       "410          Los Angeles-Long Beach-Anaheim, CA MSA  2018-10-06      surf   \n",
       "335             Dallas-Fort Worth-Arlington, TX MSA  2018-06-02      surf   \n",
       "443           Atlanta-Sandy Springs-Roswell, GA MSA  2018-03-11      surf   \n",
       "279                             Baton Rouge, LA MSA  2018-02-05  ultimate   \n",
       "497          Los Angeles-Long Beach-Anaheim, CA MSA  2018-12-10  ultimate   \n",
       "374          Louisville/Jefferson County, KY-IN MSA  2018-02-14      surf   \n",
       "104          Chicago-Naperville-Elgin, IL-IN-WI MSA  2018-12-23  ultimate   \n",
       "156                             Albuquerque, NM MSA  2018-03-25      surf   \n",
       "358       New York-Newark-Jersey City, NY-NJ-PA MSA  2018-04-26      surf   \n",
       "\n",
       "     churn_date  \n",
       "140         NaN  \n",
       "210         NaN  \n",
       "157         NaN  \n",
       "366         NaN  \n",
       "308         NaN  \n",
       "11          NaN  \n",
       "410         NaN  \n",
       "335         NaN  \n",
       "443         NaN  \n",
       "279         NaN  \n",
       "497         NaN  \n",
       "374         NaN  \n",
       "104         NaN  \n",
       "156         NaN  \n",
       "358  2018-10-22  "
      ]
     },
     "execution_count": 10,
     "metadata": {},
     "output_type": "execute_result"
    }
   ],
   "source": [
    "# sample\n",
    "df_users.sample(15)"
   ]
  },
  {
   "cell_type": "code",
   "execution_count": 11,
   "metadata": {
    "colab": {
     "base_uri": "https://localhost:8080/",
     "height": 206
    },
    "id": "tmX6EAE4ZLN8",
    "outputId": "e79df355-9dce-4964-9a06-e8b79e34af1e"
   },
   "outputs": [
    {
     "data": {
      "text/html": [
       "<div>\n",
       "<style scoped>\n",
       "    .dataframe tbody tr th:only-of-type {\n",
       "        vertical-align: middle;\n",
       "    }\n",
       "\n",
       "    .dataframe tbody tr th {\n",
       "        vertical-align: top;\n",
       "    }\n",
       "\n",
       "    .dataframe thead th {\n",
       "        text-align: right;\n",
       "    }\n",
       "</style>\n",
       "<table border=\"1\" class=\"dataframe\">\n",
       "  <thead>\n",
       "    <tr style=\"text-align: right;\">\n",
       "      <th></th>\n",
       "      <th>user_id</th>\n",
       "      <th>first_name</th>\n",
       "      <th>last_name</th>\n",
       "      <th>age</th>\n",
       "      <th>city</th>\n",
       "      <th>reg_date</th>\n",
       "      <th>plan</th>\n",
       "      <th>churn_date</th>\n",
       "    </tr>\n",
       "  </thead>\n",
       "  <tbody>\n",
       "    <tr>\n",
       "      <th>495</th>\n",
       "      <td>1495</td>\n",
       "      <td>Fidel</td>\n",
       "      <td>Sharpe</td>\n",
       "      <td>67</td>\n",
       "      <td>New York-Newark-Jersey City, NY-NJ-PA MSA</td>\n",
       "      <td>2018-09-04</td>\n",
       "      <td>surf</td>\n",
       "      <td>NaN</td>\n",
       "    </tr>\n",
       "    <tr>\n",
       "      <th>496</th>\n",
       "      <td>1496</td>\n",
       "      <td>Ariel</td>\n",
       "      <td>Shepherd</td>\n",
       "      <td>49</td>\n",
       "      <td>New Orleans-Metairie, LA MSA</td>\n",
       "      <td>2018-02-20</td>\n",
       "      <td>surf</td>\n",
       "      <td>NaN</td>\n",
       "    </tr>\n",
       "    <tr>\n",
       "      <th>497</th>\n",
       "      <td>1497</td>\n",
       "      <td>Donte</td>\n",
       "      <td>Barrera</td>\n",
       "      <td>49</td>\n",
       "      <td>Los Angeles-Long Beach-Anaheim, CA MSA</td>\n",
       "      <td>2018-12-10</td>\n",
       "      <td>ultimate</td>\n",
       "      <td>NaN</td>\n",
       "    </tr>\n",
       "    <tr>\n",
       "      <th>498</th>\n",
       "      <td>1498</td>\n",
       "      <td>Scot</td>\n",
       "      <td>Williamson</td>\n",
       "      <td>51</td>\n",
       "      <td>New York-Newark-Jersey City, NY-NJ-PA MSA</td>\n",
       "      <td>2018-02-04</td>\n",
       "      <td>surf</td>\n",
       "      <td>NaN</td>\n",
       "    </tr>\n",
       "    <tr>\n",
       "      <th>499</th>\n",
       "      <td>1499</td>\n",
       "      <td>Shena</td>\n",
       "      <td>Dickson</td>\n",
       "      <td>37</td>\n",
       "      <td>Orlando-Kissimmee-Sanford, FL MSA</td>\n",
       "      <td>2018-05-06</td>\n",
       "      <td>surf</td>\n",
       "      <td>NaN</td>\n",
       "    </tr>\n",
       "  </tbody>\n",
       "</table>\n",
       "</div>"
      ],
      "text/plain": [
       "     user_id first_name   last_name  age  \\\n",
       "495     1495      Fidel      Sharpe   67   \n",
       "496     1496      Ariel    Shepherd   49   \n",
       "497     1497      Donte     Barrera   49   \n",
       "498     1498       Scot  Williamson   51   \n",
       "499     1499      Shena     Dickson   37   \n",
       "\n",
       "                                          city    reg_date      plan  \\\n",
       "495  New York-Newark-Jersey City, NY-NJ-PA MSA  2018-09-04      surf   \n",
       "496               New Orleans-Metairie, LA MSA  2018-02-20      surf   \n",
       "497     Los Angeles-Long Beach-Anaheim, CA MSA  2018-12-10  ultimate   \n",
       "498  New York-Newark-Jersey City, NY-NJ-PA MSA  2018-02-04      surf   \n",
       "499          Orlando-Kissimmee-Sanford, FL MSA  2018-05-06      surf   \n",
       "\n",
       "    churn_date  \n",
       "495        NaN  \n",
       "496        NaN  \n",
       "497        NaN  \n",
       "498        NaN  \n",
       "499        NaN  "
      ]
     },
     "execution_count": 11,
     "metadata": {},
     "output_type": "execute_result"
    }
   ],
   "source": [
    "# rodapé\n",
    "df_users.tail()"
   ]
  },
  {
   "cell_type": "code",
   "execution_count": 12,
   "metadata": {
    "colab": {
     "base_uri": "https://localhost:8080/"
    },
    "id": "XrRe1xjUZSQl",
    "outputId": "811e0507-bfe0-4119-c03d-dc1621d0d8ba"
   },
   "outputs": [
    {
     "data": {
      "text/plain": [
       "0"
      ]
     },
     "execution_count": 12,
     "metadata": {},
     "output_type": "execute_result"
    }
   ],
   "source": [
    "# duplicados?\n",
    "df_users.duplicated().sum()"
   ]
  },
  {
   "cell_type": "code",
   "execution_count": 13,
   "metadata": {
    "colab": {
     "base_uri": "https://localhost:8080/"
    },
    "id": "8MXtKkWFZmu_",
    "outputId": "531a1a59-918b-4754-d7ac-cb464ee1dced"
   },
   "outputs": [
    {
     "data": {
      "text/plain": [
       "user_id         0\n",
       "first_name      0\n",
       "last_name       0\n",
       "age             0\n",
       "city            0\n",
       "reg_date        0\n",
       "plan            0\n",
       "churn_date    466\n",
       "dtype: int64"
      ]
     },
     "execution_count": 13,
     "metadata": {},
     "output_type": "execute_result"
    }
   ],
   "source": [
    "# procurando por nulos\n",
    "df_users.isna().sum()"
   ]
  },
  {
   "cell_type": "code",
   "execution_count": 14,
   "metadata": {},
   "outputs": [
    {
     "data": {
      "text/plain": [
       "0   2018-12-24\n",
       "1   2018-08-13\n",
       "2   2018-10-21\n",
       "3   2018-01-28\n",
       "4   2018-05-23\n",
       "Name: reg_date, dtype: datetime64[ns]"
      ]
     },
     "execution_count": 14,
     "metadata": {},
     "output_type": "execute_result"
    }
   ],
   "source": [
    "# transformando reg_date para date\n",
    "df_users['reg_date'] = pd.to_datetime(df_users['reg_date'], format='%Y-%m-%d')\n",
    "# conferindo\n",
    "df_users['reg_date'].head()"
   ]
  },
  {
   "cell_type": "code",
   "execution_count": 15,
   "metadata": {
    "colab": {
     "base_uri": "https://localhost:8080/"
    },
    "id": "VRWKMgMSZxOE",
    "outputId": "71a097ba-2840-4b10-b5d6-5ff2918cd602"
   },
   "outputs": [
    {
     "data": {
      "text/plain": [
       "surf        0.678\n",
       "ultimate    0.322\n",
       "Name: plan, dtype: float64"
      ]
     },
     "execution_count": 15,
     "metadata": {},
     "output_type": "execute_result"
    }
   ],
   "source": [
    "# mais informações\n",
    "df_users['plan'].value_counts(normalize=True)"
   ]
  },
  {
   "cell_type": "markdown",
   "metadata": {},
   "source": [
    "<div class=\"alert alert-block alert-warning\">\n",
    "<b> Comentário do revisor: </b> <a class=\"tocSkip\"></a>\n",
    "\n",
    "Sugiro não executar o método `value_counts()` em todo o conjunto de dados e sim quando você tiver a intenção de estudar a distribuição de um atributo específico, pois ele será mais informativo. Exemplo:\n",
    "        \n",
    "        df_users['plan'].value_counts(normalize=True)\n",
    "</div>"
   ]
  },
  {
   "cell_type": "markdown",
   "metadata": {},
   "source": [
    "<div class=\"alert alert-block alert-info\">\n",
    "<b>Comentário do Aluno.</b> <a class=\"tocSkip\"></a>\n",
    "\n",
    "Entendi o seu comentário aqui e usarei a sua sugestão nos meus próximos notebooks. Obrigado!\n",
    "\n",
    "</div>"
   ]
  },
  {
   "cell_type": "markdown",
   "metadata": {},
   "source": [
    "<div class=\"alert alert-block alert-success\">\n",
    "<b> Comentário do revisor v2</b> <a class=\"tocSkip\"></a>\n",
    "\n",
    "Perfeito!\n",
    "</div>"
   ]
  },
  {
   "cell_type": "markdown",
   "metadata": {},
   "source": [
    "<div class=\"alert alert-block alert-success\">\n",
    "<b> Comentário do revisor: </b> <a class=\"tocSkip\"></a>\n",
    "\n",
    "Correto. O estudante executou corretamente as seguintes etapas:\n",
    "- Analisou informações iniciais dos conjuntos de dados\n",
    "- Verificou a existência de dados duplicados\n",
    "- Transformou o tipo de dados das variáveis\n",
    "</div>"
   ]
  },
  {
   "cell_type": "markdown",
   "metadata": {},
   "source": [
    "### Criando coluna exited em df_users."
   ]
  },
  {
   "cell_type": "code",
   "execution_count": 16,
   "metadata": {},
   "outputs": [
    {
     "data": {
      "text/plain": [
       "user_id       34\n",
       "first_name    34\n",
       "last_name     34\n",
       "age           34\n",
       "city          34\n",
       "reg_date      34\n",
       "plan          34\n",
       "churn_date    34\n",
       "exited        34\n",
       "dtype: int64"
      ]
     },
     "execution_count": 16,
     "metadata": {},
     "output_type": "execute_result"
    }
   ],
   "source": [
    "# criando coluna exited\n",
    "df_users['exited'] = np.where(df_users['churn_date'].isna(), 0, 1)\n",
    "# verificando...\n",
    "df_users.loc[df_users['exited'] == 1].count()"
   ]
  },
  {
   "cell_type": "code",
   "execution_count": 17,
   "metadata": {},
   "outputs": [
    {
     "name": "stdout",
     "output_type": "stream",
     "text": [
      "6.8 % dos 500 clientes sofreram churn.\n"
     ]
    }
   ],
   "source": [
    "# calculando a proporção de clientes com evasão\n",
    "total_clients = df_users.shape[0]\n",
    "exited_clients = df_users['exited'].loc[df_users['exited'] == 1].count()\n",
    "evasion = (exited_clients / total_clients) * 100\n",
    "print(round(evasion, 2),f'% dos {total_clients} clientes sofreram churn.')"
   ]
  },
  {
   "cell_type": "markdown",
   "metadata": {},
   "source": [
    "### Resolvendo churn_date."
   ]
  },
  {
   "cell_type": "code",
   "execution_count": 18,
   "metadata": {},
   "outputs": [],
   "source": [
    "# usando fillna\n",
    "df_users['churn_date'] = df_users['churn_date'].fillna(\"not exited\")"
   ]
  },
  {
   "cell_type": "code",
   "execution_count": 19,
   "metadata": {},
   "outputs": [
    {
     "data": {
      "text/html": [
       "<div>\n",
       "<style scoped>\n",
       "    .dataframe tbody tr th:only-of-type {\n",
       "        vertical-align: middle;\n",
       "    }\n",
       "\n",
       "    .dataframe tbody tr th {\n",
       "        vertical-align: top;\n",
       "    }\n",
       "\n",
       "    .dataframe thead th {\n",
       "        text-align: right;\n",
       "    }\n",
       "</style>\n",
       "<table border=\"1\" class=\"dataframe\">\n",
       "  <thead>\n",
       "    <tr style=\"text-align: right;\">\n",
       "      <th></th>\n",
       "      <th>user_id</th>\n",
       "      <th>first_name</th>\n",
       "      <th>last_name</th>\n",
       "      <th>age</th>\n",
       "      <th>city</th>\n",
       "      <th>reg_date</th>\n",
       "      <th>plan</th>\n",
       "      <th>churn_date</th>\n",
       "      <th>exited</th>\n",
       "    </tr>\n",
       "  </thead>\n",
       "  <tbody>\n",
       "    <tr>\n",
       "      <th>224</th>\n",
       "      <td>1224</td>\n",
       "      <td>Kelly</td>\n",
       "      <td>Cole</td>\n",
       "      <td>74</td>\n",
       "      <td>Atlanta-Sandy Springs-Roswell, GA MSA</td>\n",
       "      <td>2018-06-28</td>\n",
       "      <td>ultimate</td>\n",
       "      <td>not exited</td>\n",
       "      <td>0</td>\n",
       "    </tr>\n",
       "    <tr>\n",
       "      <th>363</th>\n",
       "      <td>1363</td>\n",
       "      <td>Sandee</td>\n",
       "      <td>Lott</td>\n",
       "      <td>33</td>\n",
       "      <td>Seattle-Tacoma-Bellevue, WA MSA</td>\n",
       "      <td>2018-01-05</td>\n",
       "      <td>ultimate</td>\n",
       "      <td>2018-08-16</td>\n",
       "      <td>1</td>\n",
       "    </tr>\n",
       "    <tr>\n",
       "      <th>470</th>\n",
       "      <td>1470</td>\n",
       "      <td>Gerald</td>\n",
       "      <td>Reese</td>\n",
       "      <td>45</td>\n",
       "      <td>Washington-Arlington-Alexandria, DC-VA-MD-WV MSA</td>\n",
       "      <td>2018-04-21</td>\n",
       "      <td>surf</td>\n",
       "      <td>not exited</td>\n",
       "      <td>0</td>\n",
       "    </tr>\n",
       "    <tr>\n",
       "      <th>418</th>\n",
       "      <td>1418</td>\n",
       "      <td>Hal</td>\n",
       "      <td>Barnes</td>\n",
       "      <td>40</td>\n",
       "      <td>New York-Newark-Jersey City, NY-NJ-PA MSA</td>\n",
       "      <td>2018-01-19</td>\n",
       "      <td>surf</td>\n",
       "      <td>not exited</td>\n",
       "      <td>0</td>\n",
       "    </tr>\n",
       "    <tr>\n",
       "      <th>497</th>\n",
       "      <td>1497</td>\n",
       "      <td>Donte</td>\n",
       "      <td>Barrera</td>\n",
       "      <td>49</td>\n",
       "      <td>Los Angeles-Long Beach-Anaheim, CA MSA</td>\n",
       "      <td>2018-12-10</td>\n",
       "      <td>ultimate</td>\n",
       "      <td>not exited</td>\n",
       "      <td>0</td>\n",
       "    </tr>\n",
       "    <tr>\n",
       "      <th>355</th>\n",
       "      <td>1355</td>\n",
       "      <td>Digna</td>\n",
       "      <td>Tyson</td>\n",
       "      <td>57</td>\n",
       "      <td>Los Angeles-Long Beach-Anaheim, CA MSA</td>\n",
       "      <td>2018-10-07</td>\n",
       "      <td>surf</td>\n",
       "      <td>not exited</td>\n",
       "      <td>0</td>\n",
       "    </tr>\n",
       "    <tr>\n",
       "      <th>19</th>\n",
       "      <td>1019</td>\n",
       "      <td>Shizue</td>\n",
       "      <td>Landry</td>\n",
       "      <td>34</td>\n",
       "      <td>Jacksonville, FL MSA</td>\n",
       "      <td>2018-01-16</td>\n",
       "      <td>surf</td>\n",
       "      <td>not exited</td>\n",
       "      <td>0</td>\n",
       "    </tr>\n",
       "    <tr>\n",
       "      <th>209</th>\n",
       "      <td>1209</td>\n",
       "      <td>Garret</td>\n",
       "      <td>Paul</td>\n",
       "      <td>63</td>\n",
       "      <td>Los Angeles-Long Beach-Anaheim, CA MSA</td>\n",
       "      <td>2018-08-28</td>\n",
       "      <td>surf</td>\n",
       "      <td>not exited</td>\n",
       "      <td>0</td>\n",
       "    </tr>\n",
       "    <tr>\n",
       "      <th>445</th>\n",
       "      <td>1445</td>\n",
       "      <td>Elodia</td>\n",
       "      <td>Donovan</td>\n",
       "      <td>71</td>\n",
       "      <td>Dallas-Fort Worth-Arlington, TX MSA</td>\n",
       "      <td>2018-01-27</td>\n",
       "      <td>ultimate</td>\n",
       "      <td>not exited</td>\n",
       "      <td>0</td>\n",
       "    </tr>\n",
       "    <tr>\n",
       "      <th>155</th>\n",
       "      <td>1155</td>\n",
       "      <td>Claude</td>\n",
       "      <td>Hahn</td>\n",
       "      <td>19</td>\n",
       "      <td>Miami-Fort Lauderdale-West Palm Beach, FL MSA</td>\n",
       "      <td>2018-02-21</td>\n",
       "      <td>ultimate</td>\n",
       "      <td>not exited</td>\n",
       "      <td>0</td>\n",
       "    </tr>\n",
       "  </tbody>\n",
       "</table>\n",
       "</div>"
      ],
      "text/plain": [
       "     user_id first_name last_name  age  \\\n",
       "224     1224      Kelly      Cole   74   \n",
       "363     1363     Sandee      Lott   33   \n",
       "470     1470     Gerald     Reese   45   \n",
       "418     1418        Hal    Barnes   40   \n",
       "497     1497      Donte   Barrera   49   \n",
       "355     1355      Digna     Tyson   57   \n",
       "19      1019     Shizue    Landry   34   \n",
       "209     1209     Garret      Paul   63   \n",
       "445     1445     Elodia   Donovan   71   \n",
       "155     1155     Claude      Hahn   19   \n",
       "\n",
       "                                                 city   reg_date      plan  \\\n",
       "224             Atlanta-Sandy Springs-Roswell, GA MSA 2018-06-28  ultimate   \n",
       "363                   Seattle-Tacoma-Bellevue, WA MSA 2018-01-05  ultimate   \n",
       "470  Washington-Arlington-Alexandria, DC-VA-MD-WV MSA 2018-04-21      surf   \n",
       "418         New York-Newark-Jersey City, NY-NJ-PA MSA 2018-01-19      surf   \n",
       "497            Los Angeles-Long Beach-Anaheim, CA MSA 2018-12-10  ultimate   \n",
       "355            Los Angeles-Long Beach-Anaheim, CA MSA 2018-10-07      surf   \n",
       "19                               Jacksonville, FL MSA 2018-01-16      surf   \n",
       "209            Los Angeles-Long Beach-Anaheim, CA MSA 2018-08-28      surf   \n",
       "445               Dallas-Fort Worth-Arlington, TX MSA 2018-01-27  ultimate   \n",
       "155     Miami-Fort Lauderdale-West Palm Beach, FL MSA 2018-02-21  ultimate   \n",
       "\n",
       "     churn_date  exited  \n",
       "224  not exited       0  \n",
       "363  2018-08-16       1  \n",
       "470  not exited       0  \n",
       "418  not exited       0  \n",
       "497  not exited       0  \n",
       "355  not exited       0  \n",
       "19   not exited       0  \n",
       "209  not exited       0  \n",
       "445  not exited       0  \n",
       "155  not exited       0  "
      ]
     },
     "execution_count": 19,
     "metadata": {},
     "output_type": "execute_result"
    }
   ],
   "source": [
    "# verificando\n",
    "df_users.sample(10)"
   ]
  },
  {
   "cell_type": "code",
   "execution_count": 20,
   "metadata": {},
   "outputs": [
    {
     "data": {
      "text/plain": [
       "user_id  first_name  last_name  age  city                                            reg_date    plan      churn_date  exited\n",
       "1000     Anamaria    Bauer      45   Atlanta-Sandy Springs-Roswell, GA MSA           2018-12-24  ultimate  not exited  0         1\n",
       "1329     Doyle       Nunez      65   Charleston-North Charleston, SC MSA             2018-08-25  ultimate  not exited  0         1\n",
       "1342     Eugene      Patton     65   Indianapolis-Carmel-Anderson, IN MSA            2018-10-21  surf      not exited  0         1\n",
       "1341     Kaila       Andrews    28   Chicago-Naperville-Elgin, IL-IN-WI MSA          2018-06-17  surf      not exited  0         1\n",
       "1340     Vanna       Stanton    65   Dallas-Fort Worth-Arlington, TX MSA             2018-07-05  surf      not exited  0         1\n",
       "                                                                                                                                ..\n",
       "1161     Florance    Estrada    52   New York-Newark-Jersey City, NY-NJ-PA MSA       2018-11-27  ultimate  not exited  0         1\n",
       "1160     Steven      Morgan     44   Portland-Vancouver-Hillsboro, OR-WA MSA         2018-02-05  surf      not exited  0         1\n",
       "1159     Dierdre     Baker      58   Miami-Fort Lauderdale-West Palm Beach, FL MSA   2018-07-21  ultimate  not exited  0         1\n",
       "1158     Robin       Thornton   20   Virginia Beach-Norfolk-Newport News, VA-NC MSA  2018-11-30  ultimate  not exited  0         1\n",
       "1499     Shena       Dickson    37   Orlando-Kissimmee-Sanford, FL MSA               2018-05-06  surf      not exited  0         1\n",
       "Length: 500, dtype: int64"
      ]
     },
     "execution_count": 20,
     "metadata": {},
     "output_type": "execute_result"
    }
   ],
   "source": [
    "# contando\n",
    "df_users.value_counts()"
   ]
  },
  {
   "cell_type": "markdown",
   "metadata": {},
   "source": [
    "### Realizaremos as análises com user_id. Removendo first_name e last_name."
   ]
  },
  {
   "cell_type": "code",
   "execution_count": 21,
   "metadata": {},
   "outputs": [
    {
     "data": {
      "text/html": [
       "<div>\n",
       "<style scoped>\n",
       "    .dataframe tbody tr th:only-of-type {\n",
       "        vertical-align: middle;\n",
       "    }\n",
       "\n",
       "    .dataframe tbody tr th {\n",
       "        vertical-align: top;\n",
       "    }\n",
       "\n",
       "    .dataframe thead th {\n",
       "        text-align: right;\n",
       "    }\n",
       "</style>\n",
       "<table border=\"1\" class=\"dataframe\">\n",
       "  <thead>\n",
       "    <tr style=\"text-align: right;\">\n",
       "      <th></th>\n",
       "      <th>user_id</th>\n",
       "      <th>age</th>\n",
       "      <th>city</th>\n",
       "      <th>reg_date</th>\n",
       "      <th>plan</th>\n",
       "      <th>churn_date</th>\n",
       "      <th>exited</th>\n",
       "    </tr>\n",
       "  </thead>\n",
       "  <tbody>\n",
       "    <tr>\n",
       "      <th>0</th>\n",
       "      <td>1000</td>\n",
       "      <td>45</td>\n",
       "      <td>Atlanta-Sandy Springs-Roswell, GA MSA</td>\n",
       "      <td>2018-12-24</td>\n",
       "      <td>ultimate</td>\n",
       "      <td>not exited</td>\n",
       "      <td>0</td>\n",
       "    </tr>\n",
       "    <tr>\n",
       "      <th>1</th>\n",
       "      <td>1001</td>\n",
       "      <td>28</td>\n",
       "      <td>Seattle-Tacoma-Bellevue, WA MSA</td>\n",
       "      <td>2018-08-13</td>\n",
       "      <td>surf</td>\n",
       "      <td>not exited</td>\n",
       "      <td>0</td>\n",
       "    </tr>\n",
       "    <tr>\n",
       "      <th>2</th>\n",
       "      <td>1002</td>\n",
       "      <td>36</td>\n",
       "      <td>Las Vegas-Henderson-Paradise, NV MSA</td>\n",
       "      <td>2018-10-21</td>\n",
       "      <td>surf</td>\n",
       "      <td>not exited</td>\n",
       "      <td>0</td>\n",
       "    </tr>\n",
       "    <tr>\n",
       "      <th>3</th>\n",
       "      <td>1003</td>\n",
       "      <td>52</td>\n",
       "      <td>Tulsa, OK MSA</td>\n",
       "      <td>2018-01-28</td>\n",
       "      <td>surf</td>\n",
       "      <td>not exited</td>\n",
       "      <td>0</td>\n",
       "    </tr>\n",
       "    <tr>\n",
       "      <th>4</th>\n",
       "      <td>1004</td>\n",
       "      <td>40</td>\n",
       "      <td>Seattle-Tacoma-Bellevue, WA MSA</td>\n",
       "      <td>2018-05-23</td>\n",
       "      <td>surf</td>\n",
       "      <td>not exited</td>\n",
       "      <td>0</td>\n",
       "    </tr>\n",
       "  </tbody>\n",
       "</table>\n",
       "</div>"
      ],
      "text/plain": [
       "   user_id  age                                   city   reg_date      plan  \\\n",
       "0     1000   45  Atlanta-Sandy Springs-Roswell, GA MSA 2018-12-24  ultimate   \n",
       "1     1001   28        Seattle-Tacoma-Bellevue, WA MSA 2018-08-13      surf   \n",
       "2     1002   36   Las Vegas-Henderson-Paradise, NV MSA 2018-10-21      surf   \n",
       "3     1003   52                          Tulsa, OK MSA 2018-01-28      surf   \n",
       "4     1004   40        Seattle-Tacoma-Bellevue, WA MSA 2018-05-23      surf   \n",
       "\n",
       "   churn_date  exited  \n",
       "0  not exited       0  \n",
       "1  not exited       0  \n",
       "2  not exited       0  \n",
       "3  not exited       0  \n",
       "4  not exited       0  "
      ]
     },
     "execution_count": 21,
     "metadata": {},
     "output_type": "execute_result"
    }
   ],
   "source": [
    "# removendo com drop\n",
    "df_users = df_users.drop(['first_name', 'last_name'], axis=1)\n",
    "# conferindo\n",
    "df_users.head()"
   ]
  },
  {
   "cell_type": "code",
   "execution_count": 22,
   "metadata": {},
   "outputs": [
    {
     "data": {
      "text/html": [
       "<div>\n",
       "<style scoped>\n",
       "    .dataframe tbody tr th:only-of-type {\n",
       "        vertical-align: middle;\n",
       "    }\n",
       "\n",
       "    .dataframe tbody tr th {\n",
       "        vertical-align: top;\n",
       "    }\n",
       "\n",
       "    .dataframe thead th {\n",
       "        text-align: right;\n",
       "    }\n",
       "</style>\n",
       "<table border=\"1\" class=\"dataframe\">\n",
       "  <thead>\n",
       "    <tr style=\"text-align: right;\">\n",
       "      <th></th>\n",
       "      <th>user_id</th>\n",
       "      <th>plan</th>\n",
       "      <th>exited</th>\n",
       "      <th>age</th>\n",
       "      <th>city</th>\n",
       "      <th>reg_date</th>\n",
       "      <th>churn_date</th>\n",
       "    </tr>\n",
       "  </thead>\n",
       "  <tbody>\n",
       "    <tr>\n",
       "      <th>0</th>\n",
       "      <td>1000</td>\n",
       "      <td>ultimate</td>\n",
       "      <td>0</td>\n",
       "      <td>45</td>\n",
       "      <td>Atlanta-Sandy Springs-Roswell, GA MSA</td>\n",
       "      <td>2018-12-24</td>\n",
       "      <td>not exited</td>\n",
       "    </tr>\n",
       "    <tr>\n",
       "      <th>1</th>\n",
       "      <td>1001</td>\n",
       "      <td>surf</td>\n",
       "      <td>0</td>\n",
       "      <td>28</td>\n",
       "      <td>Seattle-Tacoma-Bellevue, WA MSA</td>\n",
       "      <td>2018-08-13</td>\n",
       "      <td>not exited</td>\n",
       "    </tr>\n",
       "    <tr>\n",
       "      <th>2</th>\n",
       "      <td>1002</td>\n",
       "      <td>surf</td>\n",
       "      <td>0</td>\n",
       "      <td>36</td>\n",
       "      <td>Las Vegas-Henderson-Paradise, NV MSA</td>\n",
       "      <td>2018-10-21</td>\n",
       "      <td>not exited</td>\n",
       "    </tr>\n",
       "    <tr>\n",
       "      <th>3</th>\n",
       "      <td>1003</td>\n",
       "      <td>surf</td>\n",
       "      <td>0</td>\n",
       "      <td>52</td>\n",
       "      <td>Tulsa, OK MSA</td>\n",
       "      <td>2018-01-28</td>\n",
       "      <td>not exited</td>\n",
       "    </tr>\n",
       "    <tr>\n",
       "      <th>4</th>\n",
       "      <td>1004</td>\n",
       "      <td>surf</td>\n",
       "      <td>0</td>\n",
       "      <td>40</td>\n",
       "      <td>Seattle-Tacoma-Bellevue, WA MSA</td>\n",
       "      <td>2018-05-23</td>\n",
       "      <td>not exited</td>\n",
       "    </tr>\n",
       "  </tbody>\n",
       "</table>\n",
       "</div>"
      ],
      "text/plain": [
       "   user_id      plan  exited  age                                   city  \\\n",
       "0     1000  ultimate       0   45  Atlanta-Sandy Springs-Roswell, GA MSA   \n",
       "1     1001      surf       0   28        Seattle-Tacoma-Bellevue, WA MSA   \n",
       "2     1002      surf       0   36   Las Vegas-Henderson-Paradise, NV MSA   \n",
       "3     1003      surf       0   52                          Tulsa, OK MSA   \n",
       "4     1004      surf       0   40        Seattle-Tacoma-Bellevue, WA MSA   \n",
       "\n",
       "    reg_date  churn_date  \n",
       "0 2018-12-24  not exited  \n",
       "1 2018-08-13  not exited  \n",
       "2 2018-10-21  not exited  \n",
       "3 2018-01-28  not exited  \n",
       "4 2018-05-23  not exited  "
      ]
     },
     "execution_count": 22,
     "metadata": {},
     "output_type": "execute_result"
    }
   ],
   "source": [
    "# reorganizando colunas\n",
    "new_order = ['user_id', 'plan', 'exited', 'age', 'city', 'reg_date', 'churn_date']\n",
    "df_users = df_users[new_order]\n",
    "df_users.head()"
   ]
  },
  {
   "cell_type": "markdown",
   "metadata": {},
   "source": [
    "<div class=\"alert alert-block alert-success\">\n",
    "<b> Comentário do revisor: </b> <a class=\"tocSkip\"></a>\n",
    "\n",
    "Correto! O estudante executou o pré-processamento dos dados.\n",
    "</div>"
   ]
  },
  {
   "cell_type": "markdown",
   "metadata": {},
   "source": [
    "### Enriquecendo os Dados."
   ]
  },
  {
   "cell_type": "code",
   "execution_count": 23,
   "metadata": {},
   "outputs": [
    {
     "data": {
      "image/png": "[encoded data removed]",
      "text/plain": [
       "<Figure size 900x600 with 1 Axes>"
      ]
     },
     "metadata": {},
     "output_type": "display_data"
    }
   ],
   "source": [
    "# distribuição de idades dos usuários\n",
    "plt.figure(figsize=(9, 6))\n",
    "sns.histplot(data=df_users, x='age', bins=30, color=\"#003344\", edgecolor='k')\n",
    "plt.xlabel('Idade')\n",
    "plt.ylabel('Frequência')\n",
    "plt.title('Histograma de Idades')\n",
    "plt.show()"
   ]
  },
  {
   "cell_type": "code",
   "execution_count": 24,
   "metadata": {},
   "outputs": [
    {
     "data": {
      "image/png": "[encoded data removed]",
      "text/plain": [
       "<Figure size 640x480 with 1 Axes>"
      ]
     },
     "metadata": {},
     "output_type": "display_data"
    }
   ],
   "source": [
    "# gráfico informativo dos planos\n",
    "plan_counts = df_users['plan'].value_counts()\n",
    "colors = [\"#005666\", \"#181f4c\"]\n",
    "labels = plan_counts.index\n",
    "sizes = plan_counts.values\n",
    "\n",
    "explode = (0.06, 0)\n",
    " \n",
    "fig, ax = plt.subplots()\n",
    "ax.pie(\n",
    "    sizes,\n",
    "    labels=labels,\n",
    "    autopct='%1.1f%%',\n",
    "    startangle=90,\n",
    "    colors=colors,\n",
    "    explode=explode,\n",
    "    textprops={'color': 'white', 'fontsize': 12}\n",
    ")\n",
    "\n",
    "plt.title('Distribuição dos Planos de Usuários')\n",
    "plt.legend(loc=\"best\", labels=labels)\n",
    "plt.show()"
   ]
  },
  {
   "cell_type": "markdown",
   "metadata": {},
   "source": [
    "<div class=\"alert alert-block alert-success\">\n",
    "<b> Comentário do revisor: </b> <a class=\"tocSkip\"></a>\n",
    "\n",
    "Perfeito!\n",
    "</div>"
   ]
  },
  {
   "cell_type": "markdown",
   "metadata": {},
   "source": [
    "### Agrupando para gerar insights."
   ]
  },
  {
   "cell_type": "code",
   "execution_count": 25,
   "metadata": {},
   "outputs": [
    {
     "data": {
      "text/html": [
       "<div>\n",
       "<style scoped>\n",
       "    .dataframe tbody tr th:only-of-type {\n",
       "        vertical-align: middle;\n",
       "    }\n",
       "\n",
       "    .dataframe tbody tr th {\n",
       "        vertical-align: top;\n",
       "    }\n",
       "\n",
       "    .dataframe thead th {\n",
       "        text-align: right;\n",
       "    }\n",
       "</style>\n",
       "<table border=\"1\" class=\"dataframe\">\n",
       "  <thead>\n",
       "    <tr style=\"text-align: right;\">\n",
       "      <th></th>\n",
       "      <th>mean</th>\n",
       "      <th>median</th>\n",
       "    </tr>\n",
       "    <tr>\n",
       "      <th>plan</th>\n",
       "      <th></th>\n",
       "      <th></th>\n",
       "    </tr>\n",
       "  </thead>\n",
       "  <tbody>\n",
       "    <tr>\n",
       "      <th>surf</th>\n",
       "      <td>44.952802</td>\n",
       "      <td>45.0</td>\n",
       "    </tr>\n",
       "    <tr>\n",
       "      <th>ultimate</th>\n",
       "      <td>46.608696</td>\n",
       "      <td>48.0</td>\n",
       "    </tr>\n",
       "  </tbody>\n",
       "</table>\n",
       "</div>"
      ],
      "text/plain": [
       "               mean  median\n",
       "plan                       \n",
       "surf      44.952802    45.0\n",
       "ultimate  46.608696    48.0"
      ]
     },
     "execution_count": 25,
     "metadata": {},
     "output_type": "execute_result"
    }
   ],
   "source": [
    "# informações sobre idade dos usuários por planos\n",
    "df_users_grouped = df_users.groupby(['plan'])['age'].agg(['mean', 'median'])\n",
    "df_users_grouped"
   ]
  },
  {
   "cell_type": "code",
   "execution_count": 26,
   "metadata": {},
   "outputs": [
    {
     "data": {
      "text/html": [
       "<div>\n",
       "<style scoped>\n",
       "    .dataframe tbody tr th:only-of-type {\n",
       "        vertical-align: middle;\n",
       "    }\n",
       "\n",
       "    .dataframe tbody tr th {\n",
       "        vertical-align: top;\n",
       "    }\n",
       "\n",
       "    .dataframe thead th {\n",
       "        text-align: right;\n",
       "    }\n",
       "</style>\n",
       "<table border=\"1\" class=\"dataframe\">\n",
       "  <thead>\n",
       "    <tr style=\"text-align: right;\">\n",
       "      <th></th>\n",
       "      <th>mean</th>\n",
       "      <th>median</th>\n",
       "    </tr>\n",
       "    <tr>\n",
       "      <th>exited</th>\n",
       "      <th></th>\n",
       "      <th></th>\n",
       "    </tr>\n",
       "  </thead>\n",
       "  <tbody>\n",
       "    <tr>\n",
       "      <th>0</th>\n",
       "      <td>45.476395</td>\n",
       "      <td>46.0</td>\n",
       "    </tr>\n",
       "    <tr>\n",
       "      <th>1</th>\n",
       "      <td>45.617647</td>\n",
       "      <td>46.0</td>\n",
       "    </tr>\n",
       "  </tbody>\n",
       "</table>\n",
       "</div>"
      ],
      "text/plain": [
       "             mean  median\n",
       "exited                   \n",
       "0       45.476395    46.0\n",
       "1       45.617647    46.0"
      ]
     },
     "execution_count": 26,
     "metadata": {},
     "output_type": "execute_result"
    }
   ],
   "source": [
    "# usuários que sofreram churn e suas idades...\n",
    "df_users_grouped = df_users.groupby(['exited'])['age'].agg(['mean', 'median'])\n",
    "df_users_grouped"
   ]
  },
  {
   "cell_type": "code",
   "execution_count": 27,
   "metadata": {
    "id": "ULXhFni9blnY"
   },
   "outputs": [
    {
     "data": {
      "text/html": [
       "<div>\n",
       "<style scoped>\n",
       "    .dataframe tbody tr th:only-of-type {\n",
       "        vertical-align: middle;\n",
       "    }\n",
       "\n",
       "    .dataframe tbody tr th {\n",
       "        vertical-align: top;\n",
       "    }\n",
       "\n",
       "    .dataframe thead th {\n",
       "        text-align: right;\n",
       "    }\n",
       "</style>\n",
       "<table border=\"1\" class=\"dataframe\">\n",
       "  <thead>\n",
       "    <tr style=\"text-align: right;\">\n",
       "      <th></th>\n",
       "      <th>user_id</th>\n",
       "      <th>plan</th>\n",
       "      <th>exited</th>\n",
       "      <th>age</th>\n",
       "      <th>city</th>\n",
       "      <th>reg_date</th>\n",
       "      <th>churn_date</th>\n",
       "    </tr>\n",
       "  </thead>\n",
       "  <tbody>\n",
       "    <tr>\n",
       "      <th>0</th>\n",
       "      <td>1000</td>\n",
       "      <td>ultimate</td>\n",
       "      <td>0</td>\n",
       "      <td>45</td>\n",
       "      <td>Atlanta-Sandy Springs-Roswell, GA MSA</td>\n",
       "      <td>2018-12-24</td>\n",
       "      <td>not exited</td>\n",
       "    </tr>\n",
       "    <tr>\n",
       "      <th>1</th>\n",
       "      <td>1001</td>\n",
       "      <td>surf</td>\n",
       "      <td>0</td>\n",
       "      <td>28</td>\n",
       "      <td>Seattle-Tacoma-Bellevue, WA MSA</td>\n",
       "      <td>2018-08-13</td>\n",
       "      <td>not exited</td>\n",
       "    </tr>\n",
       "    <tr>\n",
       "      <th>2</th>\n",
       "      <td>1002</td>\n",
       "      <td>surf</td>\n",
       "      <td>0</td>\n",
       "      <td>36</td>\n",
       "      <td>Las Vegas-Henderson-Paradise, NV MSA</td>\n",
       "      <td>2018-10-21</td>\n",
       "      <td>not exited</td>\n",
       "    </tr>\n",
       "    <tr>\n",
       "      <th>3</th>\n",
       "      <td>1003</td>\n",
       "      <td>surf</td>\n",
       "      <td>0</td>\n",
       "      <td>52</td>\n",
       "      <td>Tulsa, OK MSA</td>\n",
       "      <td>2018-01-28</td>\n",
       "      <td>not exited</td>\n",
       "    </tr>\n",
       "    <tr>\n",
       "      <th>4</th>\n",
       "      <td>1004</td>\n",
       "      <td>surf</td>\n",
       "      <td>0</td>\n",
       "      <td>40</td>\n",
       "      <td>Seattle-Tacoma-Bellevue, WA MSA</td>\n",
       "      <td>2018-05-23</td>\n",
       "      <td>not exited</td>\n",
       "    </tr>\n",
       "  </tbody>\n",
       "</table>\n",
       "</div>"
      ],
      "text/plain": [
       "   user_id      plan  exited  age                                   city  \\\n",
       "0     1000  ultimate       0   45  Atlanta-Sandy Springs-Roswell, GA MSA   \n",
       "1     1001      surf       0   28        Seattle-Tacoma-Bellevue, WA MSA   \n",
       "2     1002      surf       0   36   Las Vegas-Henderson-Paradise, NV MSA   \n",
       "3     1003      surf       0   52                          Tulsa, OK MSA   \n",
       "4     1004      surf       0   40        Seattle-Tacoma-Bellevue, WA MSA   \n",
       "\n",
       "    reg_date  churn_date  \n",
       "0 2018-12-24  not exited  \n",
       "1 2018-08-13  not exited  \n",
       "2 2018-10-21  not exited  \n",
       "3 2018-01-28  not exited  \n",
       "4 2018-05-23  not exited  "
      ]
     },
     "execution_count": 27,
     "metadata": {},
     "output_type": "execute_result"
    }
   ],
   "source": [
    "# Imprima as informações gerais/resumidas sobre o DataFrame dos usuários\n",
    "df_users.head()"
   ]
  },
  {
   "cell_type": "markdown",
   "metadata": {},
   "source": [
    "### Overview."
   ]
  },
  {
   "cell_type": "markdown",
   "metadata": {},
   "source": [
    "- Nosso df_users tem informações de 500 usuários\n",
    "- São apenas 2 planos disponíveis para os usuários neste dataset\n",
    "- média de idade dos usuários é de 45 com idades mínimas e máximas entre 18 e 75 anos\n",
    "- única coluna com valores Nan é churn_date, onde há apenas informação da data de saída dos usuários que cancelaram, aqueles que continuam ativos apareceram como Nan\n",
    "- Não haviam dados duplicados no dataset\n",
    "- Realizamos a transformaçãoda coluna reg_date para formato to_datetime\n",
    "- Criamos uma coluna binária chamada exited, onde os usuários que cancelaram o plano receberam o valor de 1 e os demais 0\n",
    "- Calculamos a taxa de churn que ficou em 6,8%\n",
    "- Decidimos por remover os nomes dos usuários para trabalharmos apenas com os ids\n",
    "- O plano Surf tem o dobro de usuários do que o plano Ultimate\n",
    "- Tanto a média de idade dos usuários em cada plano, quando a média dos usuários que sofreram churn, estão muito próximas da idade média do dataset inteiro\n"
   ]
  },
  {
   "cell_type": "markdown",
   "metadata": {},
   "source": [
    "<div class=\"alert alert-block alert-success\">\n",
    "<b> Comentário do revisor: </b> <a class=\"tocSkip\"></a>\n",
    "\n",
    "Correto! O estudante apresentou conclusões da sua análise inicial. É uma boa prática apresentar conclusões em cada fase do estudo e sempre que necesssário revisitá-las, uma vez que esse é um processo iterativo.\n",
    "</div>"
   ]
  },
  {
   "cell_type": "markdown",
   "metadata": {
    "id": "XRBgvT7PbRDG"
   },
   "source": [
    "## Planos"
   ]
  },
  {
   "cell_type": "markdown",
   "metadata": {
    "id": "yxlcz0uIGZ95"
   },
   "source": [
    "### Explorando df_plans."
   ]
  },
  {
   "cell_type": "code",
   "execution_count": 28,
   "metadata": {
    "colab": {
     "base_uri": "https://localhost:8080/"
    },
    "id": "WROK5cSabRDG",
    "outputId": "6db186dd-e9c5-4008-f80d-1b060b70cb16"
   },
   "outputs": [
    {
     "data": {
      "text/plain": [
       "Index(['messages_included', 'mb_per_month_included', 'minutes_included',\n",
       "       'usd_monthly_pay', 'usd_per_gb', 'usd_per_message', 'usd_per_minute',\n",
       "       'plan_name'],\n",
       "      dtype='object')"
      ]
     },
     "execution_count": 28,
     "metadata": {},
     "output_type": "execute_result"
    }
   ],
   "source": [
    "# verificando nomes das colunas\n",
    "df_plans.columns"
   ]
  },
  {
   "cell_type": "code",
   "execution_count": 29,
   "metadata": {
    "colab": {
     "base_uri": "https://localhost:8080/"
    },
    "id": "1Ya48KrVsQrt",
    "outputId": "b1e74156-4b63-4af1-c5de-e4d29391af99"
   },
   "outputs": [
    {
     "name": "stdout",
     "output_type": "stream",
     "text": [
      "<class 'pandas.core.frame.DataFrame'>\n",
      "RangeIndex: 2 entries, 0 to 1\n",
      "Data columns (total 8 columns):\n",
      " #   Column                 Non-Null Count  Dtype  \n",
      "---  ------                 --------------  -----  \n",
      " 0   messages_included      2 non-null      int64  \n",
      " 1   mb_per_month_included  2 non-null      int64  \n",
      " 2   minutes_included       2 non-null      int64  \n",
      " 3   usd_monthly_pay        2 non-null      int64  \n",
      " 4   usd_per_gb             2 non-null      int64  \n",
      " 5   usd_per_message        2 non-null      float64\n",
      " 6   usd_per_minute         2 non-null      float64\n",
      " 7   plan_name              2 non-null      object \n",
      "dtypes: float64(2), int64(5), object(1)\n",
      "memory usage: 260.0+ bytes\n"
     ]
    }
   ],
   "source": [
    "# informações gerais\n",
    "df_plans.info()"
   ]
  },
  {
   "cell_type": "code",
   "execution_count": 30,
   "metadata": {
    "colab": {
     "base_uri": "https://localhost:8080/"
    },
    "id": "rjsCujvGryYr",
    "outputId": "89c2b240-85d2-4f27-8a2f-b383d6d7fb59"
   },
   "outputs": [
    {
     "data": {
      "text/plain": [
       "(2, 8)"
      ]
     },
     "execution_count": 30,
     "metadata": {},
     "output_type": "execute_result"
    }
   ],
   "source": [
    "# tamanho\n",
    "df_plans.shape"
   ]
  },
  {
   "cell_type": "code",
   "execution_count": 31,
   "metadata": {
    "colab": {
     "base_uri": "https://localhost:8080/",
     "height": 320
    },
    "id": "9TAn3exhsDVl",
    "outputId": "36703ea7-d736-4a49-f905-2452d2084463"
   },
   "outputs": [
    {
     "data": {
      "text/html": [
       "<div>\n",
       "<style scoped>\n",
       "    .dataframe tbody tr th:only-of-type {\n",
       "        vertical-align: middle;\n",
       "    }\n",
       "\n",
       "    .dataframe tbody tr th {\n",
       "        vertical-align: top;\n",
       "    }\n",
       "\n",
       "    .dataframe thead th {\n",
       "        text-align: right;\n",
       "    }\n",
       "</style>\n",
       "<table border=\"1\" class=\"dataframe\">\n",
       "  <thead>\n",
       "    <tr style=\"text-align: right;\">\n",
       "      <th></th>\n",
       "      <th>messages_included</th>\n",
       "      <th>mb_per_month_included</th>\n",
       "      <th>minutes_included</th>\n",
       "      <th>usd_monthly_pay</th>\n",
       "      <th>usd_per_gb</th>\n",
       "      <th>usd_per_message</th>\n",
       "      <th>usd_per_minute</th>\n",
       "    </tr>\n",
       "  </thead>\n",
       "  <tbody>\n",
       "    <tr>\n",
       "      <th>count</th>\n",
       "      <td>2.000000</td>\n",
       "      <td>2.000000</td>\n",
       "      <td>2.000000</td>\n",
       "      <td>2.000000</td>\n",
       "      <td>2.00000</td>\n",
       "      <td>2.000000</td>\n",
       "      <td>2.000000</td>\n",
       "    </tr>\n",
       "    <tr>\n",
       "      <th>mean</th>\n",
       "      <td>525.000000</td>\n",
       "      <td>23040.000000</td>\n",
       "      <td>1750.000000</td>\n",
       "      <td>45.000000</td>\n",
       "      <td>8.50000</td>\n",
       "      <td>0.020000</td>\n",
       "      <td>0.020000</td>\n",
       "    </tr>\n",
       "    <tr>\n",
       "      <th>std</th>\n",
       "      <td>671.751442</td>\n",
       "      <td>10861.160159</td>\n",
       "      <td>1767.766953</td>\n",
       "      <td>35.355339</td>\n",
       "      <td>2.12132</td>\n",
       "      <td>0.014142</td>\n",
       "      <td>0.014142</td>\n",
       "    </tr>\n",
       "    <tr>\n",
       "      <th>min</th>\n",
       "      <td>50.000000</td>\n",
       "      <td>15360.000000</td>\n",
       "      <td>500.000000</td>\n",
       "      <td>20.000000</td>\n",
       "      <td>7.00000</td>\n",
       "      <td>0.010000</td>\n",
       "      <td>0.010000</td>\n",
       "    </tr>\n",
       "    <tr>\n",
       "      <th>25%</th>\n",
       "      <td>287.500000</td>\n",
       "      <td>19200.000000</td>\n",
       "      <td>1125.000000</td>\n",
       "      <td>32.500000</td>\n",
       "      <td>7.75000</td>\n",
       "      <td>0.015000</td>\n",
       "      <td>0.015000</td>\n",
       "    </tr>\n",
       "    <tr>\n",
       "      <th>50%</th>\n",
       "      <td>525.000000</td>\n",
       "      <td>23040.000000</td>\n",
       "      <td>1750.000000</td>\n",
       "      <td>45.000000</td>\n",
       "      <td>8.50000</td>\n",
       "      <td>0.020000</td>\n",
       "      <td>0.020000</td>\n",
       "    </tr>\n",
       "    <tr>\n",
       "      <th>75%</th>\n",
       "      <td>762.500000</td>\n",
       "      <td>26880.000000</td>\n",
       "      <td>2375.000000</td>\n",
       "      <td>57.500000</td>\n",
       "      <td>9.25000</td>\n",
       "      <td>0.025000</td>\n",
       "      <td>0.025000</td>\n",
       "    </tr>\n",
       "    <tr>\n",
       "      <th>max</th>\n",
       "      <td>1000.000000</td>\n",
       "      <td>30720.000000</td>\n",
       "      <td>3000.000000</td>\n",
       "      <td>70.000000</td>\n",
       "      <td>10.00000</td>\n",
       "      <td>0.030000</td>\n",
       "      <td>0.030000</td>\n",
       "    </tr>\n",
       "  </tbody>\n",
       "</table>\n",
       "</div>"
      ],
      "text/plain": [
       "       messages_included  mb_per_month_included  minutes_included  \\\n",
       "count           2.000000               2.000000          2.000000   \n",
       "mean          525.000000           23040.000000       1750.000000   \n",
       "std           671.751442           10861.160159       1767.766953   \n",
       "min            50.000000           15360.000000        500.000000   \n",
       "25%           287.500000           19200.000000       1125.000000   \n",
       "50%           525.000000           23040.000000       1750.000000   \n",
       "75%           762.500000           26880.000000       2375.000000   \n",
       "max          1000.000000           30720.000000       3000.000000   \n",
       "\n",
       "       usd_monthly_pay  usd_per_gb  usd_per_message  usd_per_minute  \n",
       "count         2.000000     2.00000         2.000000        2.000000  \n",
       "mean         45.000000     8.50000         0.020000        0.020000  \n",
       "std          35.355339     2.12132         0.014142        0.014142  \n",
       "min          20.000000     7.00000         0.010000        0.010000  \n",
       "25%          32.500000     7.75000         0.015000        0.015000  \n",
       "50%          45.000000     8.50000         0.020000        0.020000  \n",
       "75%          57.500000     9.25000         0.025000        0.025000  \n",
       "max          70.000000    10.00000         0.030000        0.030000  "
      ]
     },
     "execution_count": 31,
     "metadata": {},
     "output_type": "execute_result"
    }
   ],
   "source": [
    "# descrição\n",
    "df_plans.describe()"
   ]
  },
  {
   "cell_type": "code",
   "execution_count": 32,
   "metadata": {
    "colab": {
     "base_uri": "https://localhost:8080/",
     "height": 132
    },
    "id": "LrA1ejpQsDL8",
    "outputId": "8bdeed8e-28d6-41d7-d5b8-7b45623fd58f"
   },
   "outputs": [
    {
     "data": {
      "text/html": [
       "<div>\n",
       "<style scoped>\n",
       "    .dataframe tbody tr th:only-of-type {\n",
       "        vertical-align: middle;\n",
       "    }\n",
       "\n",
       "    .dataframe tbody tr th {\n",
       "        vertical-align: top;\n",
       "    }\n",
       "\n",
       "    .dataframe thead th {\n",
       "        text-align: right;\n",
       "    }\n",
       "</style>\n",
       "<table border=\"1\" class=\"dataframe\">\n",
       "  <thead>\n",
       "    <tr style=\"text-align: right;\">\n",
       "      <th></th>\n",
       "      <th>messages_included</th>\n",
       "      <th>mb_per_month_included</th>\n",
       "      <th>minutes_included</th>\n",
       "      <th>usd_monthly_pay</th>\n",
       "      <th>usd_per_gb</th>\n",
       "      <th>usd_per_message</th>\n",
       "      <th>usd_per_minute</th>\n",
       "      <th>plan_name</th>\n",
       "    </tr>\n",
       "  </thead>\n",
       "  <tbody>\n",
       "    <tr>\n",
       "      <th>0</th>\n",
       "      <td>50</td>\n",
       "      <td>15360</td>\n",
       "      <td>500</td>\n",
       "      <td>20</td>\n",
       "      <td>10</td>\n",
       "      <td>0.03</td>\n",
       "      <td>0.03</td>\n",
       "      <td>surf</td>\n",
       "    </tr>\n",
       "    <tr>\n",
       "      <th>1</th>\n",
       "      <td>1000</td>\n",
       "      <td>30720</td>\n",
       "      <td>3000</td>\n",
       "      <td>70</td>\n",
       "      <td>7</td>\n",
       "      <td>0.01</td>\n",
       "      <td>0.01</td>\n",
       "      <td>ultimate</td>\n",
       "    </tr>\n",
       "  </tbody>\n",
       "</table>\n",
       "</div>"
      ],
      "text/plain": [
       "   messages_included  mb_per_month_included  minutes_included  \\\n",
       "0                 50                  15360               500   \n",
       "1               1000                  30720              3000   \n",
       "\n",
       "   usd_monthly_pay  usd_per_gb  usd_per_message  usd_per_minute plan_name  \n",
       "0               20          10             0.03            0.03      surf  \n",
       "1               70           7             0.01            0.01  ultimate  "
      ]
     },
     "execution_count": 32,
     "metadata": {},
     "output_type": "execute_result"
    }
   ],
   "source": [
    "# dados de df_plans\n",
    "df_plans.head()"
   ]
  },
  {
   "cell_type": "markdown",
   "metadata": {
    "id": "17iB_IQQbRDH"
   },
   "source": [
    "## Corrigindo dados."
   ]
  },
  {
   "cell_type": "code",
   "execution_count": 33,
   "metadata": {},
   "outputs": [],
   "source": [
    "# Transformando mb_per_month_included para gb_per_month_included\n",
    "df_plans['gb_per_month_included'] = df_plans['mb_per_month_included'] / 1024"
   ]
  },
  {
   "cell_type": "code",
   "execution_count": 34,
   "metadata": {},
   "outputs": [],
   "source": [
    "# reordenando colunas\n",
    "new_order = ['plan_name', 'usd_monthly_pay', 'gb_per_month_included', 'usd_per_gb', 'minutes_included', 'usd_per_minute', 'messages_included', 'usd_per_message', 'mb_per_month_included']\n",
    "df_plans = df_plans[new_order]"
   ]
  },
  {
   "cell_type": "code",
   "execution_count": 35,
   "metadata": {},
   "outputs": [
    {
     "data": {
      "text/html": [
       "<div>\n",
       "<style scoped>\n",
       "    .dataframe tbody tr th:only-of-type {\n",
       "        vertical-align: middle;\n",
       "    }\n",
       "\n",
       "    .dataframe tbody tr th {\n",
       "        vertical-align: top;\n",
       "    }\n",
       "\n",
       "    .dataframe thead th {\n",
       "        text-align: right;\n",
       "    }\n",
       "</style>\n",
       "<table border=\"1\" class=\"dataframe\">\n",
       "  <thead>\n",
       "    <tr style=\"text-align: right;\">\n",
       "      <th></th>\n",
       "      <th>plan_name</th>\n",
       "      <th>usd_monthly_pay</th>\n",
       "      <th>gb_per_month_included</th>\n",
       "      <th>usd_per_gb</th>\n",
       "      <th>minutes_included</th>\n",
       "      <th>usd_per_minute</th>\n",
       "      <th>messages_included</th>\n",
       "      <th>usd_per_message</th>\n",
       "      <th>mb_per_month_included</th>\n",
       "    </tr>\n",
       "  </thead>\n",
       "  <tbody>\n",
       "    <tr>\n",
       "      <th>0</th>\n",
       "      <td>surf</td>\n",
       "      <td>20</td>\n",
       "      <td>15.0</td>\n",
       "      <td>10</td>\n",
       "      <td>500</td>\n",
       "      <td>0.03</td>\n",
       "      <td>50</td>\n",
       "      <td>0.03</td>\n",
       "      <td>15360</td>\n",
       "    </tr>\n",
       "    <tr>\n",
       "      <th>1</th>\n",
       "      <td>ultimate</td>\n",
       "      <td>70</td>\n",
       "      <td>30.0</td>\n",
       "      <td>7</td>\n",
       "      <td>3000</td>\n",
       "      <td>0.01</td>\n",
       "      <td>1000</td>\n",
       "      <td>0.01</td>\n",
       "      <td>30720</td>\n",
       "    </tr>\n",
       "  </tbody>\n",
       "</table>\n",
       "</div>"
      ],
      "text/plain": [
       "  plan_name  usd_monthly_pay  gb_per_month_included  usd_per_gb  \\\n",
       "0      surf               20                   15.0          10   \n",
       "1  ultimate               70                   30.0           7   \n",
       "\n",
       "   minutes_included  usd_per_minute  messages_included  usd_per_message  \\\n",
       "0               500            0.03                 50             0.03   \n",
       "1              3000            0.01               1000             0.01   \n",
       "\n",
       "   mb_per_month_included  \n",
       "0                  15360  \n",
       "1                  30720  "
      ]
     },
     "execution_count": 35,
     "metadata": {},
     "output_type": "execute_result"
    }
   ],
   "source": [
    "df_plans.head()"
   ]
  },
  {
   "cell_type": "markdown",
   "metadata": {},
   "source": [
    "### Overview."
   ]
  },
  {
   "cell_type": "markdown",
   "metadata": {},
   "source": [
    "- Poucos ajustes no df_plans devido ao dataset ser apenas sobre as informações dos 2 únicos planos disponíveis.\n"
   ]
  },
  {
   "cell_type": "markdown",
   "metadata": {},
   "source": [
    "<div class=\"alert alert-block alert-success\">\n",
    "<b> Comentário do revisor: </b> <a class=\"tocSkip\"></a>\n",
    "\n",
    "Correto! O estudante executou a etapa de pré-processamento para os dados de `planos`.\n",
    "</div>"
   ]
  },
  {
   "cell_type": "markdown",
   "metadata": {
    "id": "rqLoVb_KbRDJ"
   },
   "source": [
    "## Chamadas"
   ]
  },
  {
   "cell_type": "markdown",
   "metadata": {
    "id": "xjht224NGhjE"
   },
   "source": [
    "### Explorando df_calls."
   ]
  },
  {
   "cell_type": "code",
   "execution_count": 36,
   "metadata": {
    "colab": {
     "base_uri": "https://localhost:8080/"
    },
    "id": "E9v2DpgRbRDJ",
    "outputId": "6d0de607-9097-4e46-f61d-74d53685ed7a"
   },
   "outputs": [
    {
     "data": {
      "text/plain": [
       "Index(['id', 'user_id', 'call_date', 'duration'], dtype='object')"
      ]
     },
     "execution_count": 36,
     "metadata": {},
     "output_type": "execute_result"
    }
   ],
   "source": [
    "# verificando nomes das colunas\n",
    "df_calls.columns"
   ]
  },
  {
   "cell_type": "code",
   "execution_count": 37,
   "metadata": {
    "colab": {
     "base_uri": "https://localhost:8080/"
    },
    "id": "iBHm4KdcbRDJ",
    "outputId": "ea7b01ab-3784-4cc3-8eef-ad707b4fb552"
   },
   "outputs": [
    {
     "name": "stdout",
     "output_type": "stream",
     "text": [
      "<class 'pandas.core.frame.DataFrame'>\n",
      "RangeIndex: 137735 entries, 0 to 137734\n",
      "Data columns (total 4 columns):\n",
      " #   Column     Non-Null Count   Dtype  \n",
      "---  ------     --------------   -----  \n",
      " 0   id         137735 non-null  object \n",
      " 1   user_id    137735 non-null  int64  \n",
      " 2   call_date  137735 non-null  object \n",
      " 3   duration   137735 non-null  float64\n",
      "dtypes: float64(1), int64(1), object(2)\n",
      "memory usage: 4.2+ MB\n"
     ]
    }
   ],
   "source": [
    "# informações gerais\n",
    "df_calls.info()"
   ]
  },
  {
   "cell_type": "code",
   "execution_count": 38,
   "metadata": {
    "colab": {
     "base_uri": "https://localhost:8080/"
    },
    "id": "-KJebknVG4Oi",
    "outputId": "415de106-cf31-447c-d409-c07710129e91"
   },
   "outputs": [
    {
     "data": {
      "text/plain": [
       "(137735, 4)"
      ]
     },
     "execution_count": 38,
     "metadata": {},
     "output_type": "execute_result"
    }
   ],
   "source": [
    "# tamanho\n",
    "df_calls.shape"
   ]
  },
  {
   "cell_type": "code",
   "execution_count": 39,
   "metadata": {
    "colab": {
     "base_uri": "https://localhost:8080/",
     "height": 300
    },
    "id": "8T7_JTIEHFbK",
    "outputId": "3b45dced-4318-4a48-b4ab-d4279e7384f0"
   },
   "outputs": [
    {
     "data": {
      "text/html": [
       "<div>\n",
       "<style scoped>\n",
       "    .dataframe tbody tr th:only-of-type {\n",
       "        vertical-align: middle;\n",
       "    }\n",
       "\n",
       "    .dataframe tbody tr th {\n",
       "        vertical-align: top;\n",
       "    }\n",
       "\n",
       "    .dataframe thead th {\n",
       "        text-align: right;\n",
       "    }\n",
       "</style>\n",
       "<table border=\"1\" class=\"dataframe\">\n",
       "  <thead>\n",
       "    <tr style=\"text-align: right;\">\n",
       "      <th></th>\n",
       "      <th>user_id</th>\n",
       "      <th>duration</th>\n",
       "    </tr>\n",
       "  </thead>\n",
       "  <tbody>\n",
       "    <tr>\n",
       "      <th>count</th>\n",
       "      <td>137735.000000</td>\n",
       "      <td>137735.000000</td>\n",
       "    </tr>\n",
       "    <tr>\n",
       "      <th>mean</th>\n",
       "      <td>1247.658046</td>\n",
       "      <td>6.745927</td>\n",
       "    </tr>\n",
       "    <tr>\n",
       "      <th>std</th>\n",
       "      <td>139.416268</td>\n",
       "      <td>5.839241</td>\n",
       "    </tr>\n",
       "    <tr>\n",
       "      <th>min</th>\n",
       "      <td>1000.000000</td>\n",
       "      <td>0.000000</td>\n",
       "    </tr>\n",
       "    <tr>\n",
       "      <th>25%</th>\n",
       "      <td>1128.000000</td>\n",
       "      <td>1.290000</td>\n",
       "    </tr>\n",
       "    <tr>\n",
       "      <th>50%</th>\n",
       "      <td>1247.000000</td>\n",
       "      <td>5.980000</td>\n",
       "    </tr>\n",
       "    <tr>\n",
       "      <th>75%</th>\n",
       "      <td>1365.000000</td>\n",
       "      <td>10.690000</td>\n",
       "    </tr>\n",
       "    <tr>\n",
       "      <th>max</th>\n",
       "      <td>1499.000000</td>\n",
       "      <td>37.600000</td>\n",
       "    </tr>\n",
       "  </tbody>\n",
       "</table>\n",
       "</div>"
      ],
      "text/plain": [
       "             user_id       duration\n",
       "count  137735.000000  137735.000000\n",
       "mean     1247.658046       6.745927\n",
       "std       139.416268       5.839241\n",
       "min      1000.000000       0.000000\n",
       "25%      1128.000000       1.290000\n",
       "50%      1247.000000       5.980000\n",
       "75%      1365.000000      10.690000\n",
       "max      1499.000000      37.600000"
      ]
     },
     "execution_count": 39,
     "metadata": {},
     "output_type": "execute_result"
    }
   ],
   "source": [
    "# descrição\n",
    "df_calls.describe()"
   ]
  },
  {
   "cell_type": "code",
   "execution_count": 40,
   "metadata": {
    "colab": {
     "base_uri": "https://localhost:8080/",
     "height": 206
    },
    "id": "hTWRmrxiHQtt",
    "outputId": "0a328744-e80c-4aca-c881-e6f43599f7dc"
   },
   "outputs": [
    {
     "data": {
      "text/html": [
       "<div>\n",
       "<style scoped>\n",
       "    .dataframe tbody tr th:only-of-type {\n",
       "        vertical-align: middle;\n",
       "    }\n",
       "\n",
       "    .dataframe tbody tr th {\n",
       "        vertical-align: top;\n",
       "    }\n",
       "\n",
       "    .dataframe thead th {\n",
       "        text-align: right;\n",
       "    }\n",
       "</style>\n",
       "<table border=\"1\" class=\"dataframe\">\n",
       "  <thead>\n",
       "    <tr style=\"text-align: right;\">\n",
       "      <th></th>\n",
       "      <th>id</th>\n",
       "      <th>user_id</th>\n",
       "      <th>call_date</th>\n",
       "      <th>duration</th>\n",
       "    </tr>\n",
       "  </thead>\n",
       "  <tbody>\n",
       "    <tr>\n",
       "      <th>0</th>\n",
       "      <td>1000_93</td>\n",
       "      <td>1000</td>\n",
       "      <td>2018-12-27</td>\n",
       "      <td>8.52</td>\n",
       "    </tr>\n",
       "    <tr>\n",
       "      <th>1</th>\n",
       "      <td>1000_145</td>\n",
       "      <td>1000</td>\n",
       "      <td>2018-12-27</td>\n",
       "      <td>13.66</td>\n",
       "    </tr>\n",
       "    <tr>\n",
       "      <th>2</th>\n",
       "      <td>1000_247</td>\n",
       "      <td>1000</td>\n",
       "      <td>2018-12-27</td>\n",
       "      <td>14.48</td>\n",
       "    </tr>\n",
       "    <tr>\n",
       "      <th>3</th>\n",
       "      <td>1000_309</td>\n",
       "      <td>1000</td>\n",
       "      <td>2018-12-28</td>\n",
       "      <td>5.76</td>\n",
       "    </tr>\n",
       "    <tr>\n",
       "      <th>4</th>\n",
       "      <td>1000_380</td>\n",
       "      <td>1000</td>\n",
       "      <td>2018-12-30</td>\n",
       "      <td>4.22</td>\n",
       "    </tr>\n",
       "  </tbody>\n",
       "</table>\n",
       "</div>"
      ],
      "text/plain": [
       "         id  user_id   call_date  duration\n",
       "0   1000_93     1000  2018-12-27      8.52\n",
       "1  1000_145     1000  2018-12-27     13.66\n",
       "2  1000_247     1000  2018-12-27     14.48\n",
       "3  1000_309     1000  2018-12-28      5.76\n",
       "4  1000_380     1000  2018-12-30      4.22"
      ]
     },
     "execution_count": 40,
     "metadata": {},
     "output_type": "execute_result"
    }
   ],
   "source": [
    "# cabeçalho\n",
    "df_calls.head()"
   ]
  },
  {
   "cell_type": "code",
   "execution_count": 41,
   "metadata": {
    "colab": {
     "base_uri": "https://localhost:8080/",
     "height": 206
    },
    "id": "9N7zv6AeHXa0",
    "outputId": "f0fc8dc4-c649-4875-ec3d-f88a0e7c92dc"
   },
   "outputs": [
    {
     "data": {
      "text/html": [
       "<div>\n",
       "<style scoped>\n",
       "    .dataframe tbody tr th:only-of-type {\n",
       "        vertical-align: middle;\n",
       "    }\n",
       "\n",
       "    .dataframe tbody tr th {\n",
       "        vertical-align: top;\n",
       "    }\n",
       "\n",
       "    .dataframe thead th {\n",
       "        text-align: right;\n",
       "    }\n",
       "</style>\n",
       "<table border=\"1\" class=\"dataframe\">\n",
       "  <thead>\n",
       "    <tr style=\"text-align: right;\">\n",
       "      <th></th>\n",
       "      <th>id</th>\n",
       "      <th>user_id</th>\n",
       "      <th>call_date</th>\n",
       "      <th>duration</th>\n",
       "    </tr>\n",
       "  </thead>\n",
       "  <tbody>\n",
       "    <tr>\n",
       "      <th>137730</th>\n",
       "      <td>1499_199</td>\n",
       "      <td>1499</td>\n",
       "      <td>2018-11-21</td>\n",
       "      <td>8.72</td>\n",
       "    </tr>\n",
       "    <tr>\n",
       "      <th>137731</th>\n",
       "      <td>1499_200</td>\n",
       "      <td>1499</td>\n",
       "      <td>2018-10-20</td>\n",
       "      <td>10.89</td>\n",
       "    </tr>\n",
       "    <tr>\n",
       "      <th>137732</th>\n",
       "      <td>1499_201</td>\n",
       "      <td>1499</td>\n",
       "      <td>2018-09-21</td>\n",
       "      <td>8.12</td>\n",
       "    </tr>\n",
       "    <tr>\n",
       "      <th>137733</th>\n",
       "      <td>1499_202</td>\n",
       "      <td>1499</td>\n",
       "      <td>2018-10-10</td>\n",
       "      <td>0.37</td>\n",
       "    </tr>\n",
       "    <tr>\n",
       "      <th>137734</th>\n",
       "      <td>1499_203</td>\n",
       "      <td>1499</td>\n",
       "      <td>2018-12-29</td>\n",
       "      <td>13.86</td>\n",
       "    </tr>\n",
       "  </tbody>\n",
       "</table>\n",
       "</div>"
      ],
      "text/plain": [
       "              id  user_id   call_date  duration\n",
       "137730  1499_199     1499  2018-11-21      8.72\n",
       "137731  1499_200     1499  2018-10-20     10.89\n",
       "137732  1499_201     1499  2018-09-21      8.12\n",
       "137733  1499_202     1499  2018-10-10      0.37\n",
       "137734  1499_203     1499  2018-12-29     13.86"
      ]
     },
     "execution_count": 41,
     "metadata": {},
     "output_type": "execute_result"
    }
   ],
   "source": [
    "# rodapé\n",
    "df_calls.tail()"
   ]
  },
  {
   "cell_type": "code",
   "execution_count": 42,
   "metadata": {
    "colab": {
     "base_uri": "https://localhost:8080/"
    },
    "id": "VdKj3MYFHd6m",
    "outputId": "c87add57-1663-48df-b562-df2f83d660b6"
   },
   "outputs": [
    {
     "data": {
      "text/plain": [
       "0"
      ]
     },
     "execution_count": 42,
     "metadata": {},
     "output_type": "execute_result"
    }
   ],
   "source": [
    "# olhando duplicados\n",
    "df_calls.duplicated().sum()"
   ]
  },
  {
   "cell_type": "code",
   "execution_count": 43,
   "metadata": {
    "colab": {
     "base_uri": "https://localhost:8080/"
    },
    "id": "m-Csj0sFHs1p",
    "outputId": "13002edf-fd0b-4c2a-a652-1c1047848df1"
   },
   "outputs": [
    {
     "data": {
      "text/plain": [
       "id        user_id  call_date   duration\n",
       "1000_145  1000     2018-12-27  13.66       1\n",
       "1329_678  1329     2018-12-13  9.55        1\n",
       "1329_70   1329     2018-11-18  8.09        1\n",
       "1329_7    1329     2018-12-08  5.72        1\n",
       "1329_699  1329     2018-10-29  11.34       1\n",
       "                                          ..\n",
       "1166_90   1166     2018-12-07  14.68       1\n",
       "1166_9    1166     2018-11-10  0.00        1\n",
       "1166_89   1166     2018-10-13  0.00        1\n",
       "1166_88   1166     2018-10-21  0.00        1\n",
       "1499_99   1499     2018-10-04  0.00        1\n",
       "Length: 137735, dtype: int64"
      ]
     },
     "execution_count": 43,
     "metadata": {},
     "output_type": "execute_result"
    }
   ],
   "source": [
    "# mais informações\n",
    "df_calls.value_counts()"
   ]
  },
  {
   "cell_type": "code",
   "execution_count": 44,
   "metadata": {
    "colab": {
     "base_uri": "https://localhost:8080/"
    },
    "id": "ZmY9Dt3BH4S5",
    "outputId": "ff7f2c05-8b73-47cc-d0a9-a90adaa370a5"
   },
   "outputs": [
    {
     "data": {
      "text/plain": [
       "id           0\n",
       "user_id      0\n",
       "call_date    0\n",
       "duration     0\n",
       "dtype: int64"
      ]
     },
     "execution_count": 44,
     "metadata": {},
     "output_type": "execute_result"
    }
   ],
   "source": [
    "# temos valores nulos?\n",
    "df_calls.isna().sum()"
   ]
  },
  {
   "cell_type": "markdown",
   "metadata": {
    "id": "nDmBOcqobRDK"
   },
   "source": [
    "### Tratamento dos dados de df_calls."
   ]
  },
  {
   "cell_type": "code",
   "execution_count": 45,
   "metadata": {},
   "outputs": [
    {
     "data": {
      "text/plain": [
       "0   2018-12-27\n",
       "1   2018-12-27\n",
       "2   2018-12-27\n",
       "3   2018-12-28\n",
       "4   2018-12-30\n",
       "Name: call_date, dtype: datetime64[ns]"
      ]
     },
     "execution_count": 45,
     "metadata": {},
     "output_type": "execute_result"
    }
   ],
   "source": [
    "# transformando call_date em formato date\n",
    "df_calls['call_date'] = pd.to_datetime(df_calls['call_date'], format='%Y-%m-%d')\n",
    "# verificando...\n",
    "df_calls['call_date'].head()"
   ]
  },
  {
   "cell_type": "code",
   "execution_count": 46,
   "metadata": {},
   "outputs": [
    {
     "data": {
      "text/plain": [
       "id           26834\n",
       "user_id      26834\n",
       "call_date    26834\n",
       "duration     26834\n",
       "dtype: int64"
      ]
     },
     "execution_count": 46,
     "metadata": {},
     "output_type": "execute_result"
    }
   ],
   "source": [
    "# verificando a quantidade de chamadas com tempo 0\n",
    "df_calls_zero = df_calls.loc[ df_calls['duration'] == 0].count()\n",
    "df_calls_zero.head()"
   ]
  },
  {
   "cell_type": "code",
   "execution_count": 47,
   "metadata": {},
   "outputs": [
    {
     "name": "stdout",
     "output_type": "stream",
     "text": [
      "A proporção de chamadas com ZERO no df_calls é de : 19.48 %\n"
     ]
    }
   ],
   "source": [
    "# calculando proporção\n",
    "dimension = df_calls_zero / df_calls.shape[0]\n",
    "print(f'A proporção de chamadas com ZERO no df_calls é de : {round(dimension[0], 4) * 100} %')"
   ]
  },
  {
   "cell_type": "code",
   "execution_count": 48,
   "metadata": {},
   "outputs": [],
   "source": [
    "# retirando as chamadas com zero\n",
    "df_calls = df_calls[df_calls['duration'] != 0]"
   ]
  },
  {
   "cell_type": "code",
   "execution_count": 49,
   "metadata": {},
   "outputs": [
    {
     "data": {
      "text/plain": [
       "(110901, 4)"
      ]
     },
     "execution_count": 49,
     "metadata": {},
     "output_type": "execute_result"
    }
   ],
   "source": [
    "# verificando\n",
    "df_calls.shape"
   ]
  },
  {
   "cell_type": "markdown",
   "metadata": {
    "id": "zF9k_IenbRDL"
   },
   "source": [
    "### Enriquecendo df_calls."
   ]
  },
  {
   "cell_type": "code",
   "execution_count": 50,
   "metadata": {},
   "outputs": [
    {
     "data": {
      "image/png": "[encoded data removed]",
      "text/plain": [
       "<Figure size 1500x600 with 1 Axes>"
      ]
     },
     "metadata": {},
     "output_type": "display_data"
    }
   ],
   "source": [
    "# boxplot do tempo de duração da chamadas\n",
    "plt.figure(figsize=(15, 6))\n",
    "sns.boxplot(x=df_calls['duration'], color='#005666')\n",
    "plt.xlabel('Duração das Chamadas')\n",
    "plt.title('Boxplot da Duração das Chamadas')\n",
    "plt.show()"
   ]
  },
  {
   "cell_type": "code",
   "execution_count": 51,
   "metadata": {},
   "outputs": [],
   "source": [
    "# vamos tratar os outliers com o método de Tukey\n",
    "Q1 = df_calls['duration'].quantile(0.25)\n",
    "Q3 = df_calls['duration'].quantile(0.75)\n",
    "IQR = Q3 - Q1"
   ]
  },
  {
   "cell_type": "code",
   "execution_count": 52,
   "metadata": {},
   "outputs": [
    {
     "data": {
      "text/plain": [
       "23.325"
      ]
     },
     "execution_count": 52,
     "metadata": {},
     "output_type": "execute_result"
    }
   ],
   "source": [
    "# definindo limite superior\n",
    "upper_limit = Q3 + 1.5 * IQR\n",
    "upper_limit"
   ]
  },
  {
   "cell_type": "code",
   "execution_count": 53,
   "metadata": {},
   "outputs": [],
   "source": [
    "# aplicando\n",
    "df_calls= df_calls[(df_calls['duration'] <= upper_limit)]"
   ]
  },
  {
   "cell_type": "code",
   "execution_count": 54,
   "metadata": {},
   "outputs": [
    {
     "data": {
      "image/png": "[encoded data removed]",
      "text/plain": [
       "<Figure size 1500x600 with 1 Axes>"
      ]
     },
     "metadata": {},
     "output_type": "display_data"
    }
   ],
   "source": [
    "# verificando...\n",
    "plt.figure(figsize=(15, 6))\n",
    "sns.boxplot(x=df_calls['duration'], color='#005666')\n",
    "plt.xlabel('Duração das Chamadas')\n",
    "plt.title('Boxplot da Duração das Chamadas')\n",
    "plt.show()"
   ]
  },
  {
   "cell_type": "markdown",
   "metadata": {
    "id": "9QRGAzsFbRDJ"
   },
   "source": [
    "### Overview de df_calls."
   ]
  },
  {
   "cell_type": "markdown",
   "metadata": {},
   "source": [
    "- Bom volume de dados em df_calls\n",
    "- sem dados nulos e duplicados\n",
    "- média e mediana da duração das chamadas muito próximas\n",
    "- transformamos a coluna call_date para formato data e hora\n",
    "- contabilizamos as chamadas com 0 e optamos por retirá-las do dataset\n",
    "- aproximadamente 20% do dataset tinha chamadas com 0\n",
    "- outliers no tempo de chamadas começam a aparecer após o tempo de 20 minutos\n",
    "- utilizamos o método de Tukey para tratar os outliers do df_calls"
   ]
  },
  {
   "cell_type": "markdown",
   "metadata": {},
   "source": [
    "<div class=\"alert alert-block alert-danger\">\n",
    "<b> Comentário do revisor: </b> <a class=\"tocSkip\"></a>\n",
    "\n",
    "O estudante executou a etapa de pré-processamento para os dados de `chamadas` e apresentou suas conclusões. Entretanto, o que fará com os `outliers`? Detalhe como será feito o seu tratamento para esses casos.    \n",
    "    \n",
    "    \n",
    "<br>\n",
    "    \n",
    "Sugestão: https://medium.com/@lucapqg/como-detectar-e-tratar-outliers-com-python-ca2cf088c160\n",
    "\n",
    "</div>"
   ]
  },
  {
   "cell_type": "markdown",
   "metadata": {},
   "source": [
    "<div class=\"alert alert-block alert-info\">\n",
    "<b>Comentário do Aluno.</b> <a class=\"tocSkip\"></a>\n",
    "\n",
    "Identifiquei os outliers e esqueci de tratar eles neste projeto. Mas fiz os ajustes conforme solicitou e gostei bastante do método de Tukey.\n",
    "\n",
    "Ótimo link que me enviou e já estou seguindo o rapaz no medium.\n",
    "\n",
    "</div>"
   ]
  },
  {
   "cell_type": "markdown",
   "metadata": {},
   "source": [
    "<div class=\"alert alert-block alert-success\">\n",
    "<b> Comentário do revisor v2</b> <a class=\"tocSkip\"></a>\n",
    "\n",
    "Ótimo! Tratar outliers é sempre um desafio e precisa de muita experimentação e domínio de negócio. Você está no caminho certo.\n",
    "</div>"
   ]
  },
  {
   "cell_type": "markdown",
   "metadata": {
    "id": "cxJG4NWhbRDM"
   },
   "source": [
    "## Mensagens"
   ]
  },
  {
   "cell_type": "markdown",
   "metadata": {
    "id": "CeWUrEvHaErA"
   },
   "source": [
    "*Analisando df_messages*"
   ]
  },
  {
   "cell_type": "code",
   "execution_count": 55,
   "metadata": {
    "colab": {
     "base_uri": "https://localhost:8080/"
    },
    "id": "N-3ViVXkbRDM",
    "outputId": "446272d8-877c-42db-8201-36cf57d14e08"
   },
   "outputs": [
    {
     "data": {
      "text/plain": [
       "Index(['id', 'user_id', 'message_date'], dtype='object')"
      ]
     },
     "execution_count": 55,
     "metadata": {},
     "output_type": "execute_result"
    }
   ],
   "source": [
    "# verificando nomes das colunas\n",
    "df_messages.columns"
   ]
  },
  {
   "cell_type": "code",
   "execution_count": 56,
   "metadata": {
    "colab": {
     "base_uri": "https://localhost:8080/"
    },
    "id": "qThfQ11ZbRDM",
    "outputId": "512d1050-12af-4b4e-a804-a0beecd9dee0"
   },
   "outputs": [
    {
     "data": {
      "text/plain": [
       "(76051, 3)"
      ]
     },
     "execution_count": 56,
     "metadata": {},
     "output_type": "execute_result"
    }
   ],
   "source": [
    "# tamanho\n",
    "df_messages.shape"
   ]
  },
  {
   "cell_type": "code",
   "execution_count": 57,
   "metadata": {
    "colab": {
     "base_uri": "https://localhost:8080/"
    },
    "id": "A9jB2ddIac6q",
    "outputId": "5e362540-5d24-4e95-d675-c8f1d7606019"
   },
   "outputs": [
    {
     "name": "stdout",
     "output_type": "stream",
     "text": [
      "<class 'pandas.core.frame.DataFrame'>\n",
      "RangeIndex: 76051 entries, 0 to 76050\n",
      "Data columns (total 3 columns):\n",
      " #   Column        Non-Null Count  Dtype \n",
      "---  ------        --------------  ----- \n",
      " 0   id            76051 non-null  object\n",
      " 1   user_id       76051 non-null  int64 \n",
      " 2   message_date  76051 non-null  object\n",
      "dtypes: int64(1), object(2)\n",
      "memory usage: 1.7+ MB\n"
     ]
    }
   ],
   "source": [
    "# informações gerais\n",
    "df_messages.info()"
   ]
  },
  {
   "cell_type": "code",
   "execution_count": 58,
   "metadata": {
    "colab": {
     "base_uri": "https://localhost:8080/",
     "height": 206
    },
    "id": "rbeC0pKRacc7",
    "outputId": "fcb7a91a-9a30-4ccd-df80-88d1ea7b1d81"
   },
   "outputs": [
    {
     "data": {
      "text/html": [
       "<div>\n",
       "<style scoped>\n",
       "    .dataframe tbody tr th:only-of-type {\n",
       "        vertical-align: middle;\n",
       "    }\n",
       "\n",
       "    .dataframe tbody tr th {\n",
       "        vertical-align: top;\n",
       "    }\n",
       "\n",
       "    .dataframe thead th {\n",
       "        text-align: right;\n",
       "    }\n",
       "</style>\n",
       "<table border=\"1\" class=\"dataframe\">\n",
       "  <thead>\n",
       "    <tr style=\"text-align: right;\">\n",
       "      <th></th>\n",
       "      <th>id</th>\n",
       "      <th>user_id</th>\n",
       "      <th>message_date</th>\n",
       "    </tr>\n",
       "  </thead>\n",
       "  <tbody>\n",
       "    <tr>\n",
       "      <th>0</th>\n",
       "      <td>1000_125</td>\n",
       "      <td>1000</td>\n",
       "      <td>2018-12-27</td>\n",
       "    </tr>\n",
       "    <tr>\n",
       "      <th>1</th>\n",
       "      <td>1000_160</td>\n",
       "      <td>1000</td>\n",
       "      <td>2018-12-31</td>\n",
       "    </tr>\n",
       "    <tr>\n",
       "      <th>2</th>\n",
       "      <td>1000_223</td>\n",
       "      <td>1000</td>\n",
       "      <td>2018-12-31</td>\n",
       "    </tr>\n",
       "    <tr>\n",
       "      <th>3</th>\n",
       "      <td>1000_251</td>\n",
       "      <td>1000</td>\n",
       "      <td>2018-12-27</td>\n",
       "    </tr>\n",
       "    <tr>\n",
       "      <th>4</th>\n",
       "      <td>1000_255</td>\n",
       "      <td>1000</td>\n",
       "      <td>2018-12-26</td>\n",
       "    </tr>\n",
       "  </tbody>\n",
       "</table>\n",
       "</div>"
      ],
      "text/plain": [
       "         id  user_id message_date\n",
       "0  1000_125     1000   2018-12-27\n",
       "1  1000_160     1000   2018-12-31\n",
       "2  1000_223     1000   2018-12-31\n",
       "3  1000_251     1000   2018-12-27\n",
       "4  1000_255     1000   2018-12-26"
      ]
     },
     "execution_count": 58,
     "metadata": {},
     "output_type": "execute_result"
    }
   ],
   "source": [
    "# cabeçalho\n",
    "df_messages.head()"
   ]
  },
  {
   "cell_type": "code",
   "execution_count": 59,
   "metadata": {
    "colab": {
     "base_uri": "https://localhost:8080/",
     "height": 206
    },
    "id": "04nPJP_IacP3",
    "outputId": "f32ed5e8-cd6b-4ffc-c12d-4dab62842e57"
   },
   "outputs": [
    {
     "data": {
      "text/html": [
       "<div>\n",
       "<style scoped>\n",
       "    .dataframe tbody tr th:only-of-type {\n",
       "        vertical-align: middle;\n",
       "    }\n",
       "\n",
       "    .dataframe tbody tr th {\n",
       "        vertical-align: top;\n",
       "    }\n",
       "\n",
       "    .dataframe thead th {\n",
       "        text-align: right;\n",
       "    }\n",
       "</style>\n",
       "<table border=\"1\" class=\"dataframe\">\n",
       "  <thead>\n",
       "    <tr style=\"text-align: right;\">\n",
       "      <th></th>\n",
       "      <th>id</th>\n",
       "      <th>user_id</th>\n",
       "      <th>message_date</th>\n",
       "    </tr>\n",
       "  </thead>\n",
       "  <tbody>\n",
       "    <tr>\n",
       "      <th>76046</th>\n",
       "      <td>1497_526</td>\n",
       "      <td>1497</td>\n",
       "      <td>2018-12-24</td>\n",
       "    </tr>\n",
       "    <tr>\n",
       "      <th>76047</th>\n",
       "      <td>1497_536</td>\n",
       "      <td>1497</td>\n",
       "      <td>2018-12-24</td>\n",
       "    </tr>\n",
       "    <tr>\n",
       "      <th>76048</th>\n",
       "      <td>1497_547</td>\n",
       "      <td>1497</td>\n",
       "      <td>2018-12-31</td>\n",
       "    </tr>\n",
       "    <tr>\n",
       "      <th>76049</th>\n",
       "      <td>1497_558</td>\n",
       "      <td>1497</td>\n",
       "      <td>2018-12-24</td>\n",
       "    </tr>\n",
       "    <tr>\n",
       "      <th>76050</th>\n",
       "      <td>1497_613</td>\n",
       "      <td>1497</td>\n",
       "      <td>2018-12-23</td>\n",
       "    </tr>\n",
       "  </tbody>\n",
       "</table>\n",
       "</div>"
      ],
      "text/plain": [
       "             id  user_id message_date\n",
       "76046  1497_526     1497   2018-12-24\n",
       "76047  1497_536     1497   2018-12-24\n",
       "76048  1497_547     1497   2018-12-31\n",
       "76049  1497_558     1497   2018-12-24\n",
       "76050  1497_613     1497   2018-12-23"
      ]
     },
     "execution_count": 59,
     "metadata": {},
     "output_type": "execute_result"
    }
   ],
   "source": [
    "# rodapé\n",
    "df_messages.tail()"
   ]
  },
  {
   "cell_type": "code",
   "execution_count": 60,
   "metadata": {
    "colab": {
     "base_uri": "https://localhost:8080/",
     "height": 300
    },
    "id": "w6mwuLuracrQ",
    "outputId": "92214035-9c0e-4f2b-c67a-66adaf5fb8fc"
   },
   "outputs": [
    {
     "data": {
      "text/html": [
       "<div>\n",
       "<style scoped>\n",
       "    .dataframe tbody tr th:only-of-type {\n",
       "        vertical-align: middle;\n",
       "    }\n",
       "\n",
       "    .dataframe tbody tr th {\n",
       "        vertical-align: top;\n",
       "    }\n",
       "\n",
       "    .dataframe thead th {\n",
       "        text-align: right;\n",
       "    }\n",
       "</style>\n",
       "<table border=\"1\" class=\"dataframe\">\n",
       "  <thead>\n",
       "    <tr style=\"text-align: right;\">\n",
       "      <th></th>\n",
       "      <th>user_id</th>\n",
       "    </tr>\n",
       "  </thead>\n",
       "  <tbody>\n",
       "    <tr>\n",
       "      <th>count</th>\n",
       "      <td>76051.000000</td>\n",
       "    </tr>\n",
       "    <tr>\n",
       "      <th>mean</th>\n",
       "      <td>1245.972768</td>\n",
       "    </tr>\n",
       "    <tr>\n",
       "      <th>std</th>\n",
       "      <td>139.843635</td>\n",
       "    </tr>\n",
       "    <tr>\n",
       "      <th>min</th>\n",
       "      <td>1000.000000</td>\n",
       "    </tr>\n",
       "    <tr>\n",
       "      <th>25%</th>\n",
       "      <td>1123.000000</td>\n",
       "    </tr>\n",
       "    <tr>\n",
       "      <th>50%</th>\n",
       "      <td>1251.000000</td>\n",
       "    </tr>\n",
       "    <tr>\n",
       "      <th>75%</th>\n",
       "      <td>1362.000000</td>\n",
       "    </tr>\n",
       "    <tr>\n",
       "      <th>max</th>\n",
       "      <td>1497.000000</td>\n",
       "    </tr>\n",
       "  </tbody>\n",
       "</table>\n",
       "</div>"
      ],
      "text/plain": [
       "            user_id\n",
       "count  76051.000000\n",
       "mean    1245.972768\n",
       "std      139.843635\n",
       "min     1000.000000\n",
       "25%     1123.000000\n",
       "50%     1251.000000\n",
       "75%     1362.000000\n",
       "max     1497.000000"
      ]
     },
     "execution_count": 60,
     "metadata": {},
     "output_type": "execute_result"
    }
   ],
   "source": [
    "# descrição\n",
    "df_messages.describe()"
   ]
  },
  {
   "cell_type": "code",
   "execution_count": 61,
   "metadata": {
    "colab": {
     "base_uri": "https://localhost:8080/"
    },
    "id": "eUblyOotbLo-",
    "outputId": "c1d7f12c-b95c-444c-c8ca-87787f18d15d"
   },
   "outputs": [
    {
     "data": {
      "text/plain": [
       "0"
      ]
     },
     "execution_count": 61,
     "metadata": {},
     "output_type": "execute_result"
    }
   ],
   "source": [
    "# verificando duplicados\n",
    "df_messages.duplicated().sum()"
   ]
  },
  {
   "cell_type": "code",
   "execution_count": 62,
   "metadata": {
    "colab": {
     "base_uri": "https://localhost:8080/"
    },
    "id": "zOjzdcpvbXN6",
    "outputId": "7991a250-b060-4abc-99eb-9a9f23492be5"
   },
   "outputs": [
    {
     "data": {
      "text/plain": [
       "76051"
      ]
     },
     "execution_count": 62,
     "metadata": {},
     "output_type": "execute_result"
    }
   ],
   "source": [
    "# mais informações\n",
    "df_messages.value_counts().sum()"
   ]
  },
  {
   "cell_type": "code",
   "execution_count": 63,
   "metadata": {
    "colab": {
     "base_uri": "https://localhost:8080/"
    },
    "id": "W6DrXTtIbkk1",
    "outputId": "6a594e98-1e98-49f0-9989-66c28757ee5e"
   },
   "outputs": [
    {
     "data": {
      "text/plain": [
       "id              0\n",
       "user_id         0\n",
       "message_date    0\n",
       "dtype: int64"
      ]
     },
     "execution_count": 63,
     "metadata": {},
     "output_type": "execute_result"
    }
   ],
   "source": [
    "# isna\n",
    "df_messages.isna().sum()"
   ]
  },
  {
   "cell_type": "markdown",
   "metadata": {
    "id": "xPWfZNR4bRDN"
   },
   "source": [
    "### Corrigindo dados"
   ]
  },
  {
   "cell_type": "code",
   "execution_count": 64,
   "metadata": {},
   "outputs": [
    {
     "data": {
      "text/plain": [
       "0   2018-12-27\n",
       "1   2018-12-31\n",
       "2   2018-12-31\n",
       "3   2018-12-27\n",
       "4   2018-12-26\n",
       "Name: message_date, dtype: datetime64[ns]"
      ]
     },
     "execution_count": 64,
     "metadata": {},
     "output_type": "execute_result"
    }
   ],
   "source": [
    "# message_date para date\n",
    "df_messages['message_date'] = pd.to_datetime(df_messages['message_date'], format='%Y-%m-%d')\n",
    "df_messages['message_date'].head()"
   ]
  },
  {
   "cell_type": "markdown",
   "metadata": {},
   "source": [
    "### Overview de df_messages."
   ]
  },
  {
   "cell_type": "markdown",
   "metadata": {},
   "source": [
    "- Sem valores nulos ou duplicados em df_messages\n",
    "- transformamos a coluna 'message_date' em to_datetime"
   ]
  },
  {
   "cell_type": "markdown",
   "metadata": {},
   "source": [
    "<div class=\"alert alert-block alert-success\">\n",
    "<b> Comentário do revisor: </b> <a class=\"tocSkip\"></a>\n",
    "\n",
    "O estudante executou a etapa de pré-processamento para os dados de `mensagens` e apresentou suas conclusões. \n",
    "\n",
    "</div>"
   ]
  },
  {
   "cell_type": "markdown",
   "metadata": {
    "id": "V284d9BdbRDO"
   },
   "source": [
    "## Internet"
   ]
  },
  {
   "cell_type": "markdown",
   "metadata": {
    "id": "Hpz4Ugqe08yg"
   },
   "source": [
    "*Explorando df_internet*"
   ]
  },
  {
   "cell_type": "code",
   "execution_count": 65,
   "metadata": {
    "colab": {
     "base_uri": "https://localhost:8080/"
    },
    "id": "8nYq6dH2bRDO",
    "outputId": "7b12b444-69a9-4f04-a2e8-81d07cafc386"
   },
   "outputs": [
    {
     "data": {
      "text/plain": [
       "Index(['id', 'user_id', 'session_date', 'mb_used'], dtype='object')"
      ]
     },
     "execution_count": 65,
     "metadata": {},
     "output_type": "execute_result"
    }
   ],
   "source": [
    "# verificando nomes das colunas\n",
    "df_internet.columns"
   ]
  },
  {
   "cell_type": "code",
   "execution_count": 66,
   "metadata": {
    "colab": {
     "base_uri": "https://localhost:8080/"
    },
    "id": "ARmStSWHbRDO",
    "outputId": "52d3fa5b-042f-4992-8840-1ad48684b440"
   },
   "outputs": [
    {
     "data": {
      "text/plain": [
       "(104825, 4)"
      ]
     },
     "execution_count": 66,
     "metadata": {},
     "output_type": "execute_result"
    }
   ],
   "source": [
    "# tamanho\n",
    "df_internet.shape"
   ]
  },
  {
   "cell_type": "code",
   "execution_count": 67,
   "metadata": {
    "colab": {
     "base_uri": "https://localhost:8080/"
    },
    "id": "MUa7nizP1OfU",
    "outputId": "658d12a0-0bc4-489b-c30b-f28f544d1a5f"
   },
   "outputs": [
    {
     "name": "stdout",
     "output_type": "stream",
     "text": [
      "<class 'pandas.core.frame.DataFrame'>\n",
      "RangeIndex: 104825 entries, 0 to 104824\n",
      "Data columns (total 4 columns):\n",
      " #   Column        Non-Null Count   Dtype  \n",
      "---  ------        --------------   -----  \n",
      " 0   id            104825 non-null  object \n",
      " 1   user_id       104825 non-null  int64  \n",
      " 2   session_date  104825 non-null  object \n",
      " 3   mb_used       104825 non-null  float64\n",
      "dtypes: float64(1), int64(1), object(2)\n",
      "memory usage: 3.2+ MB\n"
     ]
    }
   ],
   "source": [
    "# informações gerais\n",
    "df_internet.info()"
   ]
  },
  {
   "cell_type": "code",
   "execution_count": 68,
   "metadata": {
    "colab": {
     "base_uri": "https://localhost:8080/",
     "height": 206
    },
    "id": "7GfHx-_11OFn",
    "outputId": "0d5d6dd9-9082-4664-c00e-e45d7a50de24"
   },
   "outputs": [
    {
     "data": {
      "text/html": [
       "<div>\n",
       "<style scoped>\n",
       "    .dataframe tbody tr th:only-of-type {\n",
       "        vertical-align: middle;\n",
       "    }\n",
       "\n",
       "    .dataframe tbody tr th {\n",
       "        vertical-align: top;\n",
       "    }\n",
       "\n",
       "    .dataframe thead th {\n",
       "        text-align: right;\n",
       "    }\n",
       "</style>\n",
       "<table border=\"1\" class=\"dataframe\">\n",
       "  <thead>\n",
       "    <tr style=\"text-align: right;\">\n",
       "      <th></th>\n",
       "      <th>id</th>\n",
       "      <th>user_id</th>\n",
       "      <th>session_date</th>\n",
       "      <th>mb_used</th>\n",
       "    </tr>\n",
       "  </thead>\n",
       "  <tbody>\n",
       "    <tr>\n",
       "      <th>0</th>\n",
       "      <td>1000_13</td>\n",
       "      <td>1000</td>\n",
       "      <td>2018-12-29</td>\n",
       "      <td>89.86</td>\n",
       "    </tr>\n",
       "    <tr>\n",
       "      <th>1</th>\n",
       "      <td>1000_204</td>\n",
       "      <td>1000</td>\n",
       "      <td>2018-12-31</td>\n",
       "      <td>0.00</td>\n",
       "    </tr>\n",
       "    <tr>\n",
       "      <th>2</th>\n",
       "      <td>1000_379</td>\n",
       "      <td>1000</td>\n",
       "      <td>2018-12-28</td>\n",
       "      <td>660.40</td>\n",
       "    </tr>\n",
       "    <tr>\n",
       "      <th>3</th>\n",
       "      <td>1000_413</td>\n",
       "      <td>1000</td>\n",
       "      <td>2018-12-26</td>\n",
       "      <td>270.99</td>\n",
       "    </tr>\n",
       "    <tr>\n",
       "      <th>4</th>\n",
       "      <td>1000_442</td>\n",
       "      <td>1000</td>\n",
       "      <td>2018-12-27</td>\n",
       "      <td>880.22</td>\n",
       "    </tr>\n",
       "  </tbody>\n",
       "</table>\n",
       "</div>"
      ],
      "text/plain": [
       "         id  user_id session_date  mb_used\n",
       "0   1000_13     1000   2018-12-29    89.86\n",
       "1  1000_204     1000   2018-12-31     0.00\n",
       "2  1000_379     1000   2018-12-28   660.40\n",
       "3  1000_413     1000   2018-12-26   270.99\n",
       "4  1000_442     1000   2018-12-27   880.22"
      ]
     },
     "execution_count": 68,
     "metadata": {},
     "output_type": "execute_result"
    }
   ],
   "source": [
    "# cabeçalho\n",
    "df_internet.head()"
   ]
  },
  {
   "cell_type": "code",
   "execution_count": 69,
   "metadata": {
    "colab": {
     "base_uri": "https://localhost:8080/",
     "height": 206
    },
    "id": "ISBE5S4U1N6J",
    "outputId": "4baade21-9d6a-4f96-b7e5-0342fbea289b"
   },
   "outputs": [
    {
     "data": {
      "text/html": [
       "<div>\n",
       "<style scoped>\n",
       "    .dataframe tbody tr th:only-of-type {\n",
       "        vertical-align: middle;\n",
       "    }\n",
       "\n",
       "    .dataframe tbody tr th {\n",
       "        vertical-align: top;\n",
       "    }\n",
       "\n",
       "    .dataframe thead th {\n",
       "        text-align: right;\n",
       "    }\n",
       "</style>\n",
       "<table border=\"1\" class=\"dataframe\">\n",
       "  <thead>\n",
       "    <tr style=\"text-align: right;\">\n",
       "      <th></th>\n",
       "      <th>id</th>\n",
       "      <th>user_id</th>\n",
       "      <th>session_date</th>\n",
       "      <th>mb_used</th>\n",
       "    </tr>\n",
       "  </thead>\n",
       "  <tbody>\n",
       "    <tr>\n",
       "      <th>104820</th>\n",
       "      <td>1499_215</td>\n",
       "      <td>1499</td>\n",
       "      <td>2018-10-20</td>\n",
       "      <td>218.06</td>\n",
       "    </tr>\n",
       "    <tr>\n",
       "      <th>104821</th>\n",
       "      <td>1499_216</td>\n",
       "      <td>1499</td>\n",
       "      <td>2018-12-30</td>\n",
       "      <td>304.72</td>\n",
       "    </tr>\n",
       "    <tr>\n",
       "      <th>104822</th>\n",
       "      <td>1499_217</td>\n",
       "      <td>1499</td>\n",
       "      <td>2018-09-22</td>\n",
       "      <td>292.75</td>\n",
       "    </tr>\n",
       "    <tr>\n",
       "      <th>104823</th>\n",
       "      <td>1499_218</td>\n",
       "      <td>1499</td>\n",
       "      <td>2018-12-07</td>\n",
       "      <td>0.00</td>\n",
       "    </tr>\n",
       "    <tr>\n",
       "      <th>104824</th>\n",
       "      <td>1499_219</td>\n",
       "      <td>1499</td>\n",
       "      <td>2018-12-24</td>\n",
       "      <td>758.31</td>\n",
       "    </tr>\n",
       "  </tbody>\n",
       "</table>\n",
       "</div>"
      ],
      "text/plain": [
       "              id  user_id session_date  mb_used\n",
       "104820  1499_215     1499   2018-10-20   218.06\n",
       "104821  1499_216     1499   2018-12-30   304.72\n",
       "104822  1499_217     1499   2018-09-22   292.75\n",
       "104823  1499_218     1499   2018-12-07     0.00\n",
       "104824  1499_219     1499   2018-12-24   758.31"
      ]
     },
     "execution_count": 69,
     "metadata": {},
     "output_type": "execute_result"
    }
   ],
   "source": [
    "# rodapé\n",
    "df_internet.tail()"
   ]
  },
  {
   "cell_type": "code",
   "execution_count": 70,
   "metadata": {},
   "outputs": [
    {
     "data": {
      "text/plain": [
       "0        2018-12-29\n",
       "1        2018-12-31\n",
       "2        2018-12-28\n",
       "3        2018-12-26\n",
       "4        2018-12-27\n",
       "            ...    \n",
       "104820   2018-10-20\n",
       "104821   2018-12-30\n",
       "104822   2018-09-22\n",
       "104823   2018-12-07\n",
       "104824   2018-12-24\n",
       "Name: session_date, Length: 104825, dtype: datetime64[ns]"
      ]
     },
     "execution_count": 70,
     "metadata": {},
     "output_type": "execute_result"
    }
   ],
   "source": [
    "# session_date para date\n",
    "df_internet['session_date'] = pd.to_datetime(df_internet['session_date'], format='%Y-%m-%d')\n",
    "df_internet['session_date']"
   ]
  },
  {
   "cell_type": "code",
   "execution_count": 71,
   "metadata": {
    "colab": {
     "base_uri": "https://localhost:8080/",
     "height": 300
    },
    "id": "eTlxJpW01OQE",
    "outputId": "280c97b2-5157-433d-be96-907cf12c931d"
   },
   "outputs": [
    {
     "data": {
      "text/html": [
       "<div>\n",
       "<style scoped>\n",
       "    .dataframe tbody tr th:only-of-type {\n",
       "        vertical-align: middle;\n",
       "    }\n",
       "\n",
       "    .dataframe tbody tr th {\n",
       "        vertical-align: top;\n",
       "    }\n",
       "\n",
       "    .dataframe thead th {\n",
       "        text-align: right;\n",
       "    }\n",
       "</style>\n",
       "<table border=\"1\" class=\"dataframe\">\n",
       "  <thead>\n",
       "    <tr style=\"text-align: right;\">\n",
       "      <th></th>\n",
       "      <th>user_id</th>\n",
       "      <th>mb_used</th>\n",
       "    </tr>\n",
       "  </thead>\n",
       "  <tbody>\n",
       "    <tr>\n",
       "      <th>count</th>\n",
       "      <td>104825.000000</td>\n",
       "      <td>104825.000000</td>\n",
       "    </tr>\n",
       "    <tr>\n",
       "      <th>mean</th>\n",
       "      <td>1242.496361</td>\n",
       "      <td>366.713701</td>\n",
       "    </tr>\n",
       "    <tr>\n",
       "      <th>std</th>\n",
       "      <td>142.053913</td>\n",
       "      <td>277.170542</td>\n",
       "    </tr>\n",
       "    <tr>\n",
       "      <th>min</th>\n",
       "      <td>1000.000000</td>\n",
       "      <td>0.000000</td>\n",
       "    </tr>\n",
       "    <tr>\n",
       "      <th>25%</th>\n",
       "      <td>1122.000000</td>\n",
       "      <td>136.080000</td>\n",
       "    </tr>\n",
       "    <tr>\n",
       "      <th>50%</th>\n",
       "      <td>1236.000000</td>\n",
       "      <td>343.980000</td>\n",
       "    </tr>\n",
       "    <tr>\n",
       "      <th>75%</th>\n",
       "      <td>1367.000000</td>\n",
       "      <td>554.610000</td>\n",
       "    </tr>\n",
       "    <tr>\n",
       "      <th>max</th>\n",
       "      <td>1499.000000</td>\n",
       "      <td>1693.470000</td>\n",
       "    </tr>\n",
       "  </tbody>\n",
       "</table>\n",
       "</div>"
      ],
      "text/plain": [
       "             user_id        mb_used\n",
       "count  104825.000000  104825.000000\n",
       "mean     1242.496361     366.713701\n",
       "std       142.053913     277.170542\n",
       "min      1000.000000       0.000000\n",
       "25%      1122.000000     136.080000\n",
       "50%      1236.000000     343.980000\n",
       "75%      1367.000000     554.610000\n",
       "max      1499.000000    1693.470000"
      ]
     },
     "execution_count": 71,
     "metadata": {},
     "output_type": "execute_result"
    }
   ],
   "source": [
    "# descrição\n",
    "df_internet.describe()"
   ]
  },
  {
   "cell_type": "code",
   "execution_count": 72,
   "metadata": {
    "colab": {
     "base_uri": "https://localhost:8080/"
    },
    "id": "j14KctBD1xxC",
    "outputId": "e4f1260f-1e18-47c3-e460-d3bb99b8aa2c"
   },
   "outputs": [
    {
     "data": {
      "text/plain": [
       "0"
      ]
     },
     "execution_count": 72,
     "metadata": {},
     "output_type": "execute_result"
    }
   ],
   "source": [
    "# verificando duplicados\n",
    "df_internet.duplicated().sum()"
   ]
  },
  {
   "cell_type": "code",
   "execution_count": 73,
   "metadata": {
    "colab": {
     "base_uri": "https://localhost:8080/"
    },
    "id": "kt69tATo14dh",
    "outputId": "ef4fe3ab-32b1-4c60-a6b0-1b11c418e859"
   },
   "outputs": [
    {
     "data": {
      "text/plain": [
       "104825"
      ]
     },
     "execution_count": 73,
     "metadata": {},
     "output_type": "execute_result"
    }
   ],
   "source": [
    "# mais informações\n",
    "df_internet.value_counts().sum()"
   ]
  },
  {
   "cell_type": "code",
   "execution_count": 74,
   "metadata": {
    "colab": {
     "base_uri": "https://localhost:8080/"
    },
    "id": "qeKDBw4N1xpA",
    "outputId": "8c5318f1-4f3e-4c2e-f2a1-4d457987fdba"
   },
   "outputs": [
    {
     "data": {
      "text/plain": [
       "id              0\n",
       "user_id         0\n",
       "session_date    0\n",
       "mb_used         0\n",
       "dtype: int64"
      ]
     },
     "execution_count": 74,
     "metadata": {},
     "output_type": "execute_result"
    }
   ],
   "source": [
    "# valores nulos\n",
    "df_internet.isna().sum()"
   ]
  },
  {
   "cell_type": "code",
   "execution_count": 75,
   "metadata": {},
   "outputs": [
    {
     "data": {
      "text/html": [
       "<div>\n",
       "<style scoped>\n",
       "    .dataframe tbody tr th:only-of-type {\n",
       "        vertical-align: middle;\n",
       "    }\n",
       "\n",
       "    .dataframe tbody tr th {\n",
       "        vertical-align: top;\n",
       "    }\n",
       "\n",
       "    .dataframe thead th {\n",
       "        text-align: right;\n",
       "    }\n",
       "</style>\n",
       "<table border=\"1\" class=\"dataframe\">\n",
       "  <thead>\n",
       "    <tr style=\"text-align: right;\">\n",
       "      <th></th>\n",
       "      <th>id</th>\n",
       "      <th>user_id</th>\n",
       "      <th>session_date</th>\n",
       "      <th>mb_used</th>\n",
       "    </tr>\n",
       "  </thead>\n",
       "  <tbody>\n",
       "    <tr>\n",
       "      <th>0</th>\n",
       "      <td>1000_13</td>\n",
       "      <td>1000</td>\n",
       "      <td>2018-12-29</td>\n",
       "      <td>89.86</td>\n",
       "    </tr>\n",
       "    <tr>\n",
       "      <th>1</th>\n",
       "      <td>1000_204</td>\n",
       "      <td>1000</td>\n",
       "      <td>2018-12-31</td>\n",
       "      <td>0.00</td>\n",
       "    </tr>\n",
       "    <tr>\n",
       "      <th>2</th>\n",
       "      <td>1000_379</td>\n",
       "      <td>1000</td>\n",
       "      <td>2018-12-28</td>\n",
       "      <td>660.40</td>\n",
       "    </tr>\n",
       "    <tr>\n",
       "      <th>3</th>\n",
       "      <td>1000_413</td>\n",
       "      <td>1000</td>\n",
       "      <td>2018-12-26</td>\n",
       "      <td>270.99</td>\n",
       "    </tr>\n",
       "    <tr>\n",
       "      <th>4</th>\n",
       "      <td>1000_442</td>\n",
       "      <td>1000</td>\n",
       "      <td>2018-12-27</td>\n",
       "      <td>880.22</td>\n",
       "    </tr>\n",
       "  </tbody>\n",
       "</table>\n",
       "</div>"
      ],
      "text/plain": [
       "         id  user_id session_date  mb_used\n",
       "0   1000_13     1000   2018-12-29    89.86\n",
       "1  1000_204     1000   2018-12-31     0.00\n",
       "2  1000_379     1000   2018-12-28   660.40\n",
       "3  1000_413     1000   2018-12-26   270.99\n",
       "4  1000_442     1000   2018-12-27   880.22"
      ]
     },
     "execution_count": 75,
     "metadata": {},
     "output_type": "execute_result"
    }
   ],
   "source": [
    "df_internet.head()"
   ]
  },
  {
   "cell_type": "code",
   "execution_count": 76,
   "metadata": {},
   "outputs": [
    {
     "data": {
      "text/plain": [
       "id              13747\n",
       "user_id         13747\n",
       "session_date    13747\n",
       "mb_used         13747\n",
       "dtype: int64"
      ]
     },
     "execution_count": 76,
     "metadata": {},
     "output_type": "execute_result"
    }
   ],
   "source": [
    "df_mb_zero = df_internet.loc[df_internet['mb_used'] == 0].count()\n",
    "df_mb_zero"
   ]
  },
  {
   "cell_type": "code",
   "execution_count": 77,
   "metadata": {},
   "outputs": [
    {
     "name": "stdout",
     "output_type": "stream",
     "text": [
      "A proporção de linhas com informações de 0 mb usados no df_internet é de: 13.11 %\n"
     ]
    }
   ],
   "source": [
    "relation = df_mb_zero[0] / df_internet.shape[0]\n",
    "print(f'A proporção de linhas com informações de 0 mb usados no df_internet é de: {(round(relation, 4) * 100)} %')"
   ]
  },
  {
   "cell_type": "code",
   "execution_count": 78,
   "metadata": {},
   "outputs": [
    {
     "data": {
      "text/html": [
       "<div>\n",
       "<style scoped>\n",
       "    .dataframe tbody tr th:only-of-type {\n",
       "        vertical-align: middle;\n",
       "    }\n",
       "\n",
       "    .dataframe tbody tr th {\n",
       "        vertical-align: top;\n",
       "    }\n",
       "\n",
       "    .dataframe thead th {\n",
       "        text-align: right;\n",
       "    }\n",
       "</style>\n",
       "<table border=\"1\" class=\"dataframe\">\n",
       "  <thead>\n",
       "    <tr style=\"text-align: right;\">\n",
       "      <th></th>\n",
       "      <th>id</th>\n",
       "      <th>user_id</th>\n",
       "      <th>session_date</th>\n",
       "      <th>mb_used</th>\n",
       "    </tr>\n",
       "  </thead>\n",
       "  <tbody>\n",
       "    <tr>\n",
       "      <th>0</th>\n",
       "      <td>1000_13</td>\n",
       "      <td>1000</td>\n",
       "      <td>2018-12-29</td>\n",
       "      <td>89.86</td>\n",
       "    </tr>\n",
       "    <tr>\n",
       "      <th>2</th>\n",
       "      <td>1000_379</td>\n",
       "      <td>1000</td>\n",
       "      <td>2018-12-28</td>\n",
       "      <td>660.40</td>\n",
       "    </tr>\n",
       "    <tr>\n",
       "      <th>3</th>\n",
       "      <td>1000_413</td>\n",
       "      <td>1000</td>\n",
       "      <td>2018-12-26</td>\n",
       "      <td>270.99</td>\n",
       "    </tr>\n",
       "    <tr>\n",
       "      <th>4</th>\n",
       "      <td>1000_442</td>\n",
       "      <td>1000</td>\n",
       "      <td>2018-12-27</td>\n",
       "      <td>880.22</td>\n",
       "    </tr>\n",
       "    <tr>\n",
       "      <th>5</th>\n",
       "      <td>1001_0</td>\n",
       "      <td>1001</td>\n",
       "      <td>2018-08-24</td>\n",
       "      <td>284.68</td>\n",
       "    </tr>\n",
       "  </tbody>\n",
       "</table>\n",
       "</div>"
      ],
      "text/plain": [
       "         id  user_id session_date  mb_used\n",
       "0   1000_13     1000   2018-12-29    89.86\n",
       "2  1000_379     1000   2018-12-28   660.40\n",
       "3  1000_413     1000   2018-12-26   270.99\n",
       "4  1000_442     1000   2018-12-27   880.22\n",
       "5    1001_0     1001   2018-08-24   284.68"
      ]
     },
     "execution_count": 78,
     "metadata": {},
     "output_type": "execute_result"
    }
   ],
   "source": [
    "# removendo do df_internet onde mb_used é zero\n",
    "df_internet = df_internet[df_internet['mb_used'] != 0]\n",
    "# verificando...\n",
    "df_internet.head()"
   ]
  },
  {
   "cell_type": "code",
   "execution_count": 79,
   "metadata": {},
   "outputs": [
    {
     "data": {
      "image/png": "[encoded data removed]",
      "text/plain": [
       "<Figure size 1500x600 with 1 Axes>"
      ]
     },
     "metadata": {},
     "output_type": "display_data"
    }
   ],
   "source": [
    "# boxplot de df_internet\n",
    "plt.figure(figsize=(15, 6))\n",
    "sns.boxplot(x=df_internet['mb_used'], color='#005666')\n",
    "plt.xlabel('mb')\n",
    "plt.title('Boxplot de mb_used')\n",
    "plt.show()"
   ]
  },
  {
   "cell_type": "code",
   "execution_count": 80,
   "metadata": {},
   "outputs": [],
   "source": [
    "# muitos outliers...\n",
    "Q1 = df_internet['mb_used'].quantile(0.25)\n",
    "Q3 = df_internet['mb_used'].quantile(0.75)\n",
    "IQR = Q3 - Q1"
   ]
  },
  {
   "cell_type": "code",
   "execution_count": 81,
   "metadata": {},
   "outputs": [],
   "source": [
    "# limite superior\n",
    "upper_limit = Q3 + 1.5 * IQR"
   ]
  },
  {
   "cell_type": "code",
   "execution_count": 82,
   "metadata": {},
   "outputs": [],
   "source": [
    "# limpando\n",
    "df_internet = df_internet[(df_internet['mb_used'] <= upper_limit)]"
   ]
  },
  {
   "cell_type": "code",
   "execution_count": 83,
   "metadata": {},
   "outputs": [
    {
     "data": {
      "image/png": "[encoded data removed]",
      "text/plain": [
       "<Figure size 1500x600 with 1 Axes>"
      ]
     },
     "metadata": {},
     "output_type": "display_data"
    }
   ],
   "source": [
    "# verificando a remoção com boxplot\n",
    "plt.figure(figsize=(15, 6))\n",
    "sns.boxplot(x=df_internet['mb_used'], color='#005666')\n",
    "plt.xlabel('mb')\n",
    "plt.title('Boxplot de mb_used')\n",
    "plt.show()"
   ]
  },
  {
   "cell_type": "markdown",
   "metadata": {},
   "source": [
    "### Overview df_internet."
   ]
  },
  {
   "cell_type": "markdown",
   "metadata": {},
   "source": [
    "- Novamente sem duplicados e sem valores nulos\n",
    "- média e mediana de mb usados ficou em torno de 350 mb\n",
    "- existiam 13747 acessos com 0 mb usados, o qual representa 13% do dataset\n",
    "- foram removidos\n",
    "- tratamos novamente os outliers com o valioso método Tukey"
   ]
  },
  {
   "cell_type": "markdown",
   "metadata": {},
   "source": [
    "<div class=\"alert alert-block alert-danger\">\n",
    "<b> Comentário do revisor: </b> <a class=\"tocSkip\"></a>\n",
    "\n",
    "O estudante executou a etapa de pré-processamento para os dados de `internet` e apresentou suas conclusões. Novamente, detalhe sua estratégia para lidar com outliers e defenda sua escolha.\n",
    "\n",
    "</div>"
   ]
  },
  {
   "cell_type": "markdown",
   "metadata": {},
   "source": [
    "<div class=\"alert alert-block alert-info\">\n",
    "<b>Comentário do Aluno.</b> <a class=\"tocSkip\"></a>\n",
    "\n",
    "Executado o tratamento dos outliers novamente.\n",
    "\n",
    "</div>"
   ]
  },
  {
   "cell_type": "markdown",
   "metadata": {},
   "source": [
    "<div class=\"alert alert-block alert-success\">\n",
    "<b> Comentário do revisor v2</b> <a class=\"tocSkip\"></a>\n",
    "\n",
    "Perfeito!\n",
    "</div>"
   ]
  },
  {
   "cell_type": "markdown",
   "metadata": {
    "id": "OOpl3YAZbRDQ"
   },
   "source": [
    "## Estudando as variáveis dos planos."
   ]
  },
  {
   "cell_type": "code",
   "execution_count": 84,
   "metadata": {
    "id": "IepdQLxLbRDQ"
   },
   "outputs": [
    {
     "data": {
      "text/html": [
       "<div>\n",
       "<style scoped>\n",
       "    .dataframe tbody tr th:only-of-type {\n",
       "        vertical-align: middle;\n",
       "    }\n",
       "\n",
       "    .dataframe tbody tr th {\n",
       "        vertical-align: top;\n",
       "    }\n",
       "\n",
       "    .dataframe thead th {\n",
       "        text-align: right;\n",
       "    }\n",
       "</style>\n",
       "<table border=\"1\" class=\"dataframe\">\n",
       "  <thead>\n",
       "    <tr style=\"text-align: right;\">\n",
       "      <th></th>\n",
       "      <th>plan_name</th>\n",
       "      <th>usd_monthly_pay</th>\n",
       "      <th>gb_per_month_included</th>\n",
       "      <th>usd_per_gb</th>\n",
       "      <th>minutes_included</th>\n",
       "      <th>usd_per_minute</th>\n",
       "      <th>messages_included</th>\n",
       "      <th>usd_per_message</th>\n",
       "      <th>mb_per_month_included</th>\n",
       "    </tr>\n",
       "  </thead>\n",
       "  <tbody>\n",
       "    <tr>\n",
       "      <th>0</th>\n",
       "      <td>surf</td>\n",
       "      <td>20</td>\n",
       "      <td>15.0</td>\n",
       "      <td>10</td>\n",
       "      <td>500</td>\n",
       "      <td>0.03</td>\n",
       "      <td>50</td>\n",
       "      <td>0.03</td>\n",
       "      <td>15360</td>\n",
       "    </tr>\n",
       "    <tr>\n",
       "      <th>1</th>\n",
       "      <td>ultimate</td>\n",
       "      <td>70</td>\n",
       "      <td>30.0</td>\n",
       "      <td>7</td>\n",
       "      <td>3000</td>\n",
       "      <td>0.01</td>\n",
       "      <td>1000</td>\n",
       "      <td>0.01</td>\n",
       "      <td>30720</td>\n",
       "    </tr>\n",
       "  </tbody>\n",
       "</table>\n",
       "</div>"
      ],
      "text/plain": [
       "  plan_name  usd_monthly_pay  gb_per_month_included  usd_per_gb  \\\n",
       "0      surf               20                   15.0          10   \n",
       "1  ultimate               70                   30.0           7   \n",
       "\n",
       "   minutes_included  usd_per_minute  messages_included  usd_per_message  \\\n",
       "0               500            0.03                 50             0.03   \n",
       "1              3000            0.01               1000             0.01   \n",
       "\n",
       "   mb_per_month_included  \n",
       "0                  15360  \n",
       "1                  30720  "
      ]
     },
     "execution_count": 84,
     "metadata": {},
     "output_type": "execute_result"
    }
   ],
   "source": [
    "# Estudando os planos\n",
    "df_plans.head()"
   ]
  },
  {
   "cell_type": "markdown",
   "metadata": {
    "id": "1_0E1Y1obRDQ"
   },
   "source": [
    "## Dados agregados por usuário\n",
    "\n",
    "[Agora, como os dados estão limpos, agregue os dados por usuário por período para ter apenas um registro por usuário por período. Irá facilitar muito a análise posterior.]"
   ]
  },
  {
   "cell_type": "markdown",
   "metadata": {},
   "source": [
    "### df_messages."
   ]
  },
  {
   "cell_type": "code",
   "execution_count": 85,
   "metadata": {
    "id": "lpBr3LkAbRDR"
   },
   "outputs": [
    {
     "data": {
      "text/html": [
       "<div>\n",
       "<style scoped>\n",
       "    .dataframe tbody tr th:only-of-type {\n",
       "        vertical-align: middle;\n",
       "    }\n",
       "\n",
       "    .dataframe tbody tr th {\n",
       "        vertical-align: top;\n",
       "    }\n",
       "\n",
       "    .dataframe thead th {\n",
       "        text-align: right;\n",
       "    }\n",
       "</style>\n",
       "<table border=\"1\" class=\"dataframe\">\n",
       "  <thead>\n",
       "    <tr style=\"text-align: right;\">\n",
       "      <th></th>\n",
       "      <th>id</th>\n",
       "      <th>user_id</th>\n",
       "      <th>message_date</th>\n",
       "    </tr>\n",
       "  </thead>\n",
       "  <tbody>\n",
       "    <tr>\n",
       "      <th>11560</th>\n",
       "      <td>1078_27</td>\n",
       "      <td>1078</td>\n",
       "      <td>2018-12-25</td>\n",
       "    </tr>\n",
       "    <tr>\n",
       "      <th>56002</th>\n",
       "      <td>1354_202</td>\n",
       "      <td>1354</td>\n",
       "      <td>2018-10-25</td>\n",
       "    </tr>\n",
       "    <tr>\n",
       "      <th>49839</th>\n",
       "      <td>1328_797</td>\n",
       "      <td>1328</td>\n",
       "      <td>2018-09-11</td>\n",
       "    </tr>\n",
       "    <tr>\n",
       "      <th>10906</th>\n",
       "      <td>1077_177</td>\n",
       "      <td>1077</td>\n",
       "      <td>2018-06-22</td>\n",
       "    </tr>\n",
       "    <tr>\n",
       "      <th>1380</th>\n",
       "      <td>1011_343</td>\n",
       "      <td>1011</td>\n",
       "      <td>2018-06-25</td>\n",
       "    </tr>\n",
       "  </tbody>\n",
       "</table>\n",
       "</div>"
      ],
      "text/plain": [
       "             id  user_id message_date\n",
       "11560   1078_27     1078   2018-12-25\n",
       "56002  1354_202     1354   2018-10-25\n",
       "49839  1328_797     1328   2018-09-11\n",
       "10906  1077_177     1077   2018-06-22\n",
       "1380   1011_343     1011   2018-06-25"
      ]
     },
     "execution_count": 85,
     "metadata": {},
     "output_type": "execute_result"
    }
   ],
   "source": [
    "# verificando df_messages\n",
    "df_messages.sample(5)"
   ]
  },
  {
   "cell_type": "code",
   "execution_count": 86,
   "metadata": {},
   "outputs": [],
   "source": [
    "# criando nova coluna month em df_messages\n",
    "df_messages['month'] = df_messages['message_date'].dt.month"
   ]
  },
  {
   "cell_type": "code",
   "execution_count": 87,
   "metadata": {},
   "outputs": [],
   "source": [
    "# removendo message_date\n",
    "df_messages = df_messages.drop('message_date', axis=1)"
   ]
  },
  {
   "cell_type": "code",
   "execution_count": 88,
   "metadata": {},
   "outputs": [],
   "source": [
    "# pivot table\n",
    "df_messages = df_messages.pivot_table(index=['user_id', 'month'], values='id', aggfunc='count')"
   ]
  },
  {
   "cell_type": "code",
   "execution_count": 89,
   "metadata": {},
   "outputs": [],
   "source": [
    "# alterando índices\n",
    "df_messages.reset_index(inplace=True)"
   ]
  },
  {
   "cell_type": "code",
   "execution_count": 90,
   "metadata": {},
   "outputs": [],
   "source": [
    "# renomeando coluna\n",
    "df_messages.rename(columns={'id': 'msg_sent'}, inplace=True)"
   ]
  },
  {
   "cell_type": "code",
   "execution_count": 91,
   "metadata": {},
   "outputs": [
    {
     "data": {
      "text/html": [
       "<div>\n",
       "<style scoped>\n",
       "    .dataframe tbody tr th:only-of-type {\n",
       "        vertical-align: middle;\n",
       "    }\n",
       "\n",
       "    .dataframe tbody tr th {\n",
       "        vertical-align: top;\n",
       "    }\n",
       "\n",
       "    .dataframe thead th {\n",
       "        text-align: right;\n",
       "    }\n",
       "</style>\n",
       "<table border=\"1\" class=\"dataframe\">\n",
       "  <thead>\n",
       "    <tr style=\"text-align: right;\">\n",
       "      <th></th>\n",
       "      <th>user_id</th>\n",
       "      <th>month</th>\n",
       "      <th>msg_sent</th>\n",
       "    </tr>\n",
       "  </thead>\n",
       "  <tbody>\n",
       "    <tr>\n",
       "      <th>0</th>\n",
       "      <td>1000</td>\n",
       "      <td>12</td>\n",
       "      <td>11</td>\n",
       "    </tr>\n",
       "    <tr>\n",
       "      <th>1</th>\n",
       "      <td>1001</td>\n",
       "      <td>8</td>\n",
       "      <td>30</td>\n",
       "    </tr>\n",
       "    <tr>\n",
       "      <th>2</th>\n",
       "      <td>1001</td>\n",
       "      <td>9</td>\n",
       "      <td>44</td>\n",
       "    </tr>\n",
       "    <tr>\n",
       "      <th>3</th>\n",
       "      <td>1001</td>\n",
       "      <td>10</td>\n",
       "      <td>53</td>\n",
       "    </tr>\n",
       "    <tr>\n",
       "      <th>4</th>\n",
       "      <td>1001</td>\n",
       "      <td>11</td>\n",
       "      <td>36</td>\n",
       "    </tr>\n",
       "    <tr>\n",
       "      <th>5</th>\n",
       "      <td>1001</td>\n",
       "      <td>12</td>\n",
       "      <td>44</td>\n",
       "    </tr>\n",
       "    <tr>\n",
       "      <th>6</th>\n",
       "      <td>1002</td>\n",
       "      <td>10</td>\n",
       "      <td>15</td>\n",
       "    </tr>\n",
       "    <tr>\n",
       "      <th>7</th>\n",
       "      <td>1002</td>\n",
       "      <td>11</td>\n",
       "      <td>32</td>\n",
       "    </tr>\n",
       "    <tr>\n",
       "      <th>8</th>\n",
       "      <td>1002</td>\n",
       "      <td>12</td>\n",
       "      <td>41</td>\n",
       "    </tr>\n",
       "    <tr>\n",
       "      <th>9</th>\n",
       "      <td>1003</td>\n",
       "      <td>12</td>\n",
       "      <td>50</td>\n",
       "    </tr>\n",
       "  </tbody>\n",
       "</table>\n",
       "</div>"
      ],
      "text/plain": [
       "   user_id  month  msg_sent\n",
       "0     1000     12        11\n",
       "1     1001      8        30\n",
       "2     1001      9        44\n",
       "3     1001     10        53\n",
       "4     1001     11        36\n",
       "5     1001     12        44\n",
       "6     1002     10        15\n",
       "7     1002     11        32\n",
       "8     1002     12        41\n",
       "9     1003     12        50"
      ]
     },
     "execution_count": 91,
     "metadata": {},
     "output_type": "execute_result"
    }
   ],
   "source": [
    "# conferindo a quantidade de mensagens enviadas por usuário por mês\n",
    "df_messages.head(10)"
   ]
  },
  {
   "cell_type": "markdown",
   "metadata": {},
   "source": [
    "<div class=\"alert alert-block alert-success\">\n",
    "<b> Comentário do revisor: </b> <a class=\"tocSkip\"></a>\n",
    "\n",
    "O estudante analisou os dados agregados para `mensagens` e utilizou corretamente a função `.dt.month` para acessar o mês a partir da data.\n",
    "\n",
    "</div>"
   ]
  },
  {
   "cell_type": "markdown",
   "metadata": {},
   "source": [
    "### df_internet."
   ]
  },
  {
   "cell_type": "code",
   "execution_count": 92,
   "metadata": {},
   "outputs": [
    {
     "data": {
      "text/html": [
       "<div>\n",
       "<style scoped>\n",
       "    .dataframe tbody tr th:only-of-type {\n",
       "        vertical-align: middle;\n",
       "    }\n",
       "\n",
       "    .dataframe tbody tr th {\n",
       "        vertical-align: top;\n",
       "    }\n",
       "\n",
       "    .dataframe thead th {\n",
       "        text-align: right;\n",
       "    }\n",
       "</style>\n",
       "<table border=\"1\" class=\"dataframe\">\n",
       "  <thead>\n",
       "    <tr style=\"text-align: right;\">\n",
       "      <th></th>\n",
       "      <th>id</th>\n",
       "      <th>user_id</th>\n",
       "      <th>session_date</th>\n",
       "      <th>mb_used</th>\n",
       "    </tr>\n",
       "  </thead>\n",
       "  <tbody>\n",
       "    <tr>\n",
       "      <th>0</th>\n",
       "      <td>1000_13</td>\n",
       "      <td>1000</td>\n",
       "      <td>2018-12-29</td>\n",
       "      <td>89.86</td>\n",
       "    </tr>\n",
       "    <tr>\n",
       "      <th>2</th>\n",
       "      <td>1000_379</td>\n",
       "      <td>1000</td>\n",
       "      <td>2018-12-28</td>\n",
       "      <td>660.40</td>\n",
       "    </tr>\n",
       "    <tr>\n",
       "      <th>3</th>\n",
       "      <td>1000_413</td>\n",
       "      <td>1000</td>\n",
       "      <td>2018-12-26</td>\n",
       "      <td>270.99</td>\n",
       "    </tr>\n",
       "    <tr>\n",
       "      <th>4</th>\n",
       "      <td>1000_442</td>\n",
       "      <td>1000</td>\n",
       "      <td>2018-12-27</td>\n",
       "      <td>880.22</td>\n",
       "    </tr>\n",
       "    <tr>\n",
       "      <th>5</th>\n",
       "      <td>1001_0</td>\n",
       "      <td>1001</td>\n",
       "      <td>2018-08-24</td>\n",
       "      <td>284.68</td>\n",
       "    </tr>\n",
       "  </tbody>\n",
       "</table>\n",
       "</div>"
      ],
      "text/plain": [
       "         id  user_id session_date  mb_used\n",
       "0   1000_13     1000   2018-12-29    89.86\n",
       "2  1000_379     1000   2018-12-28   660.40\n",
       "3  1000_413     1000   2018-12-26   270.99\n",
       "4  1000_442     1000   2018-12-27   880.22\n",
       "5    1001_0     1001   2018-08-24   284.68"
      ]
     },
     "execution_count": 92,
     "metadata": {},
     "output_type": "execute_result"
    }
   ],
   "source": [
    "# verificando df_internet\n",
    "df_internet.head()"
   ]
  },
  {
   "cell_type": "code",
   "execution_count": 93,
   "metadata": {},
   "outputs": [],
   "source": [
    "# criando coluna month em df_internet\n",
    "df_internet['month'] = df_internet['session_date'].dt.month"
   ]
  },
  {
   "cell_type": "code",
   "execution_count": 94,
   "metadata": {
    "id": "wJzGw_YubRDR"
   },
   "outputs": [],
   "source": [
    "# pivoteando\n",
    "df_internet = df_internet.pivot_table(index=['user_id', 'month'] ,values='mb_used', aggfunc='sum')"
   ]
  },
  {
   "cell_type": "code",
   "execution_count": 95,
   "metadata": {},
   "outputs": [],
   "source": [
    "# alterando índices\n",
    "df_internet.reset_index(inplace=True)"
   ]
  },
  {
   "cell_type": "code",
   "execution_count": 96,
   "metadata": {},
   "outputs": [
    {
     "data": {
      "text/html": [
       "<div>\n",
       "<style scoped>\n",
       "    .dataframe tbody tr th:only-of-type {\n",
       "        vertical-align: middle;\n",
       "    }\n",
       "\n",
       "    .dataframe tbody tr th {\n",
       "        vertical-align: top;\n",
       "    }\n",
       "\n",
       "    .dataframe thead th {\n",
       "        text-align: right;\n",
       "    }\n",
       "</style>\n",
       "<table border=\"1\" class=\"dataframe\">\n",
       "  <thead>\n",
       "    <tr style=\"text-align: right;\">\n",
       "      <th></th>\n",
       "      <th>user_id</th>\n",
       "      <th>month</th>\n",
       "      <th>mb_used</th>\n",
       "    </tr>\n",
       "  </thead>\n",
       "  <tbody>\n",
       "    <tr>\n",
       "      <th>0</th>\n",
       "      <td>1000</td>\n",
       "      <td>12</td>\n",
       "      <td>1901.47</td>\n",
       "    </tr>\n",
       "    <tr>\n",
       "      <th>1</th>\n",
       "      <td>1001</td>\n",
       "      <td>8</td>\n",
       "      <td>6919.15</td>\n",
       "    </tr>\n",
       "    <tr>\n",
       "      <th>2</th>\n",
       "      <td>1001</td>\n",
       "      <td>9</td>\n",
       "      <td>12140.09</td>\n",
       "    </tr>\n",
       "    <tr>\n",
       "      <th>3</th>\n",
       "      <td>1001</td>\n",
       "      <td>10</td>\n",
       "      <td>22330.49</td>\n",
       "    </tr>\n",
       "    <tr>\n",
       "      <th>4</th>\n",
       "      <td>1001</td>\n",
       "      <td>11</td>\n",
       "      <td>18504.30</td>\n",
       "    </tr>\n",
       "  </tbody>\n",
       "</table>\n",
       "</div>"
      ],
      "text/plain": [
       "   user_id  month   mb_used\n",
       "0     1000     12   1901.47\n",
       "1     1001      8   6919.15\n",
       "2     1001      9  12140.09\n",
       "3     1001     10  22330.49\n",
       "4     1001     11  18504.30"
      ]
     },
     "execution_count": 96,
     "metadata": {},
     "output_type": "execute_result"
    }
   ],
   "source": [
    "# conferindo volume de tráfego de internet usado por cada usuário por mês\n",
    "df_internet.head()"
   ]
  },
  {
   "cell_type": "markdown",
   "metadata": {},
   "source": [
    "<div class=\"alert alert-block alert-success\">\n",
    "<b> Comentário do revisor: </b> <a class=\"tocSkip\"></a>\n",
    "\n",
    "O estudante analisou os dados agregados para `internet` e utilizou corretamente a função `.dt.month` para acessar o mês a partir da data.\n",
    "\n",
    "</div>"
   ]
  },
  {
   "cell_type": "markdown",
   "metadata": {},
   "source": [
    "### df_calls."
   ]
  },
  {
   "cell_type": "code",
   "execution_count": 97,
   "metadata": {},
   "outputs": [],
   "source": [
    "# criando nova coluna month\n",
    "df_calls['month'] = df_calls['call_date'].dt.month"
   ]
  },
  {
   "cell_type": "code",
   "execution_count": 98,
   "metadata": {},
   "outputs": [
    {
     "data": {
      "text/html": [
       "<div>\n",
       "<style scoped>\n",
       "    .dataframe tbody tr th:only-of-type {\n",
       "        vertical-align: middle;\n",
       "    }\n",
       "\n",
       "    .dataframe tbody tr th {\n",
       "        vertical-align: top;\n",
       "    }\n",
       "\n",
       "    .dataframe thead th {\n",
       "        text-align: right;\n",
       "    }\n",
       "</style>\n",
       "<table border=\"1\" class=\"dataframe\">\n",
       "  <thead>\n",
       "    <tr style=\"text-align: right;\">\n",
       "      <th></th>\n",
       "      <th>id</th>\n",
       "      <th>user_id</th>\n",
       "      <th>call_date</th>\n",
       "      <th>duration</th>\n",
       "      <th>month</th>\n",
       "    </tr>\n",
       "  </thead>\n",
       "  <tbody>\n",
       "    <tr>\n",
       "      <th>100987</th>\n",
       "      <td>1361_89</td>\n",
       "      <td>1361</td>\n",
       "      <td>2018-09-20</td>\n",
       "      <td>12.20</td>\n",
       "      <td>9</td>\n",
       "    </tr>\n",
       "    <tr>\n",
       "      <th>15538</th>\n",
       "      <td>1061_480</td>\n",
       "      <td>1061</td>\n",
       "      <td>2018-09-09</td>\n",
       "      <td>9.59</td>\n",
       "      <td>9</td>\n",
       "    </tr>\n",
       "    <tr>\n",
       "      <th>37435</th>\n",
       "      <td>1141_428</td>\n",
       "      <td>1141</td>\n",
       "      <td>2018-10-14</td>\n",
       "      <td>8.47</td>\n",
       "      <td>10</td>\n",
       "    </tr>\n",
       "    <tr>\n",
       "      <th>106256</th>\n",
       "      <td>1374_352</td>\n",
       "      <td>1374</td>\n",
       "      <td>2018-11-14</td>\n",
       "      <td>8.56</td>\n",
       "      <td>11</td>\n",
       "    </tr>\n",
       "    <tr>\n",
       "      <th>42916</th>\n",
       "      <td>1156_521</td>\n",
       "      <td>1156</td>\n",
       "      <td>2018-06-07</td>\n",
       "      <td>3.41</td>\n",
       "      <td>6</td>\n",
       "    </tr>\n",
       "  </tbody>\n",
       "</table>\n",
       "</div>"
      ],
      "text/plain": [
       "              id  user_id  call_date  duration  month\n",
       "100987   1361_89     1361 2018-09-20     12.20      9\n",
       "15538   1061_480     1061 2018-09-09      9.59      9\n",
       "37435   1141_428     1141 2018-10-14      8.47     10\n",
       "106256  1374_352     1374 2018-11-14      8.56     11\n",
       "42916   1156_521     1156 2018-06-07      3.41      6"
      ]
     },
     "execution_count": 98,
     "metadata": {},
     "output_type": "execute_result"
    }
   ],
   "source": [
    "# verificando...\n",
    "df_calls.sample(5)"
   ]
  },
  {
   "cell_type": "code",
   "execution_count": 99,
   "metadata": {},
   "outputs": [],
   "source": [
    "# pivot table\n",
    "df_calls = df_calls.pivot_table(index=['user_id', 'month'], values=['duration', 'id'], aggfunc={'duration': 'sum', 'id': 'count'})"
   ]
  },
  {
   "cell_type": "code",
   "execution_count": 100,
   "metadata": {},
   "outputs": [],
   "source": [
    "# alterando índices\n",
    "df_calls.reset_index(inplace=True)"
   ]
  },
  {
   "cell_type": "code",
   "execution_count": 101,
   "metadata": {},
   "outputs": [
    {
     "data": {
      "text/html": [
       "<div>\n",
       "<style scoped>\n",
       "    .dataframe tbody tr th:only-of-type {\n",
       "        vertical-align: middle;\n",
       "    }\n",
       "\n",
       "    .dataframe tbody tr th {\n",
       "        vertical-align: top;\n",
       "    }\n",
       "\n",
       "    .dataframe thead th {\n",
       "        text-align: right;\n",
       "    }\n",
       "</style>\n",
       "<table border=\"1\" class=\"dataframe\">\n",
       "  <thead>\n",
       "    <tr style=\"text-align: right;\">\n",
       "      <th></th>\n",
       "      <th>user_id</th>\n",
       "      <th>month</th>\n",
       "      <th>duration</th>\n",
       "      <th>id</th>\n",
       "    </tr>\n",
       "  </thead>\n",
       "  <tbody>\n",
       "    <tr>\n",
       "      <th>0</th>\n",
       "      <td>1000</td>\n",
       "      <td>12</td>\n",
       "      <td>116.83</td>\n",
       "      <td>16</td>\n",
       "    </tr>\n",
       "    <tr>\n",
       "      <th>1</th>\n",
       "      <td>1001</td>\n",
       "      <td>8</td>\n",
       "      <td>171.14</td>\n",
       "      <td>22</td>\n",
       "    </tr>\n",
       "    <tr>\n",
       "      <th>2</th>\n",
       "      <td>1001</td>\n",
       "      <td>9</td>\n",
       "      <td>297.69</td>\n",
       "      <td>38</td>\n",
       "    </tr>\n",
       "    <tr>\n",
       "      <th>3</th>\n",
       "      <td>1001</td>\n",
       "      <td>10</td>\n",
       "      <td>374.11</td>\n",
       "      <td>47</td>\n",
       "    </tr>\n",
       "    <tr>\n",
       "      <th>4</th>\n",
       "      <td>1001</td>\n",
       "      <td>11</td>\n",
       "      <td>374.59</td>\n",
       "      <td>48</td>\n",
       "    </tr>\n",
       "  </tbody>\n",
       "</table>\n",
       "</div>"
      ],
      "text/plain": [
       "   user_id  month  duration  id\n",
       "0     1000     12    116.83  16\n",
       "1     1001      8    171.14  22\n",
       "2     1001      9    297.69  38\n",
       "3     1001     10    374.11  47\n",
       "4     1001     11    374.59  48"
      ]
     },
     "execution_count": 101,
     "metadata": {},
     "output_type": "execute_result"
    }
   ],
   "source": [
    "# conferindo\n",
    "df_calls.head()"
   ]
  },
  {
   "cell_type": "code",
   "execution_count": 102,
   "metadata": {},
   "outputs": [],
   "source": [
    "# renomeando colunas\n",
    "df_calls.rename(columns={'id': 'number_of_calls', 'duration': 'calls_duration_minutes'}, inplace=True)"
   ]
  },
  {
   "cell_type": "code",
   "execution_count": 103,
   "metadata": {},
   "outputs": [
    {
     "data": {
      "text/html": [
       "<div>\n",
       "<style scoped>\n",
       "    .dataframe tbody tr th:only-of-type {\n",
       "        vertical-align: middle;\n",
       "    }\n",
       "\n",
       "    .dataframe tbody tr th {\n",
       "        vertical-align: top;\n",
       "    }\n",
       "\n",
       "    .dataframe thead th {\n",
       "        text-align: right;\n",
       "    }\n",
       "</style>\n",
       "<table border=\"1\" class=\"dataframe\">\n",
       "  <thead>\n",
       "    <tr style=\"text-align: right;\">\n",
       "      <th></th>\n",
       "      <th>user_id</th>\n",
       "      <th>month</th>\n",
       "      <th>calls_duration_minutes</th>\n",
       "      <th>number_of_calls</th>\n",
       "    </tr>\n",
       "  </thead>\n",
       "  <tbody>\n",
       "    <tr>\n",
       "      <th>0</th>\n",
       "      <td>1000</td>\n",
       "      <td>12</td>\n",
       "      <td>116.83</td>\n",
       "      <td>16</td>\n",
       "    </tr>\n",
       "    <tr>\n",
       "      <th>1</th>\n",
       "      <td>1001</td>\n",
       "      <td>8</td>\n",
       "      <td>171.14</td>\n",
       "      <td>22</td>\n",
       "    </tr>\n",
       "    <tr>\n",
       "      <th>2</th>\n",
       "      <td>1001</td>\n",
       "      <td>9</td>\n",
       "      <td>297.69</td>\n",
       "      <td>38</td>\n",
       "    </tr>\n",
       "    <tr>\n",
       "      <th>3</th>\n",
       "      <td>1001</td>\n",
       "      <td>10</td>\n",
       "      <td>374.11</td>\n",
       "      <td>47</td>\n",
       "    </tr>\n",
       "    <tr>\n",
       "      <th>4</th>\n",
       "      <td>1001</td>\n",
       "      <td>11</td>\n",
       "      <td>374.59</td>\n",
       "      <td>48</td>\n",
       "    </tr>\n",
       "  </tbody>\n",
       "</table>\n",
       "</div>"
      ],
      "text/plain": [
       "   user_id  month  calls_duration_minutes  number_of_calls\n",
       "0     1000     12                  116.83               16\n",
       "1     1001      8                  171.14               22\n",
       "2     1001      9                  297.69               38\n",
       "3     1001     10                  374.11               47\n",
       "4     1001     11                  374.59               48"
      ]
     },
     "execution_count": 103,
     "metadata": {},
     "output_type": "execute_result"
    }
   ],
   "source": [
    "# agora temos a quantidade de chamadas feitas e a duração delas por cada usuário por mês\n",
    "df_calls.head()"
   ]
  },
  {
   "cell_type": "markdown",
   "metadata": {},
   "source": [
    "<div class=\"alert alert-block alert-success\">\n",
    "<b> Comentário do revisor: </b> <a class=\"tocSkip\"></a>\n",
    "\n",
    "O estudante analisou os dados agregados para `chamadas` e utilizou corretamente a função `.dt.month` para acessar o mês a partir da data.\n",
    "\n",
    "</div>"
   ]
  },
  {
   "cell_type": "markdown",
   "metadata": {
    "id": "ip4v_NMXbRDR"
   },
   "source": [
    "## Agregando os datasets."
   ]
  },
  {
   "cell_type": "code",
   "execution_count": 104,
   "metadata": {},
   "outputs": [],
   "source": [
    "# usando merge\n",
    "merged_df = pd.merge(df_internet, df_messages, on=['user_id', 'month'], how='outer')"
   ]
  },
  {
   "cell_type": "code",
   "execution_count": 105,
   "metadata": {},
   "outputs": [],
   "source": [
    "# novamente merge...\n",
    "merged_df = pd.merge(merged_df, df_calls, on=['user_id', 'month'], how='outer')"
   ]
  },
  {
   "cell_type": "markdown",
   "metadata": {},
   "source": [
    "<div class=\"alert alert-block alert-danger\">\n",
    "<b> Comentário do revisor: </b> <a class=\"tocSkip\"></a>\n",
    "    \n",
    "Aqui você está fazendo o join entre os conjuntos de dados usando o `inner`, porém essa estratégia irá fazer um filtro na tabela resultante para manter somente os usuários que existem nos dois casos e também fizeram uma ação no mesmo mês. Por exemplo, você irá manter somente usuários que usaram internet, fizeram chamada e enviaram mensagem. O que acontece se um usuário enviou mensagem mas não teve nenhuma ligação naquele mês?\n",
    "    \n",
    "Para fazer esse merge, use o `outer` para preservar os dados de todos os conjuntos de dados. Essa figura mostra o que é executado em cada tipo de operação: https://miro.medium.com/v2/resize:fit:1400/format:webp/1*9eH1_7VbTZPZd9jBiGIyNA.png. Repare que essa etapa pode mudar completamente o resto da sua análise.\n",
    "\n",
    "</div>"
   ]
  },
  {
   "cell_type": "code",
   "execution_count": 106,
   "metadata": {},
   "outputs": [
    {
     "data": {
      "text/plain": [
       "user_id                     0\n",
       "month                       0\n",
       "mb_used                    17\n",
       "msg_sent                  487\n",
       "calls_duration_minutes     37\n",
       "number_of_calls            37\n",
       "dtype: int64"
      ]
     },
     "execution_count": 106,
     "metadata": {},
     "output_type": "execute_result"
    }
   ],
   "source": [
    "# conferindo os merges\n",
    "merged_df.isna().sum()"
   ]
  },
  {
   "cell_type": "code",
   "execution_count": 107,
   "metadata": {},
   "outputs": [],
   "source": [
    "# Nan onde os usuários não utilizaram os serviços\n",
    "merged_df.fillna(0, inplace=True)"
   ]
  },
  {
   "cell_type": "markdown",
   "metadata": {},
   "source": [
    "<div class=\"alert alert-block alert-info\">\n",
    "<b>Comentário do Aluno.</b> <a class=\"tocSkip\"></a>\n",
    "\n",
    "Acredito ter entendido e efetuado corretamente agora o merge e o tratamento pós merge.\n",
    "\n",
    "Obrigado pela observação e vou ficar mais atento nos projetos seguintes!\n",
    "\n",
    "</div>"
   ]
  },
  {
   "cell_type": "markdown",
   "metadata": {},
   "source": [
    "<div class=\"alert alert-block alert-success\">\n",
    "<b> Comentário do revisor v2</b> <a class=\"tocSkip\"></a>\n",
    "\n",
    "Correto! Isso mesmo, essa etapa de merge de dados é muito importante, pois pode impactar todas as análises subsequentes. Fique atento também a qual o método padrão utilizado pela biblioteca se nenhum valor é informado. Por precaução, tente sempre informar explicitamente o método (`inner`, `outer`, `left`, etc.) que pretende utilizar.\n",
    "</div>"
   ]
  },
  {
   "cell_type": "code",
   "execution_count": 108,
   "metadata": {},
   "outputs": [
    {
     "data": {
      "text/html": [
       "<div>\n",
       "<style scoped>\n",
       "    .dataframe tbody tr th:only-of-type {\n",
       "        vertical-align: middle;\n",
       "    }\n",
       "\n",
       "    .dataframe tbody tr th {\n",
       "        vertical-align: top;\n",
       "    }\n",
       "\n",
       "    .dataframe thead th {\n",
       "        text-align: right;\n",
       "    }\n",
       "</style>\n",
       "<table border=\"1\" class=\"dataframe\">\n",
       "  <thead>\n",
       "    <tr style=\"text-align: right;\">\n",
       "      <th></th>\n",
       "      <th>user_id</th>\n",
       "      <th>month</th>\n",
       "      <th>mb_used</th>\n",
       "      <th>msg_sent</th>\n",
       "      <th>calls_duration_minutes</th>\n",
       "      <th>number_of_calls</th>\n",
       "    </tr>\n",
       "  </thead>\n",
       "  <tbody>\n",
       "    <tr>\n",
       "      <th>0</th>\n",
       "      <td>1000</td>\n",
       "      <td>12</td>\n",
       "      <td>1901.47</td>\n",
       "      <td>11.0</td>\n",
       "      <td>116.83</td>\n",
       "      <td>16.0</td>\n",
       "    </tr>\n",
       "    <tr>\n",
       "      <th>1</th>\n",
       "      <td>1001</td>\n",
       "      <td>8</td>\n",
       "      <td>6919.15</td>\n",
       "      <td>30.0</td>\n",
       "      <td>171.14</td>\n",
       "      <td>22.0</td>\n",
       "    </tr>\n",
       "    <tr>\n",
       "      <th>2</th>\n",
       "      <td>1001</td>\n",
       "      <td>9</td>\n",
       "      <td>12140.09</td>\n",
       "      <td>44.0</td>\n",
       "      <td>297.69</td>\n",
       "      <td>38.0</td>\n",
       "    </tr>\n",
       "    <tr>\n",
       "      <th>3</th>\n",
       "      <td>1001</td>\n",
       "      <td>10</td>\n",
       "      <td>22330.49</td>\n",
       "      <td>53.0</td>\n",
       "      <td>374.11</td>\n",
       "      <td>47.0</td>\n",
       "    </tr>\n",
       "    <tr>\n",
       "      <th>4</th>\n",
       "      <td>1001</td>\n",
       "      <td>11</td>\n",
       "      <td>18504.30</td>\n",
       "      <td>36.0</td>\n",
       "      <td>374.59</td>\n",
       "      <td>48.0</td>\n",
       "    </tr>\n",
       "    <tr>\n",
       "      <th>5</th>\n",
       "      <td>1001</td>\n",
       "      <td>12</td>\n",
       "      <td>18226.93</td>\n",
       "      <td>44.0</td>\n",
       "      <td>339.20</td>\n",
       "      <td>44.0</td>\n",
       "    </tr>\n",
       "    <tr>\n",
       "      <th>6</th>\n",
       "      <td>1002</td>\n",
       "      <td>10</td>\n",
       "      <td>6552.01</td>\n",
       "      <td>15.0</td>\n",
       "      <td>54.13</td>\n",
       "      <td>8.0</td>\n",
       "    </tr>\n",
       "    <tr>\n",
       "      <th>7</th>\n",
       "      <td>1002</td>\n",
       "      <td>11</td>\n",
       "      <td>19345.08</td>\n",
       "      <td>32.0</td>\n",
       "      <td>359.76</td>\n",
       "      <td>48.0</td>\n",
       "    </tr>\n",
       "    <tr>\n",
       "      <th>8</th>\n",
       "      <td>1002</td>\n",
       "      <td>12</td>\n",
       "      <td>14396.24</td>\n",
       "      <td>41.0</td>\n",
       "      <td>337.02</td>\n",
       "      <td>37.0</td>\n",
       "    </tr>\n",
       "    <tr>\n",
       "      <th>9</th>\n",
       "      <td>1003</td>\n",
       "      <td>12</td>\n",
       "      <td>24600.83</td>\n",
       "      <td>50.0</td>\n",
       "      <td>990.06</td>\n",
       "      <td>116.0</td>\n",
       "    </tr>\n",
       "    <tr>\n",
       "      <th>10</th>\n",
       "      <td>1004</td>\n",
       "      <td>5</td>\n",
       "      <td>6547.21</td>\n",
       "      <td>7.0</td>\n",
       "      <td>158.21</td>\n",
       "      <td>18.0</td>\n",
       "    </tr>\n",
       "    <tr>\n",
       "      <th>11</th>\n",
       "      <td>1004</td>\n",
       "      <td>6</td>\n",
       "      <td>20672.82</td>\n",
       "      <td>18.0</td>\n",
       "      <td>261.32</td>\n",
       "      <td>33.0</td>\n",
       "    </tr>\n",
       "  </tbody>\n",
       "</table>\n",
       "</div>"
      ],
      "text/plain": [
       "    user_id  month   mb_used  msg_sent  calls_duration_minutes  \\\n",
       "0      1000     12   1901.47      11.0                  116.83   \n",
       "1      1001      8   6919.15      30.0                  171.14   \n",
       "2      1001      9  12140.09      44.0                  297.69   \n",
       "3      1001     10  22330.49      53.0                  374.11   \n",
       "4      1001     11  18504.30      36.0                  374.59   \n",
       "5      1001     12  18226.93      44.0                  339.20   \n",
       "6      1002     10   6552.01      15.0                   54.13   \n",
       "7      1002     11  19345.08      32.0                  359.76   \n",
       "8      1002     12  14396.24      41.0                  337.02   \n",
       "9      1003     12  24600.83      50.0                  990.06   \n",
       "10     1004      5   6547.21       7.0                  158.21   \n",
       "11     1004      6  20672.82      18.0                  261.32   \n",
       "\n",
       "    number_of_calls  \n",
       "0              16.0  \n",
       "1              22.0  \n",
       "2              38.0  \n",
       "3              47.0  \n",
       "4              48.0  \n",
       "5              44.0  \n",
       "6               8.0  \n",
       "7              48.0  \n",
       "8              37.0  \n",
       "9             116.0  \n",
       "10             18.0  \n",
       "11             33.0  "
      ]
     },
     "execution_count": 108,
     "metadata": {},
     "output_type": "execute_result"
    }
   ],
   "source": [
    "# renomeando e verificando\n",
    "df = merged_df.copy()\n",
    "df.head(12)"
   ]
  },
  {
   "cell_type": "code",
   "execution_count": 109,
   "metadata": {},
   "outputs": [],
   "source": [
    "# inserindo planos no df\n",
    "df = df.merge(df_users[['user_id', 'plan']], on='user_id', how='left')"
   ]
  },
  {
   "cell_type": "code",
   "execution_count": 110,
   "metadata": {},
   "outputs": [],
   "source": [
    "# conferindo e renomeando\n",
    "df.rename(columns={'new_column': 'plan'}, inplace=True)"
   ]
  },
  {
   "cell_type": "code",
   "execution_count": 111,
   "metadata": {},
   "outputs": [],
   "source": [
    "# renomeando coluna para o merge posterior\n",
    "df_plans.rename(columns={'plan_name': 'plan'}, inplace=True)"
   ]
  },
  {
   "cell_type": "code",
   "execution_count": 112,
   "metadata": {},
   "outputs": [],
   "source": [
    "# adicionando informações dos planos\n",
    "df = df.merge(df_plans, on='plan', how='left')"
   ]
  },
  {
   "cell_type": "code",
   "execution_count": 113,
   "metadata": {},
   "outputs": [],
   "source": [
    "# transformando...\n",
    "df['gb_used'] = df['mb_used'] / 1024"
   ]
  },
  {
   "cell_type": "code",
   "execution_count": 114,
   "metadata": {},
   "outputs": [],
   "source": [
    "# reordenando\n",
    "new_order = ['user_id', 'plan', 'month', 'usd_monthly_pay', 'number_of_calls', 'calls_duration_minutes', 'minutes_included', 'usd_per_minute', 'msg_sent', 'messages_included', 'usd_per_message', 'gb_used', 'gb_per_month_included', 'usd_per_gb']\n",
    "df = df[new_order]"
   ]
  },
  {
   "cell_type": "markdown",
   "metadata": {},
   "source": [
    "### Calculando receita mensal por usuário."
   ]
  },
  {
   "cell_type": "code",
   "execution_count": 115,
   "metadata": {
    "id": "WLuYQUGEbRDS"
   },
   "outputs": [],
   "source": [
    "# criando algumas funções (por chamadas)\n",
    "def minutes_exceeded(row):\n",
    "\n",
    "    total_minutes = row['calls_duration_minutes']\n",
    "    tax_minutes = row['usd_per_minute']\n",
    "    plan = row['plan']\n",
    "\n",
    "    if plan == 'surf' and total_minutes > 500:\n",
    "        usd_exceeded_in_calls = (total_minutes - 500) * tax_minutes\n",
    "    elif plan == 'ultimate' and total_minutes > 3000:\n",
    "        usd_exceeded_in_calls = (total_minutes - 3000) * tax_minutes\n",
    "    else:\n",
    "        usd_exceeded_in_calls = 0\n",
    "\n",
    "    return round(usd_exceeded_in_calls, 2)"
   ]
  },
  {
   "cell_type": "code",
   "execution_count": 116,
   "metadata": {},
   "outputs": [],
   "source": [
    "# aplicando\n",
    "df['usd_exceeded_in_calls'] = df.apply(minutes_exceeded, axis=1)"
   ]
  },
  {
   "cell_type": "code",
   "execution_count": 117,
   "metadata": {},
   "outputs": [],
   "source": [
    "# filtrando\n",
    "data_surf = df[df['plan'] == 'surf']['usd_exceeded_in_calls']\n",
    "data_ultimate = df[df['plan'] == 'ultimate']['usd_exceeded_in_calls']"
   ]
  },
  {
   "cell_type": "code",
   "execution_count": 118,
   "metadata": {},
   "outputs": [
    {
     "data": {
      "image/png": "[encoded data removed]",
      "text/plain": [
       "<Figure size 600x900 with 1 Axes>"
      ]
     },
     "metadata": {},
     "output_type": "display_data"
    }
   ],
   "source": [
    "# boxplot\n",
    "plt.figure(figsize=(6, 9))\n",
    "plt.boxplot([data_surf, data_ultimate], labels=['Plano Surf', 'Plano Ultimate'], patch_artist=True )\n",
    "plt.title('Boxplot de USD Excedido em Chamadas por Plano')\n",
    "plt.ylabel('USD Excedido em Chamadas')\n",
    "plt.grid(True, axis='y')"
   ]
  },
  {
   "cell_type": "code",
   "execution_count": 119,
   "metadata": {},
   "outputs": [],
   "source": [
    "# função para messages\n",
    "def msg_exceeded(row):\n",
    "\n",
    "    total_msg = row['msg_sent']\n",
    "    tax_msg = row['usd_per_message']\n",
    "    plan = row['plan']\n",
    "\n",
    "    if plan == 'surf' and total_msg > 50:\n",
    "        usd_exceeded_in_msg = (total_msg - 50) * tax_msg\n",
    "    elif plan == 'ultimate' and total_msg > 1000:\n",
    "        usd_exceeded_in_msg = (total_msg - 1000) * tax_msg\n",
    "    else:\n",
    "        usd_exceeded_in_msg = 0\n",
    "\n",
    "    return usd_exceeded_in_msg"
   ]
  },
  {
   "cell_type": "code",
   "execution_count": 120,
   "metadata": {},
   "outputs": [],
   "source": [
    "# aplicando\n",
    "df['usd_exceeded_in_msg'] = df.apply(msg_exceeded, axis=1)"
   ]
  },
  {
   "cell_type": "code",
   "execution_count": 121,
   "metadata": {},
   "outputs": [],
   "source": [
    "# Filtrando\n",
    "data_surf_msg = df[df['plan'] == 'surf']['usd_exceeded_in_msg']\n",
    "data_ultimate_msg = df[df['plan'] == 'ultimate']['usd_exceeded_in_msg']"
   ]
  },
  {
   "cell_type": "code",
   "execution_count": 122,
   "metadata": {},
   "outputs": [
    {
     "data": {
      "image/png": "[encoded data removed]",
      "text/plain": [
       "<Figure size 600x900 with 1 Axes>"
      ]
     },
     "metadata": {},
     "output_type": "display_data"
    }
   ],
   "source": [
    "# boxplot\n",
    "plt.figure(figsize=(6, 9))\n",
    "plt.boxplot([data_surf_msg, data_ultimate_msg], labels=['Plano Surf', 'Plano Ultimate'], patch_artist=True)\n",
    "plt.title('Boxplot de USD Excedido em Mensagens por Plano')\n",
    "plt.ylabel('USD Excedido em Mensagens')\n",
    "plt.grid(True, axis='y')\n",
    "plt.show()"
   ]
  },
  {
   "cell_type": "code",
   "execution_count": 123,
   "metadata": {},
   "outputs": [],
   "source": [
    "# função para internet\n",
    "def gb_exceeded(row):\n",
    "\n",
    "    total_gb = row['gb_used']\n",
    "    tax_gb = row['usd_per_gb']\n",
    "    plan = row['plan']\n",
    "\n",
    "    if plan == 'surf' and total_gb > 7:\n",
    "        usd_exceeded_in_gb = (total_gb - 7) * tax_gb\n",
    "    elif plan == 'ultimate' and total_gb > 10:\n",
    "        usd_exceeded_in_gb = (total_gb - 10) * tax_gb\n",
    "    else:\n",
    "        usd_exceeded_in_gb = 0\n",
    "\n",
    "    return usd_exceeded_in_gb"
   ]
  },
  {
   "cell_type": "code",
   "execution_count": 124,
   "metadata": {},
   "outputs": [],
   "source": [
    "# aplicando\n",
    "df['usd_exceeded_in_gb'] = df.apply(gb_exceeded, axis=1)"
   ]
  },
  {
   "cell_type": "code",
   "execution_count": 125,
   "metadata": {},
   "outputs": [],
   "source": [
    "# receita mensal por usuário\n",
    "df['monthly_income'] = round(df['usd_monthly_pay'] + df['usd_exceeded_in_calls'] + df['usd_exceeded_in_msg'] + df['usd_exceeded_in_gb'], 2)"
   ]
  },
  {
   "cell_type": "code",
   "execution_count": 126,
   "metadata": {},
   "outputs": [],
   "source": [
    "# reodenando colunas...\n",
    "new_order = ['user_id', 'plan', 'monthly_income','month', 'usd_monthly_pay', 'number_of_calls', 'calls_duration_minutes', 'minutes_included', 'usd_per_minute', 'msg_sent', 'messages_included', 'usd_per_message', 'gb_used', 'gb_per_month_included', 'usd_per_gb']\n",
    "df = df[new_order]"
   ]
  },
  {
   "cell_type": "markdown",
   "metadata": {},
   "source": [
    "<div class=\"alert alert-block alert-warning\">\n",
    "<b> Comentário do revisor: </b> <a class=\"tocSkip\"></a>\n",
    "\n",
    "O estudante executou o cálculo de receita mensal por usuário para mensagens, chamadas e internet. Chama atenção que a distribuição para o plano \"Ultimate\" está bem distorcida em todos os casos. Isso pode ser um efeito do filtro feito pelo join anteriormente. Após correção daquele trecho, vamos revisitar essa análise. \n",
    "\n",
    "</div>"
   ]
  },
  {
   "cell_type": "markdown",
   "metadata": {
    "id": "lG3IvwIMbRDS"
   },
   "source": [
    "## Estudar o comportamento do usuário"
   ]
  },
  {
   "cell_type": "markdown",
   "metadata": {
    "id": "r5SQIYEgbRDS"
   },
   "source": [
    "### Chamadas"
   ]
  },
  {
   "cell_type": "code",
   "execution_count": 127,
   "metadata": {},
   "outputs": [],
   "source": [
    "# separando por planos\n",
    "plan_surf = df[ df['plan'] == 'surf']\n",
    "plan_ultimate = df[ df['plan'] == 'ultimate']"
   ]
  },
  {
   "cell_type": "code",
   "execution_count": 128,
   "metadata": {},
   "outputs": [
    {
     "data": {
      "text/plain": [
       "plan      month\n",
       "ultimate  1        171.0\n",
       "          2        365.0\n",
       "          3        279.0\n",
       "          4        309.0\n",
       "          5        375.0\n",
       "          6        341.0\n",
       "          7        394.0\n",
       "          8        388.0\n",
       "          9        403.0\n",
       "          10       411.0\n",
       "          11       411.0\n",
       "          12       423.0\n",
       "Name: calls_duration_minutes, dtype: float64"
      ]
     },
     "execution_count": 128,
     "metadata": {},
     "output_type": "execute_result"
    }
   ],
   "source": [
    "# agrupando...\n",
    "grouped_surf = plan_surf.groupby(['plan', 'month'])['calls_duration_minutes'].mean()\n",
    "round(grouped_surf, 0)\n",
    "grouped_ultimate = plan_ultimate.groupby(['plan', 'month'])['calls_duration_minutes'].mean()\n",
    "round(grouped_ultimate, 0)"
   ]
  },
  {
   "cell_type": "code",
   "execution_count": 129,
   "metadata": {},
   "outputs": [
    {
     "data": {
      "image/png": "[encoded data removed]",
      "text/plain": [
       "<Figure size 1500x600 with 2 Axes>"
      ]
     },
     "metadata": {},
     "output_type": "display_data"
    }
   ],
   "source": [
    "# plotando barras da duração média das ligações de cada plano para cada mês\n",
    "plt.figure(figsize=(15, 6))\n",
    "plt.subplot(1, 2, 1)\n",
    "\n",
    "grouped_surf.plot(kind='bar', color='#181f4c', width = 0.6)\n",
    "plt.title('Plano Surf')\n",
    "plt.xlabel('Mês e Plano')\n",
    "plt.ylabel('Duração Média em Minutos')\n",
    "plt.grid(True, zorder = 0)\n",
    "plt.gca().set_axisbelow(True)\n",
    "\n",
    "plt.subplot(1, 2, 2)\n",
    "grouped_ultimate.plot(kind='bar', color='#8e0000', width = 0.6)\n",
    "plt.title('Plano Ultimate')\n",
    "plt.xlabel('Mês e Plano')\n",
    "plt.ylabel('Duração Média em Minutos')\n",
    "plt.grid(True, zorder = 0)\n",
    "plt.gca().set_axisbelow(True)\n",
    "\n",
    "plt.tight_layout()\n",
    "plt.show()"
   ]
  },
  {
   "cell_type": "code",
   "execution_count": 130,
   "metadata": {},
   "outputs": [],
   "source": [
    "# separando\n",
    "minutes_surf = plan_surf['calls_duration_minutes']\n",
    "minutes_ultimate = plan_ultimate['calls_duration_minutes']"
   ]
  },
  {
   "cell_type": "code",
   "execution_count": 131,
   "metadata": {},
   "outputs": [
    {
     "data": {
      "image/png": "[encoded data removed]",
      "text/plain": [
       "<Figure size 1500x600 with 2 Axes>"
      ]
     },
     "metadata": {},
     "output_type": "display_data"
    }
   ],
   "source": [
    "# distribuição dos minutos dos usuários por plano\n",
    "color_surf = '#181f4c'\n",
    "color_ultimate = '#8e0000'\n",
    "alpha = 1\n",
    "\n",
    "fig, axs = plt.subplots(1, 2, figsize=(15, 6))\n",
    "\n",
    "axs[0].hist(minutes_surf, bins=20, color=color_surf, alpha=alpha, label='Plano Surf', density=True)\n",
    "axs[0].set_title('Histograma de Duração das Ligações')\n",
    "axs[0].set_xlabel('Minutos')\n",
    "axs[0].set_ylabel('Frequência')\n",
    "axs[0].legend()\n",
    "\n",
    "axs[1].hist(minutes_ultimate, bins=20, color=color_ultimate, alpha=alpha, label='Plano Ultimate', density=True)\n",
    "axs[1].set_title('Histograma de Duração das Ligações')\n",
    "axs[1].set_xlabel('Minutos')\n",
    "axs[1].set_ylabel('Frequência')\n",
    "axs[1].legend()\n",
    "\n",
    "plt.tight_layout()\n",
    "plt.show()"
   ]
  },
  {
   "cell_type": "code",
   "execution_count": 132,
   "metadata": {
    "id": "v-a6RljqbRDT"
   },
   "outputs": [
    {
     "data": {
      "text/html": [
       "<div>\n",
       "<style scoped>\n",
       "    .dataframe tbody tr th:only-of-type {\n",
       "        vertical-align: middle;\n",
       "    }\n",
       "\n",
       "    .dataframe tbody tr th {\n",
       "        vertical-align: top;\n",
       "    }\n",
       "\n",
       "    .dataframe thead th {\n",
       "        text-align: right;\n",
       "    }\n",
       "</style>\n",
       "<table border=\"1\" class=\"dataframe\">\n",
       "  <thead>\n",
       "    <tr style=\"text-align: right;\">\n",
       "      <th></th>\n",
       "      <th>media_chamadas</th>\n",
       "      <th>variancia_chamadas</th>\n",
       "      <th>desvio_padrao_chamadas</th>\n",
       "    </tr>\n",
       "    <tr>\n",
       "      <th>month</th>\n",
       "      <th></th>\n",
       "      <th></th>\n",
       "      <th></th>\n",
       "    </tr>\n",
       "  </thead>\n",
       "  <tbody>\n",
       "    <tr>\n",
       "      <th>1</th>\n",
       "      <td>177.96</td>\n",
       "      <td>11453.71</td>\n",
       "      <td>107.02</td>\n",
       "    </tr>\n",
       "    <tr>\n",
       "      <th>2</th>\n",
       "      <td>310.95</td>\n",
       "      <td>47565.52</td>\n",
       "      <td>218.10</td>\n",
       "    </tr>\n",
       "    <tr>\n",
       "      <th>3</th>\n",
       "      <td>296.38</td>\n",
       "      <td>38099.01</td>\n",
       "      <td>195.19</td>\n",
       "    </tr>\n",
       "    <tr>\n",
       "      <th>4</th>\n",
       "      <td>320.73</td>\n",
       "      <td>38408.95</td>\n",
       "      <td>195.98</td>\n",
       "    </tr>\n",
       "    <tr>\n",
       "      <th>5</th>\n",
       "      <td>368.71</td>\n",
       "      <td>46834.16</td>\n",
       "      <td>216.41</td>\n",
       "    </tr>\n",
       "    <tr>\n",
       "      <th>6</th>\n",
       "      <td>376.96</td>\n",
       "      <td>38112.39</td>\n",
       "      <td>195.22</td>\n",
       "    </tr>\n",
       "    <tr>\n",
       "      <th>7</th>\n",
       "      <td>408.31</td>\n",
       "      <td>55101.33</td>\n",
       "      <td>234.74</td>\n",
       "    </tr>\n",
       "    <tr>\n",
       "      <th>8</th>\n",
       "      <td>380.73</td>\n",
       "      <td>46615.18</td>\n",
       "      <td>215.91</td>\n",
       "    </tr>\n",
       "    <tr>\n",
       "      <th>9</th>\n",
       "      <td>386.54</td>\n",
       "      <td>42431.05</td>\n",
       "      <td>205.99</td>\n",
       "    </tr>\n",
       "    <tr>\n",
       "      <th>10</th>\n",
       "      <td>401.47</td>\n",
       "      <td>45288.81</td>\n",
       "      <td>212.81</td>\n",
       "    </tr>\n",
       "    <tr>\n",
       "      <th>11</th>\n",
       "      <td>397.10</td>\n",
       "      <td>46443.99</td>\n",
       "      <td>215.51</td>\n",
       "    </tr>\n",
       "    <tr>\n",
       "      <th>12</th>\n",
       "      <td>431.40</td>\n",
       "      <td>53714.08</td>\n",
       "      <td>231.76</td>\n",
       "    </tr>\n",
       "  </tbody>\n",
       "</table>\n",
       "</div>"
      ],
      "text/plain": [
       "       media_chamadas  variancia_chamadas  desvio_padrao_chamadas\n",
       "month                                                            \n",
       "1              177.96            11453.71                  107.02\n",
       "2              310.95            47565.52                  218.10\n",
       "3              296.38            38099.01                  195.19\n",
       "4              320.73            38408.95                  195.98\n",
       "5              368.71            46834.16                  216.41\n",
       "6              376.96            38112.39                  195.22\n",
       "7              408.31            55101.33                  234.74\n",
       "8              380.73            46615.18                  215.91\n",
       "9              386.54            42431.05                  205.99\n",
       "10             401.47            45288.81                  212.81\n",
       "11             397.10            46443.99                  215.51\n",
       "12             431.40            53714.08                  231.76"
      ]
     },
     "execution_count": 132,
     "metadata": {},
     "output_type": "execute_result"
    }
   ],
   "source": [
    "# Calculando a média e a variâcia da duração mensal das chamadas\n",
    "df.groupby('month').agg(media_chamadas=('calls_duration_minutes','mean'),\n",
    "                        variancia_chamadas = ('calls_duration_minutes','var'),\n",
    "                        desvio_padrao_chamadas=('calls_duration_minutes', 'std')\n",
    "                        ).round(2)"
   ]
  },
  {
   "cell_type": "markdown",
   "metadata": {},
   "source": [
    "<div class=\"alert alert-block alert-danger\">\n",
    "<b> Comentário do revisor: </b> <a class=\"tocSkip\"></a>\n",
    "\n",
    "Calcule do desvio padrão também para esse atributo.\n",
    "\n",
    "</div>"
   ]
  },
  {
   "cell_type": "markdown",
   "metadata": {},
   "source": [
    "<div class=\"alert alert-block alert-info\">\n",
    "<b>Comentário do Aluno.</b> <a class=\"tocSkip\"></a>\n",
    "\n",
    "Desvio padrão inserido com sucesso.\n",
    "\n",
    "</div>"
   ]
  },
  {
   "cell_type": "markdown",
   "metadata": {},
   "source": [
    "<div class=\"alert alert-block alert-success\">\n",
    "<b> Comentário do revisor v2</b> <a class=\"tocSkip\"></a>\n",
    "\n",
    "Perfeito!\n",
    "</div>"
   ]
  },
  {
   "cell_type": "code",
   "execution_count": 133,
   "metadata": {
    "id": "h8FPYPulbRDU"
   },
   "outputs": [
    {
     "data": {
      "image/png": "[encoded data removed]",
      "text/plain": [
       "<Figure size 1200x600 with 1 Axes>"
      ]
     },
     "metadata": {},
     "output_type": "display_data"
    }
   ],
   "source": [
    "# boxplot da duração mensal das chamadas por plano\n",
    "plt.figure(figsize=(12, 6))\n",
    "sns.set(style=\"whitegrid\", rc={\"axes.labelsize\": 14})\n",
    "\n",
    "sns.boxplot(data=df, x='month', y='calls_duration_minutes', hue='plan', dodge=True, palette={color_surf, color_ultimate}, width=.66)\n",
    "plt.xlabel('Mês')\n",
    "plt.ylabel('Minutos')\n",
    "plt.title('Distribuição da Duração Mensal das Chamadas por Plano')\n",
    "\n",
    "plt.legend(title='Plano', loc='upper left', bbox_to_anchor=(1, 1))\n",
    "plt.show()"
   ]
  },
  {
   "cell_type": "markdown",
   "metadata": {
    "id": "oPUdCmgHbRDU"
   },
   "source": [
    "### Overview de Calls."
   ]
  },
  {
   "cell_type": "markdown",
   "metadata": {
    "id": "6Q5jM8zobRDU"
   },
   "source": [
    "- no mês de janeiro os usuários do plano ultimate fazem pouquíssimas ligações\n",
    "- os primeiros 2 trimestres mostram mais diferenças entre os usuários \n",
    "- fevereiro é o mês com maior variância entre o tempo de duração das chamadas\n",
    "- no segundo semestre o comportamento dos usuários tende a se manter mais uniforme, mas com maior aparição de outliers\n",
    "- esses outliers seriam devido a estar se aproximando o final de ano e suas festividades?"
   ]
  },
  {
   "cell_type": "markdown",
   "metadata": {},
   "source": [
    "<div class=\"alert alert-block alert-success\">\n",
    "<b> Comentário do revisor: </b> <a class=\"tocSkip\"></a>\n",
    "\n",
    "O estudante executou corretamente as etapas para os dados de chamadas:\n",
    "- Exibiu corretamente gráficos de uso mensal por plano\n",
    "- Apresentou o histograma da duração das chamadas\n",
    "- Calculou a média e a variância\n",
    "- Criou boxplots da duração mensal por plano\n",
    "- Apresentou conclusões da sua análise. \n",
    "    \n",
    "Sobre esse comentário: \"esses outliers seriam devido a estar se aproximando o final de ano e suas festividades?\" é uma hipótese válida.\n",
    "\n",
    "</div>"
   ]
  },
  {
   "cell_type": "markdown",
   "metadata": {
    "id": "vnUoMcTDbRDU"
   },
   "source": [
    "### Mensagens"
   ]
  },
  {
   "cell_type": "code",
   "execution_count": 134,
   "metadata": {
    "id": "EsAvQJggbRDU"
   },
   "outputs": [],
   "source": [
    "# Comparando o número de mensagens que os usuários de cada plano tendem a enviar a cada mês\n",
    "grouped_surf = plan_surf.groupby(['plan', 'month'])['msg_sent'].mean()\n",
    "grouped_ultimate = plan_ultimate.groupby(['plan', 'month'])['msg_sent'].mean()"
   ]
  },
  {
   "cell_type": "code",
   "execution_count": 135,
   "metadata": {},
   "outputs": [
    {
     "data": {
      "image/png": "[encoded data removed]",
      "text/plain": [
       "<Figure size 1500x600 with 2 Axes>"
      ]
     },
     "metadata": {},
     "output_type": "display_data"
    }
   ],
   "source": [
    "# plotando barras com a quantidade média de msg para cada plano em cada mês\n",
    "plt.figure(figsize=(15, 6))\n",
    "plt.subplot(1, 2, 1)\n",
    "\n",
    "grouped_surf.plot(kind='bar', color='#181f4c', width = 0.6)\n",
    "plt.title('Plano Surf')\n",
    "plt.xlabel('Mês e Plano')\n",
    "plt.ylabel('Média Msg')\n",
    "plt.grid(True, zorder = 0)\n",
    "plt.gca().set_axisbelow(True)\n",
    "\n",
    "plt.subplot(1, 2, 2)\n",
    "grouped_ultimate.plot(kind='bar', color='#8e0000', width = 0.6)\n",
    "plt.title('Plano Ultimate')\n",
    "plt.xlabel('Mês e Plano')\n",
    "plt.ylabel('Média Msg')\n",
    "plt.grid(True, zorder = 0)\n",
    "plt.gca().set_axisbelow(True)\n",
    "\n",
    "plt.tight_layout()\n",
    "plt.show()"
   ]
  },
  {
   "cell_type": "markdown",
   "metadata": {},
   "source": [
    "### Overview de messages."
   ]
  },
  {
   "cell_type": "markdown",
   "metadata": {},
   "source": [
    "- tendência de crescimento do envio de mensagens ao decorrer do ano em ambos os planos\n",
    "- ligeiramente os usuários do plano surf enviam menos mensagens em média\n",
    "- pico de mensagens enviadas novamente no final do ano"
   ]
  },
  {
   "cell_type": "markdown",
   "metadata": {},
   "source": [
    "<div class=\"alert alert-block alert-success\">\n",
    "<b> Comentário do revisor: </b> <a class=\"tocSkip\"></a>\n",
    "\n",
    "O estudante executou corretamente as etapas para os dados de mensagens:\n",
    "- Exibiu corretamente gráficos de uso mensal por plano\n",
    "- Apresentou conclusões da sua análise. \n",
    "\n",
    "</div>"
   ]
  },
  {
   "cell_type": "markdown",
   "metadata": {
    "id": "EkRlbBkBbRDV"
   },
   "source": [
    "### Internet"
   ]
  },
  {
   "cell_type": "code",
   "execution_count": 136,
   "metadata": {
    "id": "mSYrlMypbRDU"
   },
   "outputs": [],
   "source": [
    "# Comparando a quantidade de tráfego de internet consumido pelos usuários por plano\n",
    "grouped_surf = plan_surf.groupby(['plan', 'month'])['gb_used'].mean()\n",
    "grouped_ultimate = plan_ultimate.groupby(['plan', 'month'])['gb_used'].mean()"
   ]
  },
  {
   "cell_type": "code",
   "execution_count": 137,
   "metadata": {},
   "outputs": [
    {
     "data": {
      "image/png": "[encoded data removed]",
      "text/plain": [
       "<Figure size 1500x600 with 2 Axes>"
      ]
     },
     "metadata": {},
     "output_type": "display_data"
    }
   ],
   "source": [
    "# plotando barras com a quantidade média de gb_used para cada plano em cada mês\n",
    "plt.figure(figsize=(15, 6))\n",
    "plt.subplot(1, 2, 1)\n",
    "\n",
    "grouped_surf.plot(kind='bar', color='#181f4c', width = 0.6)\n",
    "plt.title('Plano Surf')\n",
    "plt.xlabel('Mês e Plano')\n",
    "plt.ylabel('Média gb_used')\n",
    "plt.grid(True, zorder = 0)\n",
    "plt.gca().set_axisbelow(True)\n",
    "\n",
    "plt.subplot(1, 2, 2)\n",
    "grouped_ultimate.plot(kind='bar', color='#8e0000', width = 0.6)\n",
    "plt.title('Plano Ultimate')\n",
    "plt.xlabel('Mês e Plano')\n",
    "plt.ylabel('Média gb_used')\n",
    "plt.grid(True, zorder = 0)\n",
    "plt.gca().set_axisbelow(True)\n",
    "\n",
    "plt.tight_layout()\n",
    "plt.show()"
   ]
  },
  {
   "cell_type": "code",
   "execution_count": 138,
   "metadata": {
    "id": "sGi-dMa-bRDV"
   },
   "outputs": [
    {
     "data": {
      "text/html": [
       "<div>\n",
       "<style scoped>\n",
       "    .dataframe tbody tr th:only-of-type {\n",
       "        vertical-align: middle;\n",
       "    }\n",
       "\n",
       "    .dataframe tbody tr th {\n",
       "        vertical-align: top;\n",
       "    }\n",
       "\n",
       "    .dataframe thead th {\n",
       "        text-align: right;\n",
       "    }\n",
       "</style>\n",
       "<table border=\"1\" class=\"dataframe\">\n",
       "  <thead>\n",
       "    <tr style=\"text-align: right;\">\n",
       "      <th></th>\n",
       "      <th>media_gb</th>\n",
       "      <th>variancia_gb</th>\n",
       "      <th>desvio_padrao_gb</th>\n",
       "    </tr>\n",
       "    <tr>\n",
       "      <th>month</th>\n",
       "      <th></th>\n",
       "      <th></th>\n",
       "      <th></th>\n",
       "    </tr>\n",
       "  </thead>\n",
       "  <tbody>\n",
       "    <tr>\n",
       "      <th>1</th>\n",
       "      <td>5.89</td>\n",
       "      <td>13.38</td>\n",
       "      <td>3.66</td>\n",
       "    </tr>\n",
       "    <tr>\n",
       "      <th>2</th>\n",
       "      <td>13.72</td>\n",
       "      <td>42.65</td>\n",
       "      <td>6.53</td>\n",
       "    </tr>\n",
       "    <tr>\n",
       "      <th>3</th>\n",
       "      <td>14.29</td>\n",
       "      <td>83.56</td>\n",
       "      <td>9.14</td>\n",
       "    </tr>\n",
       "    <tr>\n",
       "      <th>4</th>\n",
       "      <td>12.70</td>\n",
       "      <td>63.70</td>\n",
       "      <td>7.98</td>\n",
       "    </tr>\n",
       "    <tr>\n",
       "      <th>5</th>\n",
       "      <td>13.99</td>\n",
       "      <td>52.38</td>\n",
       "      <td>7.24</td>\n",
       "    </tr>\n",
       "    <tr>\n",
       "      <th>6</th>\n",
       "      <td>14.66</td>\n",
       "      <td>49.98</td>\n",
       "      <td>7.07</td>\n",
       "    </tr>\n",
       "    <tr>\n",
       "      <th>7</th>\n",
       "      <td>15.95</td>\n",
       "      <td>59.80</td>\n",
       "      <td>7.73</td>\n",
       "    </tr>\n",
       "    <tr>\n",
       "      <th>8</th>\n",
       "      <td>16.31</td>\n",
       "      <td>60.91</td>\n",
       "      <td>7.80</td>\n",
       "    </tr>\n",
       "    <tr>\n",
       "      <th>9</th>\n",
       "      <td>15.99</td>\n",
       "      <td>45.37</td>\n",
       "      <td>6.74</td>\n",
       "    </tr>\n",
       "    <tr>\n",
       "      <th>10</th>\n",
       "      <td>16.69</td>\n",
       "      <td>54.04</td>\n",
       "      <td>7.35</td>\n",
       "    </tr>\n",
       "    <tr>\n",
       "      <th>11</th>\n",
       "      <td>15.80</td>\n",
       "      <td>50.77</td>\n",
       "      <td>7.12</td>\n",
       "    </tr>\n",
       "    <tr>\n",
       "      <th>12</th>\n",
       "      <td>17.37</td>\n",
       "      <td>61.02</td>\n",
       "      <td>7.81</td>\n",
       "    </tr>\n",
       "  </tbody>\n",
       "</table>\n",
       "</div>"
      ],
      "text/plain": [
       "       media_gb  variancia_gb  desvio_padrao_gb\n",
       "month                                          \n",
       "1          5.89         13.38              3.66\n",
       "2         13.72         42.65              6.53\n",
       "3         14.29         83.56              9.14\n",
       "4         12.70         63.70              7.98\n",
       "5         13.99         52.38              7.24\n",
       "6         14.66         49.98              7.07\n",
       "7         15.95         59.80              7.73\n",
       "8         16.31         60.91              7.80\n",
       "9         15.99         45.37              6.74\n",
       "10        16.69         54.04              7.35\n",
       "11        15.80         50.77              7.12\n",
       "12        17.37         61.02              7.81"
      ]
     },
     "execution_count": 138,
     "metadata": {},
     "output_type": "execute_result"
    }
   ],
   "source": [
    "# Calculando a média e a variâcia do gb_used\n",
    "df.groupby('month').agg(media_gb=('gb_used','mean'),\n",
    "                        variancia_gb = ('gb_used','var'),\n",
    "                        desvio_padrao_gb = ('gb_used', 'std')\n",
    "                        ).round(2)"
   ]
  },
  {
   "cell_type": "markdown",
   "metadata": {},
   "source": [
    "<div class=\"alert alert-block alert-danger\">\n",
    "<b> Comentário do revisor: </b> <a class=\"tocSkip\"></a>\n",
    "\n",
    "Calcule do desvio padrão também para esse atributo.\n",
    "\n",
    "</div>"
   ]
  },
  {
   "cell_type": "markdown",
   "metadata": {},
   "source": [
    "<div class=\"alert alert-block alert-info\">\n",
    "<b>Comentário do Aluno.</b> <a class=\"tocSkip\"></a>\n",
    "\n",
    "Desvio padrão incluído conforme solicitado!\n",
    "\n",
    "</div>"
   ]
  },
  {
   "cell_type": "markdown",
   "metadata": {},
   "source": [
    "<div class=\"alert alert-block alert-success\">\n",
    "<b> Comentário do revisor v2</b> <a class=\"tocSkip\"></a>\n",
    "\n",
    "Perfeito!\n",
    "</div>"
   ]
  },
  {
   "cell_type": "code",
   "execution_count": 139,
   "metadata": {},
   "outputs": [
    {
     "data": {
      "image/png": "[encoded data removed]",
      "text/plain": [
       "<Figure size 1200x600 with 1 Axes>"
      ]
     },
     "metadata": {},
     "output_type": "display_data"
    }
   ],
   "source": [
    "# boxplot para visualizar a distribuição média de dados utilizados por plano e por mês\n",
    "plt.figure(figsize=(12, 6))\n",
    "sns.set(style=\"whitegrid\", rc={\"axes.labelsize\": 14})\n",
    "\n",
    "sns.boxplot(data=df, x='month', y='gb_used', hue='plan', dodge=True, palette={color_surf, color_ultimate}, width=.66)\n",
    "plt.xlabel('Mês')\n",
    "plt.ylabel('gb_used')\n",
    "plt.title('Distribuição de gb_used por Plano')\n",
    "\n",
    "plt.legend(title='Plano', loc='upper left', bbox_to_anchor=(1, 1))\n",
    "plt.show()"
   ]
  },
  {
   "cell_type": "markdown",
   "metadata": {},
   "source": [
    "### Overview de Internet."
   ]
  },
  {
   "cell_type": "markdown",
   "metadata": {
    "id": "1hYMDd-JbRDW"
   },
   "source": [
    "- primeiro semestre os usuários tendem a ter comportamentos diferentes quanto ao uso de internet\n",
    "- usuários do plano ultimate usam mais gb conforme histograma\n",
    "- ultimaters dificilmente consomem menos de 10 gb mensais\n",
    "- os ultimaters tem pico de consumo de dados no primeiro trimestre, onde a média de consumo é bem maior que o restante do ano\n",
    "- no segundo semestre, outliers vêm com força e alguns usuários chegaram a usar mais de 40 gb de dados\n",
    "- maior variância e desvio padrão estão no mês de Março"
   ]
  },
  {
   "cell_type": "markdown",
   "metadata": {},
   "source": [
    "<div class=\"alert alert-block alert-success\">\n",
    "<b> Comentário do revisor: </b> <a class=\"tocSkip\"></a>\n",
    "\n",
    "O estudante executou corretamente as etapas para os dados de uso de internet:\n",
    "- Exibiu corretamente gráficos de uso mensal por plano\n",
    "- Calculou a média e a variância\n",
    "- Criou boxplots com o uso de internet em GB por plano\n",
    "- Apresentou conclusões da sua análise. \n",
    "\n",
    "\n",
    "</div>"
   ]
  },
  {
   "cell_type": "markdown",
   "metadata": {
    "id": "nLWJtiHCbRDW"
   },
   "source": [
    "## Receita"
   ]
  },
  {
   "cell_type": "code",
   "execution_count": 140,
   "metadata": {
    "id": "qLYbwHk7bRDW"
   },
   "outputs": [],
   "source": [
    "# agrupando...\n",
    "grouped_surf = plan_surf.groupby(['plan', 'month'])['monthly_income'].mean()\n",
    "grouped_ultimate = plan_ultimate.groupby(['plan', 'month'])['monthly_income'].mean()"
   ]
  },
  {
   "cell_type": "code",
   "execution_count": 141,
   "metadata": {
    "id": "m21PIihFbRDX"
   },
   "outputs": [
    {
     "data": {
      "image/png": "[encoded data removed]",
      "text/plain": [
       "<Figure size 1500x600 with 2 Axes>"
      ]
     },
     "metadata": {},
     "output_type": "display_data"
    }
   ],
   "source": [
    "# barras de monthly_income\n",
    "plt.figure(figsize=(15, 6))\n",
    "plt.subplot(1, 2, 1)\n",
    "\n",
    "grouped_surf.plot(kind='bar', color='#181f4c', width = 0.6)\n",
    "plt.title('Plano Surf')\n",
    "plt.xlabel('Mês e Plano')\n",
    "plt.ylabel('monthly_income')\n",
    "plt.grid(True, zorder = 0)\n",
    "plt.gca().set_axisbelow(True)\n",
    "\n",
    "plt.subplot(1, 2, 2)\n",
    "grouped_ultimate.plot(kind='bar', color='#8e0000', width = 0.6)\n",
    "plt.title('Plano Ultimate')\n",
    "plt.xlabel('Mês e Plano')\n",
    "plt.ylabel('monthly_income')\n",
    "plt.grid(True, zorder = 0)\n",
    "plt.gca().set_axisbelow(True)\n",
    "\n",
    "plt.tight_layout()\n",
    "plt.show()"
   ]
  },
  {
   "cell_type": "code",
   "execution_count": 142,
   "metadata": {},
   "outputs": [],
   "source": [
    "# separando\n",
    "income_surf = plan_surf['monthly_income']\n",
    "income_ultimate = plan_ultimate['monthly_income']"
   ]
  },
  {
   "cell_type": "code",
   "execution_count": 143,
   "metadata": {},
   "outputs": [
    {
     "data": {
      "text/plain": [
       "619.57"
      ]
     },
     "execution_count": 143,
     "metadata": {},
     "output_type": "execute_result"
    }
   ],
   "source": [
    "# max value\n",
    "income_surf.max()"
   ]
  },
  {
   "cell_type": "code",
   "execution_count": 144,
   "metadata": {},
   "outputs": [
    {
     "data": {
      "text/plain": [
       "307.76"
      ]
     },
     "execution_count": 144,
     "metadata": {},
     "output_type": "execute_result"
    }
   ],
   "source": [
    "# max value\n",
    "income_ultimate.max()"
   ]
  },
  {
   "cell_type": "code",
   "execution_count": 145,
   "metadata": {},
   "outputs": [
    {
     "data": {
      "text/html": [
       "<div>\n",
       "<style scoped>\n",
       "    .dataframe tbody tr th:only-of-type {\n",
       "        vertical-align: middle;\n",
       "    }\n",
       "\n",
       "    .dataframe tbody tr th {\n",
       "        vertical-align: top;\n",
       "    }\n",
       "\n",
       "    .dataframe thead th {\n",
       "        text-align: right;\n",
       "    }\n",
       "</style>\n",
       "<table border=\"1\" class=\"dataframe\">\n",
       "  <thead>\n",
       "    <tr style=\"text-align: right;\">\n",
       "      <th></th>\n",
       "      <th>user_id</th>\n",
       "      <th>plan</th>\n",
       "      <th>monthly_income</th>\n",
       "      <th>month</th>\n",
       "      <th>usd_monthly_pay</th>\n",
       "      <th>number_of_calls</th>\n",
       "      <th>calls_duration_minutes</th>\n",
       "      <th>minutes_included</th>\n",
       "      <th>usd_per_minute</th>\n",
       "      <th>msg_sent</th>\n",
       "      <th>messages_included</th>\n",
       "      <th>usd_per_message</th>\n",
       "      <th>gb_used</th>\n",
       "      <th>gb_per_month_included</th>\n",
       "      <th>usd_per_gb</th>\n",
       "    </tr>\n",
       "  </thead>\n",
       "  <tbody>\n",
       "    <tr>\n",
       "      <th>1751</th>\n",
       "      <td>1379</td>\n",
       "      <td>surf</td>\n",
       "      <td>619.57</td>\n",
       "      <td>12</td>\n",
       "      <td>20</td>\n",
       "      <td>112.0</td>\n",
       "      <td>994.70</td>\n",
       "      <td>500</td>\n",
       "      <td>0.03</td>\n",
       "      <td>126.0</td>\n",
       "      <td>50</td>\n",
       "      <td>0.03</td>\n",
       "      <td>65.245469</td>\n",
       "      <td>15.0</td>\n",
       "      <td>10</td>\n",
       "    </tr>\n",
       "    <tr>\n",
       "      <th>568</th>\n",
       "      <td>1121</td>\n",
       "      <td>surf</td>\n",
       "      <td>568.02</td>\n",
       "      <td>12</td>\n",
       "      <td>20</td>\n",
       "      <td>0.0</td>\n",
       "      <td>0.00</td>\n",
       "      <td>500</td>\n",
       "      <td>0.03</td>\n",
       "      <td>97.0</td>\n",
       "      <td>50</td>\n",
       "      <td>0.03</td>\n",
       "      <td>61.661113</td>\n",
       "      <td>15.0</td>\n",
       "      <td>10</td>\n",
       "    </tr>\n",
       "    <tr>\n",
       "      <th>1354</th>\n",
       "      <td>1292</td>\n",
       "      <td>surf</td>\n",
       "      <td>455.95</td>\n",
       "      <td>8</td>\n",
       "      <td>20</td>\n",
       "      <td>34.0</td>\n",
       "      <td>281.32</td>\n",
       "      <td>500</td>\n",
       "      <td>0.03</td>\n",
       "      <td>0.0</td>\n",
       "      <td>50</td>\n",
       "      <td>0.03</td>\n",
       "      <td>50.595068</td>\n",
       "      <td>15.0</td>\n",
       "      <td>10</td>\n",
       "    </tr>\n",
       "    <tr>\n",
       "      <th>1358</th>\n",
       "      <td>1292</td>\n",
       "      <td>surf</td>\n",
       "      <td>432.07</td>\n",
       "      <td>12</td>\n",
       "      <td>20</td>\n",
       "      <td>21.0</td>\n",
       "      <td>132.65</td>\n",
       "      <td>500</td>\n",
       "      <td>0.03</td>\n",
       "      <td>0.0</td>\n",
       "      <td>50</td>\n",
       "      <td>0.03</td>\n",
       "      <td>48.206748</td>\n",
       "      <td>15.0</td>\n",
       "      <td>10</td>\n",
       "    </tr>\n",
       "    <tr>\n",
       "      <th>1125</th>\n",
       "      <td>1240</td>\n",
       "      <td>surf</td>\n",
       "      <td>404.83</td>\n",
       "      <td>8</td>\n",
       "      <td>20</td>\n",
       "      <td>117.0</td>\n",
       "      <td>1014.18</td>\n",
       "      <td>500</td>\n",
       "      <td>0.03</td>\n",
       "      <td>15.0</td>\n",
       "      <td>50</td>\n",
       "      <td>0.03</td>\n",
       "      <td>43.940459</td>\n",
       "      <td>15.0</td>\n",
       "      <td>10</td>\n",
       "    </tr>\n",
       "    <tr>\n",
       "      <th>1356</th>\n",
       "      <td>1292</td>\n",
       "      <td>surf</td>\n",
       "      <td>385.26</td>\n",
       "      <td>10</td>\n",
       "      <td>20</td>\n",
       "      <td>30.0</td>\n",
       "      <td>290.79</td>\n",
       "      <td>500</td>\n",
       "      <td>0.03</td>\n",
       "      <td>0.0</td>\n",
       "      <td>50</td>\n",
       "      <td>0.03</td>\n",
       "      <td>43.525557</td>\n",
       "      <td>15.0</td>\n",
       "      <td>10</td>\n",
       "    </tr>\n",
       "    <tr>\n",
       "      <th>1127</th>\n",
       "      <td>1240</td>\n",
       "      <td>surf</td>\n",
       "      <td>380.28</td>\n",
       "      <td>10</td>\n",
       "      <td>20</td>\n",
       "      <td>125.0</td>\n",
       "      <td>1129.04</td>\n",
       "      <td>500</td>\n",
       "      <td>0.03</td>\n",
       "      <td>9.0</td>\n",
       "      <td>50</td>\n",
       "      <td>0.03</td>\n",
       "      <td>41.141445</td>\n",
       "      <td>15.0</td>\n",
       "      <td>10</td>\n",
       "    </tr>\n",
       "    <tr>\n",
       "      <th>1129</th>\n",
       "      <td>1240</td>\n",
       "      <td>surf</td>\n",
       "      <td>374.17</td>\n",
       "      <td>12</td>\n",
       "      <td>20</td>\n",
       "      <td>126.0</td>\n",
       "      <td>1055.41</td>\n",
       "      <td>500</td>\n",
       "      <td>0.03</td>\n",
       "      <td>18.0</td>\n",
       "      <td>50</td>\n",
       "      <td>0.03</td>\n",
       "      <td>40.751143</td>\n",
       "      <td>15.0</td>\n",
       "      <td>10</td>\n",
       "    </tr>\n",
       "    <tr>\n",
       "      <th>931</th>\n",
       "      <td>1194</td>\n",
       "      <td>surf</td>\n",
       "      <td>368.97</td>\n",
       "      <td>11</td>\n",
       "      <td>20</td>\n",
       "      <td>0.0</td>\n",
       "      <td>0.00</td>\n",
       "      <td>500</td>\n",
       "      <td>0.03</td>\n",
       "      <td>62.0</td>\n",
       "      <td>50</td>\n",
       "      <td>0.03</td>\n",
       "      <td>41.861426</td>\n",
       "      <td>15.0</td>\n",
       "      <td>10</td>\n",
       "    </tr>\n",
       "    <tr>\n",
       "      <th>1958</th>\n",
       "      <td>1418</td>\n",
       "      <td>surf</td>\n",
       "      <td>359.42</td>\n",
       "      <td>12</td>\n",
       "      <td>20</td>\n",
       "      <td>33.0</td>\n",
       "      <td>279.32</td>\n",
       "      <td>500</td>\n",
       "      <td>0.03</td>\n",
       "      <td>0.0</td>\n",
       "      <td>50</td>\n",
       "      <td>0.03</td>\n",
       "      <td>40.942080</td>\n",
       "      <td>15.0</td>\n",
       "      <td>10</td>\n",
       "    </tr>\n",
       "  </tbody>\n",
       "</table>\n",
       "</div>"
      ],
      "text/plain": [
       "      user_id  plan  monthly_income  month  usd_monthly_pay  number_of_calls  \\\n",
       "1751     1379  surf          619.57     12               20            112.0   \n",
       "568      1121  surf          568.02     12               20              0.0   \n",
       "1354     1292  surf          455.95      8               20             34.0   \n",
       "1358     1292  surf          432.07     12               20             21.0   \n",
       "1125     1240  surf          404.83      8               20            117.0   \n",
       "1356     1292  surf          385.26     10               20             30.0   \n",
       "1127     1240  surf          380.28     10               20            125.0   \n",
       "1129     1240  surf          374.17     12               20            126.0   \n",
       "931      1194  surf          368.97     11               20              0.0   \n",
       "1958     1418  surf          359.42     12               20             33.0   \n",
       "\n",
       "      calls_duration_minutes  minutes_included  usd_per_minute  msg_sent  \\\n",
       "1751                  994.70               500            0.03     126.0   \n",
       "568                     0.00               500            0.03      97.0   \n",
       "1354                  281.32               500            0.03       0.0   \n",
       "1358                  132.65               500            0.03       0.0   \n",
       "1125                 1014.18               500            0.03      15.0   \n",
       "1356                  290.79               500            0.03       0.0   \n",
       "1127                 1129.04               500            0.03       9.0   \n",
       "1129                 1055.41               500            0.03      18.0   \n",
       "931                     0.00               500            0.03      62.0   \n",
       "1958                  279.32               500            0.03       0.0   \n",
       "\n",
       "      messages_included  usd_per_message    gb_used  gb_per_month_included  \\\n",
       "1751                 50             0.03  65.245469                   15.0   \n",
       "568                  50             0.03  61.661113                   15.0   \n",
       "1354                 50             0.03  50.595068                   15.0   \n",
       "1358                 50             0.03  48.206748                   15.0   \n",
       "1125                 50             0.03  43.940459                   15.0   \n",
       "1356                 50             0.03  43.525557                   15.0   \n",
       "1127                 50             0.03  41.141445                   15.0   \n",
       "1129                 50             0.03  40.751143                   15.0   \n",
       "931                  50             0.03  41.861426                   15.0   \n",
       "1958                 50             0.03  40.942080                   15.0   \n",
       "\n",
       "      usd_per_gb  \n",
       "1751          10  \n",
       "568           10  \n",
       "1354          10  \n",
       "1358          10  \n",
       "1125          10  \n",
       "1356          10  \n",
       "1127          10  \n",
       "1129          10  \n",
       "931           10  \n",
       "1958          10  "
      ]
     },
     "execution_count": 145,
     "metadata": {},
     "output_type": "execute_result"
    }
   ],
   "source": [
    "# top 10\n",
    "top_10_spenders = df.sort_values(by='monthly_income', ascending=False).head(10)\n",
    "top_10_spenders"
   ]
  },
  {
   "cell_type": "code",
   "execution_count": 146,
   "metadata": {
    "id": "uhxzMAwObRDX"
   },
   "outputs": [
    {
     "data": {
      "image/png": "[encoded data removed]",
      "text/plain": [
       "<Figure size 1500x600 with 2 Axes>"
      ]
     },
     "metadata": {},
     "output_type": "display_data"
    }
   ],
   "source": [
    "# distribuição de monthly_income\n",
    "color_surf = '#181f4c'\n",
    "color_ultimate = '#8e0000'\n",
    "alpha = 1\n",
    "\n",
    "fig, axs = plt.subplots(1, 2, figsize=(15, 6))\n",
    "axs[0].hist(income_surf, bins=20, color=color_surf, alpha=alpha, label='Plano Surf', density=True)\n",
    "axs[0].set_title('Histograma de monthly_income')\n",
    "axs[0].set_xlabel('USD')\n",
    "axs[0].set_ylabel('Frequência')\n",
    "axs[0].legend()\n",
    "\n",
    "axs[1].hist(income_ultimate, bins=20, color=color_ultimate, alpha=alpha, label='Plano Ultimate', density=True)\n",
    "axs[1].set_title('Histograma de monthly_income')\n",
    "axs[1].set_xlabel('USD')\n",
    "axs[1].set_ylabel('Frequência')\n",
    "axs[1].legend()\n",
    "\n",
    "plt.tight_layout()\n",
    "plt.show()"
   ]
  },
  {
   "cell_type": "markdown",
   "metadata": {},
   "source": [
    "### Overview de montly_income."
   ]
  },
  {
   "cell_type": "markdown",
   "metadata": {
    "id": "UFpPVZalbRDX"
   },
   "source": [
    "- usuários do plano de surf tendem a ultrapassar os limites do seu plano com mais frequência\n",
    "- um usuário do plano surf chegou a pagar mais de $600\n",
    "- ultimaters frequentemente se mantém dentro dos limites dos pacotes contratados"
   ]
  },
  {
   "cell_type": "markdown",
   "metadata": {},
   "source": [
    "<div class=\"alert alert-block alert-warning\">\n",
    "<b> Comentário do revisor: </b> <a class=\"tocSkip\"></a>\n",
    "\n",
    "Os resultados dessa análise podem ser afetados pelo `inner` join feito em uma etapa anterior. Vamos revisitar após o ajuste.\n",
    "\n",
    "</div>"
   ]
  },
  {
   "cell_type": "markdown",
   "metadata": {
    "id": "QNA8gzUJbRDX"
   },
   "source": [
    "## Testando Hipóteses."
   ]
  },
  {
   "cell_type": "markdown",
   "metadata": {},
   "source": [
    "### Hipótese de que as receitas médias dos usuários dos planos Ultimate e Surf são diferentes."
   ]
  },
  {
   "cell_type": "markdown",
   "metadata": {},
   "source": [
    "Definindo:\n",
    "- H0 (Hipótese Nula): A receita média dos usuários dos planos \"Ultimate\" e \"Surf\" são iguais.\n",
    "- H1 (Hipótese Alternativa): A receita média dos usuários dos planos \"Ultimate\" e \"Surf\" são diferentes."
   ]
  },
  {
   "cell_type": "code",
   "execution_count": 147,
   "metadata": {
    "id": "q8403-ErbRDY"
   },
   "outputs": [
    {
     "name": "stdout",
     "output_type": "stream",
     "text": [
      "P-Value: 0.05402816572771812\n",
      "Não rejeitamos a hipótese nula (H0): Não há evidência suficiente para concluir que a receita média dos usuários dos planos Ultimate e Surf são diferentes.\n"
     ]
    }
   ],
   "source": [
    "# com alpha de 5%\n",
    "alpha = 0.05\n",
    "sample_1 = df.query('plan == \"surf\"')['monthly_income']\n",
    "sample_2 = df.query('plan == \"ultimate\"')['monthly_income']\n",
    "\n",
    "t_statistic, p_value = st.ttest_ind(sample_1, sample_2)\n",
    "\n",
    "print(f'P-Value: {p_value}')\n",
    "\n",
    "if p_value < alpha:\n",
    "    print(\"Rejeitamos a hipótese nula (H0): A receita média dos usuários dos planos Ultimate e Surf são diferentes.\")\n",
    "else:\n",
    "    print(\"Não rejeitamos a hipótese nula (H0): Não há evidência suficiente para concluir que a receita média dos usuários dos planos Ultimate e Surf são diferentes.\")"
   ]
  },
  {
   "cell_type": "markdown",
   "metadata": {},
   "source": [
    "<div class=\"alert alert-block alert-success\">\n",
    "<b> Comentário do revisor v2</b> <a class=\"tocSkip\"></a>\n",
    "\n",
    "Você corrigiu corretamente o teste e repare que o valor deu muito próximo do seu limiar de confiança, então se fosse um pouco maior (0.1, por exemplo), o seu teste daria válido. Esse tipo de problema quando o valor p resulta em algo muito próximo do limiar é bem comum em experimentos. Lembre-se de se atentar também às premissas do teste estatístico que você está utilizando.\n",
    "</div>"
   ]
  },
  {
   "cell_type": "markdown",
   "metadata": {},
   "source": [
    "### Vamos aplicar o método Bootstrapping."
   ]
  },
  {
   "cell_type": "code",
   "execution_count": 148,
   "metadata": {},
   "outputs": [],
   "source": [
    "# médias observadas\n",
    "observed_diff = np.mean(sample_1) - np.mean(sample_2)"
   ]
  },
  {
   "cell_type": "code",
   "execution_count": 149,
   "metadata": {},
   "outputs": [],
   "source": [
    "# ciclo for com mil amostras e reposição\n",
    "bootstrap_diffs = []\n",
    "num_bootstraps = 1000\n",
    "\n",
    "for i in range(num_bootstraps):\n",
    "    bootstrap_sample_1 = np.random.choice(sample_1, len(sample_1), replace=True)\n",
    "    bootstrap_sample_2 = np.random.choice(sample_2, len(sample_2), replace=True)\n",
    "    \n",
    "    bootstrap_diff = np.mean(bootstrap_sample_1) - np.mean(bootstrap_sample_2)\n",
    "    bootstrap_diffs.append(bootstrap_diff)"
   ]
  },
  {
   "cell_type": "code",
   "execution_count": 150,
   "metadata": {},
   "outputs": [
    {
     "name": "stdout",
     "output_type": "stream",
     "text": [
      "Não rejeitamos a hipótese nula (H0): Não há evidência suficiente para concluir que a receita média dos usuários dos planos Ultimate e Surf são diferentes.\n"
     ]
    }
   ],
   "source": [
    "# intervalo de confiança de 95%\n",
    "confidence_interval = np.percentile(bootstrap_diffs, [2.5, 97.5])\n",
    "\n",
    "if confidence_interval[0] <= observed_diff <= confidence_interval[1]:\n",
    "    print(\"Não rejeitamos a hipótese nula (H0): Não há evidência suficiente para concluir que a receita média dos usuários dos planos Ultimate e Surf são diferentes.\")\n",
    "else:\n",
    "    print(\"Rejeitamos a hipótese nula (H0): A receita média dos usuários dos planos Ultimate e Surf são diferentes.\")"
   ]
  },
  {
   "cell_type": "markdown",
   "metadata": {},
   "source": [
    "<div class=\"alert alert-block alert-danger\">\n",
    "<b> Comentário do revisor: </b> <a class=\"tocSkip\"></a>\n",
    "\n",
    "Aqui tem um pequeno ajuste de interpretação: a hipótese nula é rejeitada quando o valor de p (p-value) é menor do que `alpha` e não o contrário. Em outras palavras, você só consegue afirmar que a receita não é igual (sua hipótese alternativa) se o p-value for menor do que 0.05. Além disso, esse resultado pode ser afetado pelo join mencionado anteriormente, vamos revisitar esse teste após o ajuste.\n",
    "\n",
    "<br>\n",
    "    \n",
    "Aqui está uma referência para te ajudar com testes de hipótese: https://towardsdatascience.com/hypothesis-testing-with-python-step-by-step-hands-on-tutorial-with-practical-examples-e805975ea96e. \n",
    "    \n",
    "    \n",
    "<br> \n",
    "    \n",
    "Por fim, sempre verifique quais são as premissas do teste que você está executando e se ele realmente se aplica ao seu problema. Uma abordagem interessante também para testar se há diferença entre grupos é calcular intervalos de confiança via boostrapping: https://www.statology.org/bootstrapping-in-python/. \n",
    "</div>"
   ]
  },
  {
   "cell_type": "markdown",
   "metadata": {},
   "source": [
    "<div class=\"alert alert-block alert-success\">\n",
    "<b> Comentário do revisor v2</b> <a class=\"tocSkip\"></a>\n",
    "\n",
    "O bootstrapping é uma técnica muito útil para gerar distribuições que seguem a distribuição normal (usando como conceito o teorema central do limite) e calcular intervalos de confiança.\n",
    "    \n",
    "Você poderia também gerar a sua amostra de bootstrapping dessa forma, sem precisar do loop:\n",
    "    \n",
    "```python\n",
    "    bs = st.bootstrap(\n",
    "    (data.tolist(),),\n",
    "    np.mean,\n",
    "    batch=1000,\n",
    "    confidence_level=0.95,\n",
    "    random_state=1,\n",
    "    method='percentile'\n",
    ")\n",
    "```    \n",
    "\n",
    "E acessar o intervalo de confiança assim:\n",
    "    \n",
    "```python\n",
    "bs.confidence_interval\n",
    "```\n",
    "</div>"
   ]
  },
  {
   "cell_type": "markdown",
   "metadata": {},
   "source": [
    "### Testando a hipótese de que a receita média dos usuários da área de NY-NJ é diferente dos usuários das demais regiões."
   ]
  },
  {
   "cell_type": "markdown",
   "metadata": {},
   "source": [
    "Definindo:\n",
    "- Hipótese Nula (H0): A receita média dos usuários da área de NY-NJ é igual à receita média dos usuários das demais regiões.\n",
    "- Hipótese Alternativa (H1): A receita média dos usuários da área de NY-NJ é diferente da receita média dos usuários das demais regiões."
   ]
  },
  {
   "cell_type": "code",
   "execution_count": 151,
   "metadata": {},
   "outputs": [],
   "source": [
    "# trazendo informações da cidade dos usuários\n",
    "df_city = df_users[['user_id', 'city', 'exited']]"
   ]
  },
  {
   "cell_type": "code",
   "execution_count": 152,
   "metadata": {},
   "outputs": [],
   "source": [
    "# merge no df\n",
    "df = df.merge(df_city, on='user_id')"
   ]
  },
  {
   "cell_type": "code",
   "execution_count": 153,
   "metadata": {
    "id": "uy_R1cxQbRDY"
   },
   "outputs": [
    {
     "name": "stdout",
     "output_type": "stream",
     "text": [
      "P-Value: 0.684024445572532\n",
      "Não rejeitar a hipótese nula.\n",
      "Não há evidências estatísticas suficientes para concluir que a receita média difere entre os grupos.\n"
     ]
    }
   ],
   "source": [
    "# Testando hipótese\n",
    "alpha = 0.05\n",
    "samp_1 = df[df['city'].str.contains('NY-NJ')]['monthly_income']\n",
    "samp_2 = df.query('city != \"New York-Newark-Jersey City, NY-NJ-PA MSA\"')['monthly_income']\n",
    "\n",
    "results = st.ttest_ind(samp_1, samp_2, equal_var=False)\n",
    "p_value = results.pvalue\n",
    "print(f\"P-Value: {p_value}\")\n",
    "\n",
    "if p_value < alpha:\n",
    "    print(\"Rejeitar a hipótese nula.\")\n",
    "    print(\"Há evidências estatísticas de que a receita média dos usuários da área de NY-NJ difere dos usuários das demais regiões.\")\n",
    "else:\n",
    "    print(\"Não rejeitar a hipótese nula.\")\n",
    "    print(\"Não há evidências estatísticas suficientes para concluir que a receita média difere entre os grupos.\")"
   ]
  },
  {
   "cell_type": "markdown",
   "metadata": {
    "id": "WdG9xGwhbRDY"
   },
   "source": [
    "## Conclusão geral"
   ]
  },
  {
   "cell_type": "markdown",
   "metadata": {
    "id": "-6YXr-4SbRDY"
   },
   "source": [
    "- Dataset interessante de se trabalhar e buscar insights.\n",
    "- Foi necessário um longo trabalho de tratamento e limpeza dos dados e ainda realizar algumas junções entre as planilhas que se encontravam separadas.\n",
    "- Após o trabalho de inicial partimos para uma análise exploratória e geramos alguns gráficos para melhor visualização do cenário\n",
    "- Aproximadamente 6.8% dos usuários deste dataset sofreram churn\n",
    "- As idades do usuários dos 18 até 75 anos, mas tanto a média e mediana, para ambos os planos estão muito próximas de 46 anos\n",
    "- 67% dos usuários deste dataset eram assinantes do plano Surf, o qual possuía menor valor de assinatura\n",
    "- A média de duração das chamadas é de 6.74 minutos e a mediana de 5.98 minutos\n",
    "- Aproximadamente 20% do dataset das chamadas tinham como 0 minutos. Seriam ligações não completadas ou que caíram por problemas técnicos da operadora?\n",
    "- todas as colunas que eram informações de data e hora tiveram que ser transformadas para data/hora do formato python\n",
    "- agregamos todos os datasets com merge\n",
    "- criamos funções para cálculos das receitas mensais para cada usuário por plano\n",
    "- existe uma sazonalidade entre os planos, chamadas, envio de mensagens e uso de internet\n",
    "- foi realizado um teste de hipótese com alpha de 5% no qual resultou na informação de que não há evidência suficiente para concluir que a receita média dos usuários dos planos Ultimate e Surf são diferentes\n",
    "- realizamos também um método de bootstrapping para validarmos melhor o nosso teste de hipótese sobre os usuários dos planos Surf e Ultimate\n",
    "- outra hipótese levantada foi de que a receita média gerada pelos usuários das regiões NY e NJ eram diferentes aos de outras regiões, mas não houve evidências estatísticas suficientes para concluir que a receita média difere entre os grupos."
   ]
  },
  {
   "cell_type": "markdown",
   "metadata": {},
   "source": [
    "<div class=\"alert alert-block alert-danger\">\n",
    "<b> Comentário geral do revisor v1</b> <a class=\"tocSkip\"></a>\n",
    "\n",
    "Obrigado por enviar o seu projeto e pelo esforço de chegar até aqui. O seu projeto possui alguns pontos bem interessantes, dos quais eu destaco:\n",
    "    \n",
    " - Código bem simples e estruturado usando funções\n",
    " - Comentários sucintos e bem objetivos\n",
    " - Gráficos e cálculos estatístiscos bem informativos\n",
    " - Conclusões pertinentes em cada análise e etapa de avaliação\n",
    "    \n",
    "Entretanto, deixei alguns comentários em alguns trechos que precisam de ajuste. Em resumo, precisamos:\n",
    "- Calcular o desvio padrão para métricas que você calculou a média e a variância\n",
    "- Detalhar qual a estratégia para tratar atributos com outliers\n",
    "- Ajustar o `join` para não descartar usuários que não sejam contemplados em outras tabelas/conjuntos de dados\n",
    "- Ajustar o teste de hipótese para refletir o cenário correto de suporte ou rejeição da hipótese nula\n",
    "- Revisitar suas análises após o ajuste no `join`, pois os resultados podem mudar.\n",
    "    \n",
    "Qualquer dúvida, pode contar comigo.   \n",
    "    \n",
    "    \n",
    "**Até breve!**\n",
    "\n",
    "</div>\n"
   ]
  },
  {
   "cell_type": "markdown",
   "metadata": {},
   "source": [
    "<div class=\"alert alert-block alert-info\">\n",
    "<b>Resposta do Aluno.</b> <a class=\"tocSkip\"></a>\n",
    "\n",
    "- Obrigado Luiz pelas dicas e links que foram essenciais para que assim eu pudesse melhorar o meu projeto e aprender sobre o bootstrapping\n",
    "- Espero que tenha solucionado todas as questões pendentes\n",
    "- Aguardo confiante que estarei apto a ir para o Project 5!\n",
    "- Quero usar este Project 4 no meu portfólio, caso tenhas melhorias a serem feitas, por gentileza, faça os devidos comentários\n",
    "\n",
    "Até mais!!!\n",
    "\n",
    "</div>"
   ]
  },
  {
   "cell_type": "markdown",
   "metadata": {},
   "source": [
    "<div class=\"alert alert-block alert-success\">\n",
    "<b> Comentário do revisor v2</b> <a class=\"tocSkip\"></a>\n",
    "\n",
    "Parabéns pelo esforço para corrigir os pontos sugeridos no seu projeto, o resultado final ficou bem legal! Acredito que você está no caminho certo, lembre-se de se atentar aos pontos que foram discutidos nesse projeto, pois eles podem alterar os resultados do seu estudo e influenciar nas suas conclusões.\n",
    "    \n",
    "<br>\n",
    "    \n",
    "Para te dar uma sugestão para projetos futuros, busque sempre fazer uma análise estatística bem embasada, calculando parâmetros como média, variância e desvio padrão, além de plotar gráficos como boxplot e distplot, como você fez nesse projeto. Testes estatísticos de hipótese também são essenciais para você embasar fortemente suas conclusões. Lembre-se que a média de 2 grupos ser diferente não necessariamente implica que exista uma diferença (a diferença pode ser puro acaso amostral) até você executar corretamente um teste de hipóteses entre os grupos! \n",
    "        \n",
    "<br> \n",
    "    \n",
    "    \n",
    "Espero que você tenha uma jornada de muito aprendizado e te de desejo muito sucesso. Pode contar comigo.\n",
    "  \n",
    "<br>\n",
    "    \n",
    "Obs.: Esse é um ótimo projeto para portifólio! \n",
    "  \n",
    "<br>\n",
    "    \n",
    "**Até breve!**\n",
    "\n",
    "</div>\n"
   ]
  }
 ],
 "metadata": {
  "ExecuteTimeLog": [
   {
    "duration": 828,
    "start_time": "2021-11-16T09:21:11.304Z"
   },
   {
    "duration": 893,
    "start_time": "2021-11-16T09:21:17.728Z"
   },
   {
    "duration": 1150,
    "start_time": "2021-11-16T09:21:29.568Z"
   },
   {
    "duration": 3,
    "start_time": "2021-11-16T09:24:14.495Z"
   },
   {
    "duration": 120,
    "start_time": "2021-11-16T09:24:46.630Z"
   },
   {
    "duration": 3,
    "start_time": "2021-11-16T09:28:27.882Z"
   },
   {
    "duration": 4,
    "start_time": "2021-11-16T09:29:54.281Z"
   },
   {
    "duration": 3,
    "start_time": "2021-11-16T09:30:45.936Z"
   },
   {
    "duration": 4,
    "start_time": "2021-11-16T09:31:06.300Z"
   },
   {
    "duration": 113,
    "start_time": "2021-11-16T09:31:37.208Z"
   },
   {
    "duration": 143,
    "start_time": "2021-11-16T09:31:48.656Z"
   },
   {
    "duration": 98,
    "start_time": "2021-11-16T09:31:55.678Z"
   },
   {
    "duration": 3,
    "start_time": "2021-11-16T09:32:08.535Z"
   },
   {
    "duration": 111,
    "start_time": "2021-11-16T09:32:10.120Z"
   },
   {
    "duration": 3,
    "start_time": "2021-11-16T09:32:15.732Z"
   },
   {
    "duration": 4,
    "start_time": "2021-11-16T09:32:29.423Z"
   },
   {
    "duration": 3,
    "start_time": "2021-11-16T10:03:03.074Z"
   },
   {
    "duration": 3,
    "start_time": "2021-11-16T10:10:01.288Z"
   },
   {
    "duration": 3,
    "start_time": "2021-11-16T10:10:46.923Z"
   },
   {
    "duration": 121,
    "start_time": "2021-11-16T10:37:46.494Z"
   },
   {
    "duration": 125,
    "start_time": "2021-11-16T10:38:20.632Z"
   },
   {
    "duration": 112,
    "start_time": "2021-11-16T10:46:53.001Z"
   },
   {
    "duration": 110,
    "start_time": "2021-11-16T10:48:25.775Z"
   },
   {
    "duration": 3,
    "start_time": "2021-11-16T10:50:18.720Z"
   },
   {
    "duration": 4,
    "start_time": "2021-11-16T10:50:37.649Z"
   },
   {
    "duration": 2,
    "start_time": "2021-11-16T10:50:51.884Z"
   },
   {
    "duration": 3,
    "start_time": "2021-11-16T10:51:56.237Z"
   },
   {
    "duration": 101,
    "start_time": "2021-11-16T10:53:13.791Z"
   },
   {
    "duration": 3,
    "start_time": "2021-11-16T10:55:59.186Z"
   },
   {
    "duration": 3,
    "start_time": "2021-11-16T10:56:10.751Z"
   },
   {
    "duration": 3,
    "start_time": "2021-11-16T10:56:49.038Z"
   },
   {
    "duration": 3,
    "start_time": "2021-11-16T10:56:49.174Z"
   },
   {
    "duration": 4,
    "start_time": "2021-11-16T10:56:49.414Z"
   },
   {
    "duration": 3,
    "start_time": "2021-11-16T10:56:49.680Z"
   },
   {
    "duration": 3,
    "start_time": "2021-11-16T10:56:50.370Z"
   },
   {
    "duration": 114,
    "start_time": "2021-11-16T10:59:34.518Z"
   },
   {
    "duration": 3,
    "start_time": "2021-11-16T11:01:41.201Z"
   },
   {
    "duration": 116,
    "start_time": "2021-11-16T11:01:48.754Z"
   },
   {
    "duration": 3,
    "start_time": "2021-11-16T11:02:16.685Z"
   },
   {
    "duration": 3,
    "start_time": "2021-11-16T11:02:19.479Z"
   },
   {
    "duration": 3,
    "start_time": "2021-11-16T11:02:47.067Z"
   },
   {
    "duration": 3,
    "start_time": "2021-11-16T11:02:49.353Z"
   },
   {
    "duration": 3,
    "start_time": "2021-11-16T11:03:07.835Z"
   },
   {
    "duration": 3,
    "start_time": "2021-11-16T11:03:07.953Z"
   },
   {
    "duration": 112,
    "start_time": "2021-11-16T11:07:52.072Z"
   },
   {
    "duration": 187,
    "start_time": "2021-11-16T11:09:23.468Z"
   },
   {
    "duration": 4,
    "start_time": "2021-11-16T11:10:01.455Z"
   },
   {
    "duration": 3,
    "start_time": "2021-11-16T11:10:05.069Z"
   },
   {
    "duration": 4,
    "start_time": "2021-11-16T11:10:13.376Z"
   },
   {
    "duration": 3,
    "start_time": "2021-11-16T11:10:14.434Z"
   },
   {
    "duration": 3,
    "start_time": "2021-11-16T11:10:22.853Z"
   },
   {
    "duration": 4,
    "start_time": "2021-11-16T11:27:29.279Z"
   },
   {
    "duration": 4,
    "start_time": "2021-11-16T11:29:08.919Z"
   },
   {
    "duration": 118,
    "start_time": "2021-11-16T11:29:46.703Z"
   },
   {
    "duration": 437,
    "start_time": "2021-11-16T11:36:02.181Z"
   },
   {
    "duration": 157,
    "start_time": "2021-11-16T11:36:14.388Z"
   },
   {
    "duration": 207,
    "start_time": "2021-11-16T11:47:15.898Z"
   },
   {
    "duration": 3,
    "start_time": "2021-11-16T11:53:52.092Z"
   },
   {
    "duration": 3,
    "start_time": "2021-11-16T11:53:52.236Z"
   },
   {
    "duration": 3,
    "start_time": "2021-11-16T11:59:12.005Z"
   },
   {
    "duration": 112,
    "start_time": "2021-11-16T12:00:33.446Z"
   },
   {
    "duration": 3,
    "start_time": "2021-11-16T12:02:14.453Z"
   },
   {
    "duration": 3,
    "start_time": "2021-11-16T12:02:39.512Z"
   },
   {
    "duration": 106,
    "start_time": "2021-11-16T12:03:03.460Z"
   },
   {
    "duration": 3,
    "start_time": "2021-11-17T20:37:21.139Z"
   },
   {
    "duration": 3,
    "start_time": "2021-11-17T20:37:22.229Z"
   },
   {
    "duration": 3,
    "start_time": "2021-11-17T20:38:38.806Z"
   },
   {
    "duration": 3,
    "start_time": "2021-11-17T20:38:41.958Z"
   },
   {
    "duration": 3,
    "start_time": "2021-11-17T20:43:46.551Z"
   },
   {
    "duration": 4,
    "start_time": "2021-11-17T20:58:21.835Z"
   },
   {
    "duration": 3,
    "start_time": "2021-11-17T20:59:21.872Z"
   },
   {
    "duration": 4,
    "start_time": "2021-11-17T20:59:45.352Z"
   },
   {
    "duration": 4,
    "start_time": "2021-11-17T20:59:49.646Z"
   },
   {
    "duration": 159,
    "start_time": "2021-11-17T21:02:26.949Z"
   },
   {
    "duration": 3,
    "start_time": "2021-11-17T21:03:53.461Z"
   },
   {
    "duration": 3,
    "start_time": "2021-11-17T21:03:53.694Z"
   },
   {
    "duration": 3,
    "start_time": "2021-11-17T21:05:28.145Z"
   },
   {
    "duration": 116,
    "start_time": "2021-11-17T21:05:57.787Z"
   },
   {
    "duration": 3,
    "start_time": "2021-11-17T21:06:37.993Z"
   },
   {
    "duration": 3,
    "start_time": "2021-11-17T21:06:38.261Z"
   },
   {
    "duration": 3,
    "start_time": "2021-11-17T21:11:54.358Z"
   },
   {
    "duration": 3,
    "start_time": "2021-11-17T21:12:43.846Z"
   },
   {
    "duration": 4,
    "start_time": "2021-11-17T21:13:08.773Z"
   },
   {
    "duration": 3,
    "start_time": "2021-11-17T21:14:44.441Z"
   },
   {
    "duration": 3,
    "start_time": "2021-11-17T21:15:42.059Z"
   },
   {
    "duration": 4,
    "start_time": "2021-11-17T21:15:51.995Z"
   },
   {
    "duration": 3,
    "start_time": "2021-11-17T21:15:53.923Z"
   },
   {
    "duration": 3,
    "start_time": "2021-11-17T21:15:55.282Z"
   },
   {
    "duration": 3,
    "start_time": "2021-11-17T21:16:28.492Z"
   },
   {
    "duration": 3,
    "start_time": "2021-11-17T21:16:32.603Z"
   },
   {
    "duration": 3,
    "start_time": "2021-11-17T21:17:06.941Z"
   },
   {
    "duration": 98,
    "start_time": "2021-11-17T21:18:05.733Z"
   },
   {
    "duration": 4,
    "start_time": "2021-11-17T21:21:35.255Z"
   },
   {
    "duration": 3,
    "start_time": "2021-11-17T21:21:37.804Z"
   },
   {
    "duration": 4,
    "start_time": "2021-11-17T21:23:06.071Z"
   },
   {
    "duration": 3,
    "start_time": "2021-11-17T21:23:24.799Z"
   },
   {
    "duration": 3,
    "start_time": "2021-11-17T21:23:32.591Z"
   },
   {
    "duration": 98,
    "start_time": "2021-11-17T21:28:31.559Z"
   },
   {
    "duration": 3,
    "start_time": "2021-11-17T21:28:45.448Z"
   },
   {
    "duration": 3,
    "start_time": "2021-11-17T21:29:17.303Z"
   },
   {
    "duration": 3,
    "start_time": "2021-11-17T21:29:29.617Z"
   },
   {
    "duration": 3,
    "start_time": "2021-11-17T21:29:32.681Z"
   },
   {
    "duration": 3,
    "start_time": "2021-11-17T21:36:11.474Z"
   },
   {
    "duration": 3,
    "start_time": "2021-11-17T21:36:14.791Z"
   },
   {
    "duration": 3,
    "start_time": "2021-11-17T21:36:53.943Z"
   },
   {
    "duration": 3,
    "start_time": "2021-11-17T21:36:56.165Z"
   },
   {
    "duration": 4,
    "start_time": "2021-11-17T21:37:16.590Z"
   },
   {
    "duration": 3,
    "start_time": "2021-11-17T21:37:22.702Z"
   },
   {
    "duration": 4,
    "start_time": "2021-11-17T21:38:03.479Z"
   },
   {
    "duration": 3,
    "start_time": "2021-11-17T21:38:08.601Z"
   },
   {
    "duration": 3,
    "start_time": "2021-11-17T21:38:12.928Z"
   },
   {
    "duration": 3,
    "start_time": "2021-11-17T21:38:48.896Z"
   },
   {
    "duration": 2,
    "start_time": "2021-11-17T21:38:49.171Z"
   },
   {
    "duration": 4,
    "start_time": "2021-11-17T21:39:57.889Z"
   },
   {
    "duration": 3,
    "start_time": "2021-11-17T21:39:58.057Z"
   },
   {
    "duration": 3,
    "start_time": "2021-11-17T21:41:20.108Z"
   },
   {
    "duration": 3,
    "start_time": "2021-11-17T21:41:20.629Z"
   },
   {
    "duration": 3,
    "start_time": "2021-11-17T21:42:49.136Z"
   },
   {
    "duration": 3,
    "start_time": "2021-11-17T21:43:15.137Z"
   },
   {
    "duration": 4,
    "start_time": "2021-11-17T21:43:16.766Z"
   },
   {
    "duration": 4,
    "start_time": "2021-11-17T21:43:31.711Z"
   },
   {
    "duration": 3,
    "start_time": "2021-11-17T21:43:36.312Z"
   },
   {
    "duration": 4,
    "start_time": "2021-11-17T21:45:08.825Z"
   },
   {
    "duration": 4,
    "start_time": "2021-11-17T21:45:10.119Z"
   },
   {
    "duration": 4,
    "start_time": "2021-11-17T21:45:13.748Z"
   },
   {
    "duration": 3,
    "start_time": "2021-11-17T21:45:22.219Z"
   },
   {
    "duration": 3,
    "start_time": "2021-11-17T21:45:33.412Z"
   },
   {
    "duration": 2,
    "start_time": "2021-11-17T21:46:01.885Z"
   },
   {
    "duration": 3,
    "start_time": "2021-11-17T21:46:03.628Z"
   },
   {
    "duration": 107,
    "start_time": "2021-11-17T21:47:32.512Z"
   },
   {
    "duration": 103,
    "start_time": "2021-11-17T21:50:36.243Z"
   },
   {
    "duration": 3,
    "start_time": "2021-11-18T06:28:31.440Z"
   },
   {
    "duration": 3,
    "start_time": "2021-11-18T06:29:00.168Z"
   },
   {
    "duration": 3,
    "start_time": "2021-11-18T06:31:27.008Z"
   },
   {
    "duration": 2,
    "start_time": "2021-11-18T06:35:34.288Z"
   },
   {
    "duration": 2,
    "start_time": "2021-11-18T06:38:04.527Z"
   }
  ],
  "colab": {
   "provenance": []
  },
  "kernelspec": {
   "display_name": "Python 3 (ipykernel)",
   "language": "python",
   "name": "python3"
  },
  "language_info": {
   "codemirror_mode": {
    "name": "ipython",
    "version": 3
   },
   "file_extension": ".py",
   "mimetype": "text/x-python",
   "name": "python",
   "nbconvert_exporter": "python",
   "pygments_lexer": "ipython3",
   "version": "3.11.4"
  },
  "toc": {
   "base_numbering": 1,
   "nav_menu": {},
   "number_sections": true,
   "sideBar": true,
   "skip_h1_title": false,
   "title_cell": "Table of Contents",
   "title_sidebar": "Contents",
   "toc_cell": false,
   "toc_position": {},
   "toc_section_display": true,
   "toc_window_display": false
  }
 },
 "nbformat": 4,
 "nbformat_minor": 1
}
